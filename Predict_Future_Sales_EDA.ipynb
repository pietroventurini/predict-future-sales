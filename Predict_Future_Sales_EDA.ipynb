{
  "nbformat": 4,
  "nbformat_minor": 5,
  "metadata": {
    "kernelspec": {
      "display_name": "Python 3",
      "language": "python",
      "name": "python3"
    },
    "language_info": {
      "codemirror_mode": {
        "name": "ipython",
        "version": 3
      },
      "file_extension": ".py",
      "mimetype": "text/x-python",
      "name": "python",
      "nbconvert_exporter": "python",
      "pygments_lexer": "ipython3",
      "version": "3.8.6"
    },
    "colab": {
      "name": "Predict Future Sales - EDA.ipynb",
      "provenance": [],
      "collapsed_sections": [
        "GFnyFuVvFioB",
        "ZwHztu2shSIu",
        "TQ_omzd5jetY",
        "kPrq7lK7dplx",
        "w1aKjPgoj9Yi",
        "Dm11wDi0CCI9"
      ],
      "include_colab_link": true
    }
  },
  "cells": [
    {
      "cell_type": "markdown",
      "metadata": {
        "id": "view-in-github",
        "colab_type": "text"
      },
      "source": [
        "<a href=\"https://colab.research.google.com/github/pietroventurini/predict-future-sales/blob/grid-v1/Predict_Future_Sales_EDA.ipynb\" target=\"_parent\"><img src=\"https://colab.research.google.com/assets/colab-badge.svg\" alt=\"Open In Colab\"/></a>"
      ]
    },
    {
      "cell_type": "markdown",
      "metadata": {
        "id": "driving-forwarding"
      },
      "source": [
        "# Kaggle competition: Predict Future Sales"
      ],
      "id": "driving-forwarding"
    },
    {
      "cell_type": "markdown",
      "metadata": {
        "id": "Ll_9znW2HvqB"
      },
      "source": [
        "TODO\n",
        "- trattare diversamente items nel test set di cui si ha informazione nel train set da quelli che non compaiono nel train set.\n",
        "- predictions: prima uso _previous value benchmark_ in cui uso vendite del mese di ottobre come proxy di quelle di novembre, poi, senza fare feature engineering provo ad usare un DT model\n",
        "\n",
        "[Questo notebook](https://www.kaggle.com/anqitu/feature-engineer-and-model-ensemble-top-10/code) usa date di novembre 2014 come proxy per Nov 2015."
      ],
      "id": "Ll_9znW2HvqB"
    },
    {
      "cell_type": "markdown",
      "metadata": {
        "id": "satellite-peoples"
      },
      "source": [
        "In the [**predict future sales**](https://www.kaggle.com/c/competitive-data-science-predict-future-sales) competition we are working with a time-series dataset consisting of daily sales data. The goal is to predict total sales for every product and store in the next month.\n",
        "\n",
        "We are going to approach the problem in this way:\n",
        "1. **Exploratory data analysis:** take a look at the dataset and perform data cleaning.\n",
        "2. **Feature engineering:** understand which useful information can be extracted from the features.\n",
        "3. **Modelling:** choose a suitable model for the problem.\n",
        "4. **Training:** train the model on the training set\n",
        "5. **Tweaking the model:** tweak the model parameters in order to improve the performances.\n",
        "6. **Model evaluation:** try to predict future sales and evaluate the performances of the model."
      ],
      "id": "satellite-peoples"
    },
    {
      "cell_type": "markdown",
      "metadata": {
        "id": "GFnyFuVvFioB"
      },
      "source": [
        "# Exploratory Data Analysis"
      ],
      "id": "GFnyFuVvFioB"
    },
    {
      "cell_type": "markdown",
      "metadata": {
        "id": "dried-manhattan"
      },
      "source": [
        "\n",
        "\n",
        "Let's start by exploring the content of our dataset. According to the competition description, the training data is provided in 4 different .csv files:\n",
        "\n",
        "- `sales_train.csv` - the training set. Daily historical data from January 2013 to October 2015.\n",
        "- `items.csv` - supplemental information about the items/products.\n",
        "- `item_categories.csv`  - supplemental information about the items categories.\n",
        "- `shops.csv`- supplemental information about the shops.\n",
        "\n",
        "Sales and shops are represented by the following fields:\n",
        "\n",
        "- `ID` - an Id that represents a (Shop, Item) tuple within the test set\n",
        "- `shop_id` - unique identifier of a shop\n",
        "- `item_id` - unique identifier of a product\n",
        "- `item_category_id` - unique identifier of item category\n",
        "- `item_cnt_day` - number of products sold. You are predicting a monthly amount of this measure\n",
        "- `item_price` - current price of an item\n",
        "- `date` - date in format dd/mm/yyyy\n",
        "- `date_block_num` - a consecutive month number, used for convenience. January 2013 is 0, February 2013 is 1,..., October 2015 is 33\n",
        "- `item_name` - name of item\n",
        "- `shop_name` - name of shop\n",
        "- `item_category_name` - name of item category\n",
        "\n",
        "The content of the datasets is in russian, so we may think of translating it into english because many interesting features can be extracted from the names of the products, shops and categories, for instance:\n",
        "- Books - Audio Books\n",
        "- Books - Computer books\n",
        "- Books - …\n",
        "\n",
        "From those names we could build a feature that contains only the top level category. The translation can be done manually using some python libraries (e.g. googletrans), but other competitors have already taken the trouble to translate it for us. Translated datasets can be recognized by the `_en` suffix. However, translation can break the structure of some names (e.g. russian shop names comes in the format `city | type | name`, so by translating them in english we risk to break that structure) and complicate our life when extracting features from them."
      ],
      "id": "dried-manhattan"
    },
    {
      "cell_type": "code",
      "metadata": {
        "id": "equipped-maldives"
      },
      "source": [
        "import numpy as np\n",
        "import pandas as pd\n",
        "import seaborn as sns\n",
        "import matplotlib.pyplot as plt\n",
        "import plotly.express as px"
      ],
      "id": "equipped-maldives",
      "execution_count": 1,
      "outputs": []
    },
    {
      "cell_type": "markdown",
      "metadata": {
        "id": "L2Sm6KgUhZLn"
      },
      "source": [
        "### Loading data"
      ],
      "id": "L2Sm6KgUhZLn"
    },
    {
      "cell_type": "code",
      "metadata": {
        "id": "aggressive-theory",
        "colab": {
          "base_uri": "https://localhost:8080/",
          "height": 224
        },
        "outputId": "6fdb57ab-f83d-492b-bc4c-8015a1c42b92"
      },
      "source": [
        "train = pd.read_csv('./datasets/sales_train.csv')\n",
        "items = pd.read_csv('./datasets/items.csv')\n",
        "categories = pd.read_csv('./datasets/item_categories.csv')\n",
        "shops = pd.read_csv('./datasets/shops.csv')\n",
        "test = pd.read_csv('./datasets/test.csv')\n",
        "\n",
        "train.head(5)"
      ],
      "id": "aggressive-theory",
      "execution_count": 2,
      "outputs": [
        {
          "output_type": "execute_result",
          "data": {
            "text/html": [
              "<div>\n",
              "<style scoped>\n",
              "    .dataframe tbody tr th:only-of-type {\n",
              "        vertical-align: middle;\n",
              "    }\n",
              "\n",
              "    .dataframe tbody tr th {\n",
              "        vertical-align: top;\n",
              "    }\n",
              "\n",
              "    .dataframe thead th {\n",
              "        text-align: right;\n",
              "    }\n",
              "</style>\n",
              "<table border=\"1\" class=\"dataframe\">\n",
              "  <thead>\n",
              "    <tr style=\"text-align: right;\">\n",
              "      <th></th>\n",
              "      <th>date</th>\n",
              "      <th>date_block_num</th>\n",
              "      <th>shop_id</th>\n",
              "      <th>item_id</th>\n",
              "      <th>item_price</th>\n",
              "      <th>item_cnt_day</th>\n",
              "    </tr>\n",
              "  </thead>\n",
              "  <tbody>\n",
              "    <tr>\n",
              "      <th>0</th>\n",
              "      <td>02.01.2013</td>\n",
              "      <td>0</td>\n",
              "      <td>59</td>\n",
              "      <td>22154</td>\n",
              "      <td>999.00</td>\n",
              "      <td>1.0</td>\n",
              "    </tr>\n",
              "    <tr>\n",
              "      <th>1</th>\n",
              "      <td>03.01.2013</td>\n",
              "      <td>0</td>\n",
              "      <td>25</td>\n",
              "      <td>2552</td>\n",
              "      <td>899.00</td>\n",
              "      <td>1.0</td>\n",
              "    </tr>\n",
              "    <tr>\n",
              "      <th>2</th>\n",
              "      <td>05.01.2013</td>\n",
              "      <td>0</td>\n",
              "      <td>25</td>\n",
              "      <td>2552</td>\n",
              "      <td>899.00</td>\n",
              "      <td>-1.0</td>\n",
              "    </tr>\n",
              "    <tr>\n",
              "      <th>3</th>\n",
              "      <td>06.01.2013</td>\n",
              "      <td>0</td>\n",
              "      <td>25</td>\n",
              "      <td>2554</td>\n",
              "      <td>1709.05</td>\n",
              "      <td>1.0</td>\n",
              "    </tr>\n",
              "    <tr>\n",
              "      <th>4</th>\n",
              "      <td>15.01.2013</td>\n",
              "      <td>0</td>\n",
              "      <td>25</td>\n",
              "      <td>2555</td>\n",
              "      <td>1099.00</td>\n",
              "      <td>1.0</td>\n",
              "    </tr>\n",
              "  </tbody>\n",
              "</table>\n",
              "</div>"
            ],
            "text/plain": [
              "         date  date_block_num  shop_id  item_id  item_price  item_cnt_day\n",
              "0  02.01.2013               0       59    22154      999.00           1.0\n",
              "1  03.01.2013               0       25     2552      899.00           1.0\n",
              "2  05.01.2013               0       25     2552      899.00          -1.0\n",
              "3  06.01.2013               0       25     2554     1709.05           1.0\n",
              "4  15.01.2013               0       25     2555     1099.00           1.0"
            ]
          },
          "metadata": {
            "tags": []
          },
          "execution_count": 2
        }
      ]
    },
    {
      "cell_type": "code",
      "metadata": {
        "id": "descending-villa",
        "colab": {
          "base_uri": "https://localhost:8080/"
        },
        "outputId": "be804af8-1b3c-413e-b18a-18aa0592a7ee"
      },
      "source": [
        "print(\"\\n-----------Information-----------\")\n",
        "print(train.info())\n",
        "print(\"\\n----------Null values-----------\")\n",
        "print(train.isnull().sum())\n",
        "print(\"\\n----------Shape of Data----------\")\n",
        "print(train.shape)"
      ],
      "id": "descending-villa",
      "execution_count": 3,
      "outputs": [
        {
          "output_type": "stream",
          "text": [
            "\n",
            "-----------Information-----------\n",
            "<class 'pandas.core.frame.DataFrame'>\n",
            "RangeIndex: 2935849 entries, 0 to 2935848\n",
            "Data columns (total 6 columns):\n",
            " #   Column          Dtype  \n",
            "---  ------          -----  \n",
            " 0   date            object \n",
            " 1   date_block_num  int64  \n",
            " 2   shop_id         int64  \n",
            " 3   item_id         int64  \n",
            " 4   item_price      float64\n",
            " 5   item_cnt_day    float64\n",
            "dtypes: float64(2), int64(3), object(1)\n",
            "memory usage: 134.4+ MB\n",
            "None\n",
            "\n",
            "----------Null values-----------\n",
            "date              0\n",
            "date_block_num    0\n",
            "shop_id           0\n",
            "item_id           0\n",
            "item_price        0\n",
            "item_cnt_day      0\n",
            "dtype: int64\n",
            "\n",
            "----------Shape of Data----------\n",
            "(2935849, 6)\n"
          ],
          "name": "stdout"
        }
      ]
    },
    {
      "cell_type": "markdown",
      "metadata": {
        "id": "ZwHztu2shSIu"
      },
      "source": [
        "### Downcasting"
      ],
      "id": "ZwHztu2shSIu"
    },
    {
      "cell_type": "markdown",
      "metadata": {
        "id": "behind-phase"
      },
      "source": [
        "As we can see from the information block, the training set is 134.4+ MB in size, so, in order to reduce the memory occupation, we can downcast the dataframe from _int64_ and _float64_ to _int16_ and _float32_."
      ],
      "id": "behind-phase"
    },
    {
      "cell_type": "code",
      "metadata": {
        "id": "antique-gender",
        "colab": {
          "base_uri": "https://localhost:8080/"
        },
        "outputId": "49f72430-e6d6-4b3a-f2e6-e1f69ad4d29a"
      },
      "source": [
        "def downcast(df): \n",
        "    float_cols = [c for c in df if df[c].dtype == 'float64']\n",
        "    int_cols = [c for c in df if df[c].dtype in ['int64', 'int32']]\n",
        "    df[float_cols] = df[float_cols].astype(np.float32)\n",
        "    df[int_cols] = df[int_cols].astype(np.int16)\n",
        "    return df\n",
        "\n",
        "train = downcast(train)\n",
        "train.info()"
      ],
      "id": "antique-gender",
      "execution_count": 4,
      "outputs": [
        {
          "output_type": "stream",
          "text": [
            "<class 'pandas.core.frame.DataFrame'>\n",
            "RangeIndex: 2935849 entries, 0 to 2935848\n",
            "Data columns (total 6 columns):\n",
            " #   Column          Dtype  \n",
            "---  ------          -----  \n",
            " 0   date            object \n",
            " 1   date_block_num  int16  \n",
            " 2   shop_id         int16  \n",
            " 3   item_id         int16  \n",
            " 4   item_price      float32\n",
            " 5   item_cnt_day    float32\n",
            "dtypes: float32(2), int16(3), object(1)\n",
            "memory usage: 61.6+ MB\n"
          ],
          "name": "stdout"
        }
      ]
    },
    {
      "cell_type": "markdown",
      "metadata": {
        "id": "aging-median"
      },
      "source": [
        "We have reduced the size of the training set from 134.4 MB down to 61.6+ MB."
      ],
      "id": "aging-median"
    },
    {
      "cell_type": "markdown",
      "metadata": {
        "id": "zxaw3MAEhfvi"
      },
      "source": [
        "## Data cleaning"
      ],
      "id": "zxaw3MAEhfvi"
    },
    {
      "cell_type": "code",
      "metadata": {
        "colab": {
          "base_uri": "https://localhost:8080/",
          "height": 317
        },
        "id": "FU16DvmShg7r",
        "outputId": "bd69827b-6f44-4ebd-9033-e64aed433f24"
      },
      "source": [
        "# remove duplicated rows\n",
        "train = train.drop_duplicates()\n",
        "\n",
        "# view information about prices and sold quantities\n",
        "train[['item_price', 'item_cnt_day']].describe()"
      ],
      "id": "FU16DvmShg7r",
      "execution_count": 5,
      "outputs": [
        {
          "output_type": "execute_result",
          "data": {
            "text/html": [
              "<div>\n",
              "<style scoped>\n",
              "    .dataframe tbody tr th:only-of-type {\n",
              "        vertical-align: middle;\n",
              "    }\n",
              "\n",
              "    .dataframe tbody tr th {\n",
              "        vertical-align: top;\n",
              "    }\n",
              "\n",
              "    .dataframe thead th {\n",
              "        text-align: right;\n",
              "    }\n",
              "</style>\n",
              "<table border=\"1\" class=\"dataframe\">\n",
              "  <thead>\n",
              "    <tr style=\"text-align: right;\">\n",
              "      <th></th>\n",
              "      <th>item_price</th>\n",
              "      <th>item_cnt_day</th>\n",
              "    </tr>\n",
              "  </thead>\n",
              "  <tbody>\n",
              "    <tr>\n",
              "      <th>count</th>\n",
              "      <td>2.935843e+06</td>\n",
              "      <td>2.935843e+06</td>\n",
              "    </tr>\n",
              "    <tr>\n",
              "      <th>mean</th>\n",
              "      <td>8.906237e+02</td>\n",
              "      <td>1.242641e+00</td>\n",
              "    </tr>\n",
              "    <tr>\n",
              "      <th>std</th>\n",
              "      <td>1.726442e+03</td>\n",
              "      <td>2.612216e+00</td>\n",
              "    </tr>\n",
              "    <tr>\n",
              "      <th>min</th>\n",
              "      <td>-1.000000e+00</td>\n",
              "      <td>-2.200000e+01</td>\n",
              "    </tr>\n",
              "    <tr>\n",
              "      <th>25%</th>\n",
              "      <td>2.490000e+02</td>\n",
              "      <td>1.000000e+00</td>\n",
              "    </tr>\n",
              "    <tr>\n",
              "      <th>50%</th>\n",
              "      <td>3.990000e+02</td>\n",
              "      <td>1.000000e+00</td>\n",
              "    </tr>\n",
              "    <tr>\n",
              "      <th>75%</th>\n",
              "      <td>9.990000e+02</td>\n",
              "      <td>1.000000e+00</td>\n",
              "    </tr>\n",
              "    <tr>\n",
              "      <th>max</th>\n",
              "      <td>3.079800e+05</td>\n",
              "      <td>2.169000e+03</td>\n",
              "    </tr>\n",
              "  </tbody>\n",
              "</table>\n",
              "</div>"
            ],
            "text/plain": [
              "         item_price  item_cnt_day\n",
              "count  2.935843e+06  2.935843e+06\n",
              "mean   8.906237e+02  1.242641e+00\n",
              "std    1.726442e+03  2.612216e+00\n",
              "min   -1.000000e+00 -2.200000e+01\n",
              "25%    2.490000e+02  1.000000e+00\n",
              "50%    3.990000e+02  1.000000e+00\n",
              "75%    9.990000e+02  1.000000e+00\n",
              "max    3.079800e+05  2.169000e+03"
            ]
          },
          "metadata": {
            "tags": []
          },
          "execution_count": 5
        }
      ]
    },
    {
      "cell_type": "markdown",
      "metadata": {
        "id": "TuxBNXJICffM"
      },
      "source": [
        "The first thing that catches the eye is the fact that the minimum price and the minimum sold quantity are negative, respectively, the minimum price is -1 and the minimum sold quantity is -22. "
      ],
      "id": "TuxBNXJICffM"
    },
    {
      "cell_type": "markdown",
      "metadata": {
        "id": "TQ_omzd5jetY"
      },
      "source": [
        "### Negative prices"
      ],
      "id": "TQ_omzd5jetY"
    },
    {
      "cell_type": "code",
      "metadata": {
        "colab": {
          "base_uri": "https://localhost:8080/",
          "height": 100
        },
        "id": "MyWv5V1w0Zg3",
        "outputId": "6bf84424-21bb-4d09-912b-e36bc2f52108"
      },
      "source": [
        "# items with price <= 0\n",
        "neg_items = train[train.item_price <= 0]\n",
        "neg_items"
      ],
      "id": "MyWv5V1w0Zg3",
      "execution_count": 6,
      "outputs": [
        {
          "output_type": "execute_result",
          "data": {
            "text/html": [
              "<div>\n",
              "<style scoped>\n",
              "    .dataframe tbody tr th:only-of-type {\n",
              "        vertical-align: middle;\n",
              "    }\n",
              "\n",
              "    .dataframe tbody tr th {\n",
              "        vertical-align: top;\n",
              "    }\n",
              "\n",
              "    .dataframe thead th {\n",
              "        text-align: right;\n",
              "    }\n",
              "</style>\n",
              "<table border=\"1\" class=\"dataframe\">\n",
              "  <thead>\n",
              "    <tr style=\"text-align: right;\">\n",
              "      <th></th>\n",
              "      <th>date</th>\n",
              "      <th>date_block_num</th>\n",
              "      <th>shop_id</th>\n",
              "      <th>item_id</th>\n",
              "      <th>item_price</th>\n",
              "      <th>item_cnt_day</th>\n",
              "    </tr>\n",
              "  </thead>\n",
              "  <tbody>\n",
              "    <tr>\n",
              "      <th>484683</th>\n",
              "      <td>15.05.2013</td>\n",
              "      <td>4</td>\n",
              "      <td>32</td>\n",
              "      <td>2973</td>\n",
              "      <td>-1.0</td>\n",
              "      <td>1.0</td>\n",
              "    </tr>\n",
              "  </tbody>\n",
              "</table>\n",
              "</div>"
            ],
            "text/plain": [
              "              date  date_block_num  shop_id  item_id  item_price  item_cnt_day\n",
              "484683  15.05.2013               4       32     2973        -1.0           1.0"
            ]
          },
          "metadata": {
            "tags": []
          },
          "execution_count": 6
        }
      ]
    },
    {
      "cell_type": "code",
      "metadata": {
        "colab": {
          "base_uri": "https://localhost:8080/",
          "height": 168
        },
        "id": "ViM0BiQud_1g",
        "outputId": "398690af-9111-44dd-87d5-78000b9e10a5"
      },
      "source": [
        "# get details of the item with price < 0\n",
        "neg_item = neg_items.iloc[0]\n",
        "items.loc[items['item_id'] == neg_item['item_id']]"
      ],
      "id": "ViM0BiQud_1g",
      "execution_count": 7,
      "outputs": [
        {
          "output_type": "execute_result",
          "data": {
            "text/html": [
              "<div>\n",
              "<style scoped>\n",
              "    .dataframe tbody tr th:only-of-type {\n",
              "        vertical-align: middle;\n",
              "    }\n",
              "\n",
              "    .dataframe tbody tr th {\n",
              "        vertical-align: top;\n",
              "    }\n",
              "\n",
              "    .dataframe thead th {\n",
              "        text-align: right;\n",
              "    }\n",
              "</style>\n",
              "<table border=\"1\" class=\"dataframe\">\n",
              "  <thead>\n",
              "    <tr style=\"text-align: right;\">\n",
              "      <th></th>\n",
              "      <th>item_name</th>\n",
              "      <th>item_id</th>\n",
              "      <th>item_category_id</th>\n",
              "    </tr>\n",
              "  </thead>\n",
              "  <tbody>\n",
              "    <tr>\n",
              "      <th>2973</th>\n",
              "      <td>DmC Devil May Cry [PS3, русские субтитры]</td>\n",
              "      <td>2973</td>\n",
              "      <td>19</td>\n",
              "    </tr>\n",
              "  </tbody>\n",
              "</table>\n",
              "</div>"
            ],
            "text/plain": [
              "                                      item_name  item_id  item_category_id\n",
              "2973  DmC Devil May Cry [PS3, русские субтитры]     2973                19"
            ]
          },
          "metadata": {
            "tags": []
          },
          "execution_count": 7
        }
      ]
    },
    {
      "cell_type": "markdown",
      "metadata": {
        "id": "IorOnd5k0pRv"
      },
      "source": [
        "Fortunately, there is only one item with a negative price. We could replace it with the median of the prices, but let's try to be more precise. The item in question is a PS3 game. Typically, game prices decreases over time from their release date, and tend to be the same among different sellers. Therefore, let's see if other shops sold the same item in that date (extending the search to the same week or month, if necessary), and use that price as a proxy for our missing value. Otherwise, we could average the price for that item from the same shop in the next few days."
      ],
      "id": "IorOnd5k0pRv"
    },
    {
      "cell_type": "code",
      "metadata": {
        "colab": {
          "base_uri": "https://localhost:8080/",
          "height": 193
        },
        "id": "Ueyd4R1FUWVX",
        "outputId": "cca74964-1e22-41e1-c0af-a2adc3bea311"
      },
      "source": [
        "train[(train['item_id'] == neg_item['item_id']) & (train['date'] == neg_item['date'])]"
      ],
      "id": "Ueyd4R1FUWVX",
      "execution_count": 8,
      "outputs": [
        {
          "output_type": "execute_result",
          "data": {
            "text/html": [
              "<div>\n",
              "<style scoped>\n",
              "    .dataframe tbody tr th:only-of-type {\n",
              "        vertical-align: middle;\n",
              "    }\n",
              "\n",
              "    .dataframe tbody tr th {\n",
              "        vertical-align: top;\n",
              "    }\n",
              "\n",
              "    .dataframe thead th {\n",
              "        text-align: right;\n",
              "    }\n",
              "</style>\n",
              "<table border=\"1\" class=\"dataframe\">\n",
              "  <thead>\n",
              "    <tr style=\"text-align: right;\">\n",
              "      <th></th>\n",
              "      <th>date</th>\n",
              "      <th>date_block_num</th>\n",
              "      <th>shop_id</th>\n",
              "      <th>item_id</th>\n",
              "      <th>item_price</th>\n",
              "      <th>item_cnt_day</th>\n",
              "    </tr>\n",
              "  </thead>\n",
              "  <tbody>\n",
              "    <tr>\n",
              "      <th>453034</th>\n",
              "      <td>15.05.2013</td>\n",
              "      <td>4</td>\n",
              "      <td>25</td>\n",
              "      <td>2973</td>\n",
              "      <td>1249.5</td>\n",
              "      <td>1.0</td>\n",
              "    </tr>\n",
              "    <tr>\n",
              "      <th>469026</th>\n",
              "      <td>15.05.2013</td>\n",
              "      <td>4</td>\n",
              "      <td>46</td>\n",
              "      <td>2973</td>\n",
              "      <td>1249.5</td>\n",
              "      <td>1.0</td>\n",
              "    </tr>\n",
              "    <tr>\n",
              "      <th>469951</th>\n",
              "      <td>15.05.2013</td>\n",
              "      <td>4</td>\n",
              "      <td>45</td>\n",
              "      <td>2973</td>\n",
              "      <td>1249.0</td>\n",
              "      <td>1.0</td>\n",
              "    </tr>\n",
              "    <tr>\n",
              "      <th>484683</th>\n",
              "      <td>15.05.2013</td>\n",
              "      <td>4</td>\n",
              "      <td>32</td>\n",
              "      <td>2973</td>\n",
              "      <td>-1.0</td>\n",
              "      <td>1.0</td>\n",
              "    </tr>\n",
              "  </tbody>\n",
              "</table>\n",
              "</div>"
            ],
            "text/plain": [
              "              date  date_block_num  shop_id  item_id  item_price  item_cnt_day\n",
              "453034  15.05.2013               4       25     2973      1249.5           1.0\n",
              "469026  15.05.2013               4       46     2973      1249.5           1.0\n",
              "469951  15.05.2013               4       45     2973      1249.0           1.0\n",
              "484683  15.05.2013               4       32     2973        -1.0           1.0"
            ]
          },
          "metadata": {
            "tags": []
          },
          "execution_count": 8
        }
      ]
    },
    {
      "cell_type": "code",
      "metadata": {
        "id": "gry4PU3uYLY4"
      },
      "source": [
        "# set the product price to that value\n",
        "train.loc[train.item_price <= 0, 'item_price'] = 1249.0"
      ],
      "id": "gry4PU3uYLY4",
      "execution_count": 9,
      "outputs": []
    },
    {
      "cell_type": "markdown",
      "metadata": {
        "id": "kPrq7lK7dplx"
      },
      "source": [
        "### Negative quantities sold\n",
        "\n",
        "Let's now deal with negative quantities sold. By looking at some of the discussions on the competition page, I've seen that many people considered negative values for `item_cnt_day` as returned items. Let's stick to that interpretation and set them equal to zero."
      ],
      "id": "kPrq7lK7dplx"
    },
    {
      "cell_type": "code",
      "metadata": {
        "id": "vs0XLKs9eU1r"
      },
      "source": [
        "train.loc[train.item_cnt_day < 0, 'item_cnt_day'] = 0"
      ],
      "id": "vs0XLKs9eU1r",
      "execution_count": 10,
      "outputs": []
    },
    {
      "cell_type": "markdown",
      "metadata": {
        "id": "w1aKjPgoj9Yi"
      },
      "source": [
        "### Outliers\n",
        "\n",
        "Let's take a look at the distributions of prices and quantities."
      ],
      "id": "w1aKjPgoj9Yi"
    },
    {
      "cell_type": "code",
      "metadata": {
        "colab": {
          "base_uri": "https://localhost:8080/",
          "height": 54
        },
        "id": "Rvc9PNJgleyV",
        "outputId": "5fd0eb0b-64ca-40e3-fd98-55a5f9aaa1d6"
      },
      "source": [
        "fig, axs = plt.subplots(1, 2, figsize=(22,4))\n",
        "sns.boxplot(x='item_price', data=train, ax=axs[0])\n",
        "sns.boxplot(x='item_cnt_day', data=train, ax=axs[1])\n",
        "axs[0].set_title('Boxplot of item_price')\n",
        "axs[1].set_title('Boxplot of item_cnt_day')\n",
        "plt.show()"
      ],
      "id": "Rvc9PNJgleyV",
      "execution_count": 11,
      "outputs": [
        {
          "output_type": "display_data",
          "data": {
            "image/png": "[encoded data removed]",
            "text/plain": [
              "<Figure size 1584x288 with 2 Axes>"
            ]
          },
          "metadata": {
            "tags": [],
            "needs_background": "light"
          }
        }
      ]
    },
    {
      "cell_type": "markdown",
      "metadata": {
        "id": "VnRVpVi6z8KG"
      },
      "source": [
        "First of all, there is an item with a very large price that we should inspect. Similarly there are few items with a large number of units sold in a single day."
      ],
      "id": "VnRVpVi6z8KG"
    },
    {
      "cell_type": "code",
      "metadata": {
        "colab": {
          "base_uri": "https://localhost:8080/"
        },
        "id": "HEdbZQ5TqJXf",
        "outputId": "2236c1a5-8ddf-411c-91ba-f76696ab00ce"
      },
      "source": [
        "# most expensive item\n",
        "train.loc[train.item_price.idxmax()]"
      ],
      "id": "HEdbZQ5TqJXf",
      "execution_count": 12,
      "outputs": [
        {
          "output_type": "execute_result",
          "data": {
            "text/plain": [
              "date              13.12.2013\n",
              "date_block_num            11\n",
              "shop_id                   12\n",
              "item_id                 6066\n",
              "item_price            307980\n",
              "item_cnt_day               1\n",
              "Name: 1163158, dtype: object"
            ]
          },
          "metadata": {
            "tags": []
          },
          "execution_count": 12
        }
      ]
    },
    {
      "cell_type": "code",
      "metadata": {
        "colab": {
          "base_uri": "https://localhost:8080/"
        },
        "id": "acU_68Dbr2z7",
        "outputId": "45550d82-e3a2-4d9e-800f-86d2bd05b04d"
      },
      "source": [
        "# most sold item in a day\n",
        "train.loc[train.item_cnt_day.idxmax()]"
      ],
      "id": "acU_68Dbr2z7",
      "execution_count": 13,
      "outputs": [
        {
          "output_type": "execute_result",
          "data": {
            "text/plain": [
              "date              28.10.2015\n",
              "date_block_num            33\n",
              "shop_id                   12\n",
              "item_id                11373\n",
              "item_price          0.908714\n",
              "item_cnt_day            2169\n",
              "Name: 2909818, dtype: object"
            ]
          },
          "metadata": {
            "tags": []
          },
          "execution_count": 13
        }
      ]
    },
    {
      "cell_type": "code",
      "metadata": {
        "colab": {
          "base_uri": "https://localhost:8080/",
          "height": 562
        },
        "id": "smtoxaR60hL-",
        "outputId": "4c630a23-fd80-4c02-b307-ab29083b9f60"
      },
      "source": [
        "fig = px.scatter(train.loc[train.item_id == 11373], x='date', y='item_cnt_day', title=\"Quantities of item #11373 (Boxberry delivery) sold every day\")\n",
        "fig.show()"
      ],
      "id": "smtoxaR60hL-",
      "execution_count": 14,
      "outputs": [
        {
          "output_type": "display_data",
          "data": {
            "text/html": [
              "<html>\n",
              "<head><meta charset=\"utf-8\" /></head>\n",
              "<body>\n",
              "    <div>\n",
              "            <script src=\"https://cdnjs.cloudflare.com/ajax/libs/mathjax/2.7.5/MathJax.js?config=TeX-AMS-MML_SVG\"></script><script type=\"text/javascript\">if (window.MathJax) {MathJax.Hub.Config({SVG: {font: \"STIX-Web\"}});}</script>\n",
              "                <script type=\"text/javascript\">window.PlotlyConfig = {MathJaxConfig: 'local'};</script>\n",
              "        <script src=\"https://cdn.plot.ly/plotly-latest.min.js\"></script>    \n",
              "            <div id=\"c5388a53-c0d4-4936-bb55-5bdf0d881107\" class=\"plotly-graph-div\" style=\"height:525px; width:100%;\"></div>\n",
              "            <script type=\"text/javascript\">\n",
              "                \n",
              "                    window.PLOTLYENV=window.PLOTLYENV || {};\n",
              "                    \n",
              "                if (document.getElementById(\"c5388a53-c0d4-4936-bb55-5bdf0d881107\")) {\n",
              "                    Plotly.newPlot(\n",
              "                        'c5388a53-c0d4-4936-bb55-5bdf0d881107',\n",
              "                        [{\"hoverlabel\": {\"namelength\": 0}, \"hovertemplate\": \"date=%{x}<br>item_cnt_day=%{y}\", \"legendgroup\": \"\", \"marker\": {\"color\": \"#636efa\", \"symbol\": \"circle\"}, \"mode\": \"markers\", \"name\": \"\", \"showlegend\": false, \"type\": \"scatter\", \"x\": [\"08.01.2013\", \"31.01.2013\", \"01.02.2013\", \"04.02.2013\", \"29.03.2013\", \"27.03.2013\", \"14.03.2013\", \"13.03.2013\", \"12.03.2013\", \"11.03.2013\", \"02.04.2013\", \"05.04.2013\", \"15.04.2013\", \"22.04.2013\", \"25.04.2013\", \"27.05.2013\", \"22.05.2013\", \"21.05.2013\", \"20.05.2013\", \"15.05.2013\", \"07.05.2013\", \"26.06.2013\", \"20.06.2013\", \"19.06.2013\", \"18.06.2013\", \"17.06.2013\", \"13.06.2013\", \"10.06.2013\", \"08.06.2013\", \"05.06.2013\", \"04.06.2013\", \"29.07.2013\", \"17.07.2013\", \"02.07.2013\", \"05.07.2013\", \"08.07.2013\", \"09.07.2013\", \"15.07.2013\", \"18.07.2013\", \"29.08.2013\", \"26.08.2013\", \"21.08.2013\", \"19.08.2013\", \"15.08.2013\", \"10.08.2013\", \"06.08.2013\", \"01.08.2013\", \"30.09.2013\", \"28.09.2013\", \"26.09.2013\", \"20.09.2013\", \"19.09.2013\", \"18.09.2013\", \"17.09.2013\", \"14.09.2013\", \"12.09.2013\", \"11.09.2013\", \"10.09.2013\", \"07.09.2013\", \"06.09.2013\", \"04.09.2013\", \"03.09.2013\", \"01.09.2013\", \"29.10.2013\", \"03.10.2013\", \"07.10.2013\", \"08.10.2013\", \"10.10.2013\", \"14.10.2013\", \"15.10.2013\", \"16.10.2013\", \"21.10.2013\", \"23.10.2013\", \"24.10.2013\", \"02.11.2013\", \"05.11.2013\", \"07.11.2013\", \"08.11.2013\", \"16.11.2013\", \"19.11.2013\", \"21.11.2013\", \"22.11.2013\", \"26.11.2013\", \"28.11.2013\", \"29.11.2013\", \"25.11.2013\", \"26.12.2013\", \"23.12.2013\", \"03.12.2013\", \"10.12.2013\", \"11.12.2013\", \"13.12.2013\", \"16.12.2013\", \"17.12.2013\", \"19.12.2013\", \"05.12.2013\", \"29.01.2014\", \"28.01.2014\", \"23.01.2014\", \"22.01.2014\", \"20.01.2014\", \"17.01.2014\", \"15.01.2014\", \"14.01.2014\", \"13.01.2014\", \"09.01.2014\", \"08.01.2014\", \"03.01.2014\", \"20.02.2014\", \"21.02.2014\", \"24.02.2014\", \"25.02.2014\", \"26.02.2014\", \"27.02.2014\", \"28.02.2014\", \"17.02.2014\", \"14.02.2014\", \"08.02.2014\", \"12.02.2014\", \"03.02.2014\", \"04.02.2014\", \"05.02.2014\", \"06.02.2014\", \"01.03.2014\", \"03.03.2014\", \"04.03.2014\", \"05.03.2014\", \"11.03.2014\", \"13.03.2014\", \"17.03.2014\", \"20.03.2014\", \"21.03.2014\", \"24.03.2014\", \"26.03.2014\", \"28.03.2014\", \"31.03.2014\", \"18.03.2014\", \"29.04.2014\", \"28.04.2014\", \"24.04.2014\", \"23.04.2014\", \"22.04.2014\", \"21.04.2014\", \"18.04.2014\", \"17.04.2014\", \"16.04.2014\", \"15.04.2014\", \"11.04.2014\", \"08.04.2014\", \"07.04.2014\", \"03.04.2014\", \"02.04.2014\", \"05.05.2014\", \"06.05.2014\", \"07.05.2014\", \"09.05.2014\", \"12.05.2014\", \"14.05.2014\", \"15.05.2014\", \"20.05.2014\", \"21.05.2014\", \"23.05.2014\", \"24.05.2014\", \"27.05.2014\", \"28.05.2014\", \"30.05.2014\", \"29.05.2014\", \"30.06.2014\", \"24.06.2014\", \"19.06.2014\", \"23.06.2014\", \"03.06.2014\", \"04.06.2014\", \"05.06.2014\", \"09.06.2014\", \"16.06.2014\", \"17.06.2014\", \"18.06.2014\", \"02.06.2014\", \"31.07.2014\", \"30.07.2014\", \"29.07.2014\", \"28.07.2014\", \"24.07.2014\", \"22.07.2014\", \"21.07.2014\", \"19.07.2014\", \"16.07.2014\", \"11.07.2014\", \"09.07.2014\", \"08.07.2014\", \"03.07.2014\", \"02.07.2014\", \"29.08.2014\", \"27.08.2014\", \"26.08.2014\", \"25.08.2014\", \"20.08.2014\", \"19.08.2014\", \"18.08.2014\", \"14.08.2014\", \"12.08.2014\", \"11.08.2014\", \"08.08.2014\", \"07.08.2014\", \"04.08.2014\", \"02.09.2014\", \"03.09.2014\", \"04.09.2014\", \"05.09.2014\", \"08.09.2014\", \"10.09.2014\", \"11.09.2014\", \"12.09.2014\", \"15.09.2014\", \"16.09.2014\", \"17.09.2014\", \"18.09.2014\", \"22.09.2014\", \"23.09.2014\", \"09.09.2014\", \"24.09.2014\", \"25.09.2014\", \"29.09.2014\", \"26.09.2014\", \"27.10.2014\", \"28.10.2014\", \"29.10.2014\", \"30.10.2014\", \"23.10.2014\", \"22.10.2014\", \"20.10.2014\", \"17.10.2014\", \"01.10.2014\", \"02.10.2014\", \"07.10.2014\", \"08.10.2014\", \"09.10.2014\", \"11.10.2014\", \"13.10.2014\", \"14.10.2014\", \"16.10.2014\", \"06.10.2014\", \"28.11.2014\", \"27.11.2014\", \"26.11.2014\", \"25.11.2014\", \"24.11.2014\", \"21.11.2014\", \"20.11.2014\", \"19.11.2014\", \"18.11.2014\", \"17.11.2014\", \"13.11.2014\", \"12.11.2014\", \"10.11.2014\", \"07.11.2014\", \"06.11.2014\", \"05.11.2014\", \"11.11.2014\", \"27.12.2014\", \"26.12.2014\", \"24.12.2014\", \"23.12.2014\", \"22.12.2014\", \"19.12.2014\", \"18.12.2014\", \"17.12.2014\", \"16.12.2014\", \"15.12.2014\", \"12.12.2014\", \"11.12.2014\", \"09.12.2014\", \"08.12.2014\", \"05.12.2014\", \"04.12.2014\", \"03.12.2014\", \"02.12.2014\", \"01.12.2014\", \"29.12.2014\", \"31.12.2014\", \"05.01.2015\", \"12.01.2015\", \"14.01.2015\", \"15.01.2015\", \"19.01.2015\", \"20.01.2015\", \"21.01.2015\", \"22.01.2015\", \"26.01.2015\", \"27.01.2015\", \"28.01.2015\", \"29.01.2015\", \"30.01.2015\", \"18.02.2015\", \"20.02.2015\", \"25.02.2015\", \"26.02.2015\", \"27.02.2015\", \"17.02.2015\", \"16.02.2015\", \"13.02.2015\", \"12.02.2015\", \"10.02.2015\", \"09.02.2015\", \"06.02.2015\", \"05.02.2015\", \"04.02.2015\", \"03.02.2015\", \"02.02.2015\", \"30.03.2015\", \"31.03.2015\", \"27.03.2015\", \"26.03.2015\", \"24.03.2015\", \"25.03.2015\", \"02.03.2015\", \"03.03.2015\", \"05.03.2015\", \"10.03.2015\", \"12.03.2015\", \"13.03.2015\", \"16.03.2015\", \"17.03.2015\", \"18.03.2015\", \"19.03.2015\", \"23.03.2015\", \"13.04.2015\", \"09.04.2015\", \"08.04.2015\", \"07.04.2015\", \"06.04.2015\", \"04.04.2015\", \"03.04.2015\", \"02.04.2015\", \"14.04.2015\", \"01.04.2015\", \"15.04.2015\", \"20.04.2015\", \"16.04.2015\", \"29.04.2015\", \"28.04.2015\", \"27.04.2015\", \"24.04.2015\", \"23.04.2015\", \"22.04.2015\", \"21.04.2015\", \"13.05.2015\", \"14.05.2015\", \"18.05.2015\", \"19.05.2015\", \"20.05.2015\", \"21.05.2015\", \"22.05.2015\", \"25.05.2015\", \"26.05.2015\", \"27.05.2015\", \"28.05.2015\", \"29.05.2015\", \"12.05.2015\", \"06.05.2015\", \"04.05.2015\", \"05.05.2015\", \"16.06.2015\", \"17.06.2015\", \"18.06.2015\", \"19.06.2015\", \"22.06.2015\", \"23.06.2015\", \"24.06.2015\", \"15.06.2015\", \"25.06.2015\", \"30.06.2015\", \"29.06.2015\", \"11.06.2015\", \"10.06.2015\", \"09.06.2015\", \"01.06.2015\", \"02.06.2015\", \"03.06.2015\", \"04.06.2015\", \"05.06.2015\", \"08.06.2015\", \"02.07.2015\", \"01.07.2015\", \"03.07.2015\", \"06.07.2015\", \"07.07.2015\", \"09.07.2015\", \"29.07.2015\", \"28.07.2015\", \"27.07.2015\", \"23.07.2015\", \"22.07.2015\", \"21.07.2015\", \"20.07.2015\", \"17.07.2015\", \"16.07.2015\", \"15.07.2015\", \"14.07.2015\", \"13.07.2015\", \"10.07.2015\", \"10.08.2015\", \"11.08.2015\", \"12.08.2015\", \"13.08.2015\", \"14.08.2015\", \"17.08.2015\", \"18.08.2015\", \"19.08.2015\", \"20.08.2015\", \"21.08.2015\", \"24.08.2015\", \"07.08.2015\", \"25.08.2015\", \"27.08.2015\", \"28.08.2015\", \"31.08.2015\", \"26.08.2015\", \"06.08.2015\", \"04.08.2015\", \"05.08.2015\", \"03.08.2015\", \"18.09.2015\", \"21.09.2015\", \"22.09.2015\", \"23.09.2015\", \"24.09.2015\", \"25.09.2015\", \"28.09.2015\", \"29.09.2015\", \"30.09.2015\", \"17.09.2015\", \"16.09.2015\", \"15.09.2015\", \"14.09.2015\", \"01.09.2015\", \"02.09.2015\", \"03.09.2015\", \"04.09.2015\", \"07.09.2015\", \"08.09.2015\", \"09.09.2015\", \"10.09.2015\", \"11.09.2015\", \"08.10.2015\", \"12.10.2015\", \"13.10.2015\", \"14.10.2015\", \"15.10.2015\", \"16.10.2015\", \"19.10.2015\", \"20.10.2015\", \"22.10.2015\", \"23.10.2015\", \"26.10.2015\", \"27.10.2015\", \"28.10.2015\", \"29.10.2015\", \"07.10.2015\", \"06.10.2015\", \"05.10.2015\", \"02.10.2015\", \"01.10.2015\"], \"xaxis\": \"x\", \"y\": [1.0, 5.0, 1.0, 1.0, 2.0, 1.0, 1.0, 3.0, 12.0, 2.0, 1.0, 3.0, 3.0, 1.0, 1.0, 1.0, 2.0, 1.0, 1.0, 1.0, 1.0, 3.0, 6.0, 2.0, 1.0, 2.0, 6.0, 3.0, 1.0, 1.0, 3.0, 1.0, 1.0, 1.0, 2.0, 1.0, 1.0, 1.0, 1.0, 5.0, 15.0, 1.0, 2.0, 4.0, 2.0, 5.0, 5.0, 2.0, 1.0, 2.0, 1.0, 3.0, 2.0, 2.0, 1.0, 2.0, 2.0, 1.0, 1.0, 1.0, 1.0, 9.0, 2.0, 28.0, 4.0, 6.0, 2.0, 3.0, 1.0, 1.0, 1.0, 1.0, 3.0, 1.0, 1.0, 1.0, 1.0, 4.0, 1.0, 1.0, 5.0, 242.0, 5.0, 5.0, 105.0, 2.0, 1.0, 7.0, 8.0, 10.0, 6.0, 3.0, 18.0, 10.0, 6.0, 8.0, 7.0, 3.0, 3.0, 1.0, 5.0, 2.0, 2.0, 2.0, 7.0, 6.0, 2.0, 6.0, 58.0, 5.0, 20.0, 4.0, 6.0, 8.0, 5.0, 1.0, 1.0, 27.0, 4.0, 3.0, 1.0, 22.0, 18.0, 22.0, 13.0, 1.0, 6.0, 2.0, 1.0, 46.0, 14.0, 27.0, 10.0, 11.0, 1.0, 31.0, 18.0, 1.0, 1.0, 1.0, 1.0, 2.0, 1.0, 2.0, 1.0, 8.0, 26.0, 3.0, 3.0, 1.0, 5.0, 5.0, 4.0, 1.0, 10.0, 4.0, 1.0, 1.0, 6.0, 1.0, 2.0, 6.0, 2.0, 97.0, 7.0, 1.0, 4.0, 1.0, 3.0, 2.0, 4.0, 14.0, 1.0, 4.0, 5.0, 2.0, 4.0, 2.0, 8.0, 3.0, 2.0, 1.0, 3.0, 4.0, 1.0, 1.0, 6.0, 2.0, 3.0, 1.0, 2.0, 2.0, 1.0, 3.0, 1.0, 2.0, 2.0, 6.0, 2.0, 4.0, 3.0, 4.0, 3.0, 4.0, 2.0, 3.0, 2.0, 5.0, 15.0, 1.0, 2.0, 4.0, 1.0, 2.0, 2.0, 1.0, 2.0, 7.0, 3.0, 12.0, 3.0, 11.0, 6.0, 8.0, 11.0, 4.0, 1.0, 4.0, 2.0, 3.0, 3.0, 3.0, 6.0, 3.0, 5.0, 5.0, 10.0, 3.0, 1.0, 3.0, 5.0, 3.0, 4.0, 4.0, 16.0, 7.0, 6.0, 13.0, 3.0, 22.0, 28.0, 23.0, 54.0, 84.0, 8.0, 4.0, 22.0, 1.0, 8.0, 5.0, 6.0, 6.0, 27.0, 6.0, 24.0, 5.0, 11.0, 10.0, 7.0, 30.0, 2.0, 20.0, 8.0, 23.0, 1.0, 7.0, 13.0, 1.0, 41.0, 13.0, 4.0, 11.0, 23.0, 13.0, 5.0, 25.0, 7.0, 5.0, 4.0, 18.0, 10.0, 2.0, 6.0, 4.0, 8.0, 10.0, 20.0, 11.0, 3.0, 7.0, 6.0, 3.0, 10.0, 2.0, 15.0, 2.0, 9.0, 3.0, 2.0, 6.0, 7.0, 2.0, 10.0, 4.0, 6.0, 51.0, 16.0, 4.0, 1.0, 4.0, 12.0, 4.0, 3.0, 13.0, 2.0, 4.0, 4.0, 5.0, 2.0, 1.0, 6.0, 5.0, 2.0, 1.0, 2.0, 61.0, 3.0, 2.0, 28.0, 108.0, 2.0, 1.0, 13.0, 12.0, 8.0, 22.0, 8.0, 13.0, 2.0, 1.0, 539.0, 13.0, 21.0, 31.0, 41.0, 32.0, 12.0, 14.0, 12.0, 1.0, 1.0, 5.0, 4.0, 6.0, 2.0, 9.0, 6.0, 13.0, 15.0, 14.0, 9.0, 3.0, 1.0, 11.0, 14.0, 7.0, 12.0, 12.0, 7.0, 33.0, 5.0, 7.0, 16.0, 1.0, 6.0, 2.0, 95.0, 8.0, 5.0, 4.0, 4.0, 13.0, 7.0, 3.0, 10.0, 6.0, 2.0, 4.0, 10.0, 8.0, 11.0, 2.0, 4.0, 3.0, 2.0, 1.0, 2.0, 4.0, 6.0, 4.0, 2.0, 6.0, 8.0, 1.0, 1.0, 4.0, 6.0, 7.0, 2.0, 1.0, 2.0, 4.0, 5.0, 6.0, 2.0, 5.0, 3.0, 3.0, 8.0, 22.0, 65.0, 11.0, 11.0, 13.0, 8.0, 2.0, 6.0, 2.0, 38.0, 5.0, 4.0, 10.0, 11.0, 5.0, 6.0, 1.0, 1.0, 4.0, 14.0, 9.0, 5.0, 4.0, 3.0, 4.0, 3.0, 3.0, 1.0, 2169.0, 3.0, 2.0, 5.0, 16.0, 2.0, 4.0], \"yaxis\": \"y\"}],\n",
              "                        {\"legend\": {\"tracegroupgap\": 0}, \"template\": {\"data\": {\"bar\": [{\"error_x\": {\"color\": \"#2a3f5f\"}, \"error_y\": {\"color\": \"#2a3f5f\"}, \"marker\": {\"line\": {\"color\": \"#E5ECF6\", \"width\": 0.5}}, \"type\": \"bar\"}], \"barpolar\": [{\"marker\": {\"line\": {\"color\": \"#E5ECF6\", \"width\": 0.5}}, \"type\": \"barpolar\"}], \"carpet\": [{\"aaxis\": {\"endlinecolor\": \"#2a3f5f\", \"gridcolor\": \"white\", \"linecolor\": \"white\", \"minorgridcolor\": \"white\", \"startlinecolor\": \"#2a3f5f\"}, \"baxis\": {\"endlinecolor\": \"#2a3f5f\", \"gridcolor\": \"white\", \"linecolor\": \"white\", \"minorgridcolor\": \"white\", \"startlinecolor\": \"#2a3f5f\"}, \"type\": \"carpet\"}], \"choropleth\": [{\"colorbar\": {\"outlinewidth\": 0, \"ticks\": \"\"}, \"type\": \"choropleth\"}], \"contour\": [{\"colorbar\": {\"outlinewidth\": 0, \"ticks\": \"\"}, \"colorscale\": [[0.0, \"#0d0887\"], [0.1111111111111111, \"#46039f\"], [0.2222222222222222, \"#7201a8\"], [0.3333333333333333, \"#9c179e\"], [0.4444444444444444, \"#bd3786\"], [0.5555555555555556, \"#d8576b\"], [0.6666666666666666, \"#ed7953\"], [0.7777777777777778, \"#fb9f3a\"], [0.8888888888888888, \"#fdca26\"], [1.0, \"#f0f921\"]], \"type\": \"contour\"}], \"contourcarpet\": [{\"colorbar\": {\"outlinewidth\": 0, \"ticks\": \"\"}, \"type\": \"contourcarpet\"}], \"heatmap\": [{\"colorbar\": {\"outlinewidth\": 0, \"ticks\": \"\"}, \"colorscale\": [[0.0, \"#0d0887\"], [0.1111111111111111, \"#46039f\"], [0.2222222222222222, \"#7201a8\"], [0.3333333333333333, \"#9c179e\"], [0.4444444444444444, \"#bd3786\"], [0.5555555555555556, \"#d8576b\"], [0.6666666666666666, \"#ed7953\"], [0.7777777777777778, \"#fb9f3a\"], [0.8888888888888888, \"#fdca26\"], [1.0, \"#f0f921\"]], \"type\": \"heatmap\"}], \"heatmapgl\": [{\"colorbar\": {\"outlinewidth\": 0, \"ticks\": \"\"}, \"colorscale\": [[0.0, \"#0d0887\"], [0.1111111111111111, \"#46039f\"], [0.2222222222222222, \"#7201a8\"], [0.3333333333333333, \"#9c179e\"], [0.4444444444444444, \"#bd3786\"], [0.5555555555555556, \"#d8576b\"], [0.6666666666666666, \"#ed7953\"], [0.7777777777777778, \"#fb9f3a\"], [0.8888888888888888, \"#fdca26\"], [1.0, \"#f0f921\"]], \"type\": \"heatmapgl\"}], \"histogram\": [{\"marker\": {\"colorbar\": {\"outlinewidth\": 0, \"ticks\": \"\"}}, \"type\": \"histogram\"}], \"histogram2d\": [{\"colorbar\": {\"outlinewidth\": 0, \"ticks\": \"\"}, \"colorscale\": [[0.0, \"#0d0887\"], [0.1111111111111111, \"#46039f\"], [0.2222222222222222, \"#7201a8\"], [0.3333333333333333, \"#9c179e\"], [0.4444444444444444, \"#bd3786\"], [0.5555555555555556, \"#d8576b\"], [0.6666666666666666, \"#ed7953\"], [0.7777777777777778, \"#fb9f3a\"], [0.8888888888888888, \"#fdca26\"], [1.0, \"#f0f921\"]], \"type\": \"histogram2d\"}], \"histogram2dcontour\": [{\"colorbar\": {\"outlinewidth\": 0, \"ticks\": \"\"}, \"colorscale\": [[0.0, \"#0d0887\"], [0.1111111111111111, \"#46039f\"], [0.2222222222222222, \"#7201a8\"], [0.3333333333333333, \"#9c179e\"], [0.4444444444444444, \"#bd3786\"], [0.5555555555555556, \"#d8576b\"], [0.6666666666666666, \"#ed7953\"], [0.7777777777777778, \"#fb9f3a\"], [0.8888888888888888, \"#fdca26\"], [1.0, \"#f0f921\"]], \"type\": \"histogram2dcontour\"}], \"mesh3d\": [{\"colorbar\": {\"outlinewidth\": 0, \"ticks\": \"\"}, \"type\": \"mesh3d\"}], \"parcoords\": [{\"line\": {\"colorbar\": {\"outlinewidth\": 0, \"ticks\": \"\"}}, \"type\": \"parcoords\"}], \"pie\": [{\"automargin\": true, \"type\": \"pie\"}], \"scatter\": [{\"marker\": {\"colorbar\": {\"outlinewidth\": 0, \"ticks\": \"\"}}, \"type\": \"scatter\"}], \"scatter3d\": [{\"line\": {\"colorbar\": {\"outlinewidth\": 0, \"ticks\": \"\"}}, \"marker\": {\"colorbar\": {\"outlinewidth\": 0, \"ticks\": \"\"}}, \"type\": \"scatter3d\"}], \"scattercarpet\": [{\"marker\": {\"colorbar\": {\"outlinewidth\": 0, \"ticks\": \"\"}}, \"type\": \"scattercarpet\"}], \"scattergeo\": [{\"marker\": {\"colorbar\": {\"outlinewidth\": 0, \"ticks\": \"\"}}, \"type\": \"scattergeo\"}], \"scattergl\": [{\"marker\": {\"colorbar\": {\"outlinewidth\": 0, \"ticks\": \"\"}}, \"type\": \"scattergl\"}], \"scattermapbox\": [{\"marker\": {\"colorbar\": {\"outlinewidth\": 0, \"ticks\": \"\"}}, \"type\": \"scattermapbox\"}], \"scatterpolar\": [{\"marker\": {\"colorbar\": {\"outlinewidth\": 0, \"ticks\": \"\"}}, \"type\": \"scatterpolar\"}], \"scatterpolargl\": [{\"marker\": {\"colorbar\": {\"outlinewidth\": 0, \"ticks\": \"\"}}, \"type\": \"scatterpolargl\"}], \"scatterternary\": [{\"marker\": {\"colorbar\": {\"outlinewidth\": 0, \"ticks\": \"\"}}, \"type\": \"scatterternary\"}], \"surface\": [{\"colorbar\": {\"outlinewidth\": 0, \"ticks\": \"\"}, \"colorscale\": [[0.0, \"#0d0887\"], [0.1111111111111111, \"#46039f\"], [0.2222222222222222, \"#7201a8\"], [0.3333333333333333, \"#9c179e\"], [0.4444444444444444, \"#bd3786\"], [0.5555555555555556, \"#d8576b\"], [0.6666666666666666, \"#ed7953\"], [0.7777777777777778, \"#fb9f3a\"], [0.8888888888888888, \"#fdca26\"], [1.0, \"#f0f921\"]], \"type\": \"surface\"}], \"table\": [{\"cells\": {\"fill\": {\"color\": \"#EBF0F8\"}, \"line\": {\"color\": \"white\"}}, \"header\": {\"fill\": {\"color\": \"#C8D4E3\"}, \"line\": {\"color\": \"white\"}}, \"type\": \"table\"}]}, \"layout\": {\"annotationdefaults\": {\"arrowcolor\": \"#2a3f5f\", \"arrowhead\": 0, \"arrowwidth\": 1}, \"coloraxis\": {\"colorbar\": {\"outlinewidth\": 0, \"ticks\": \"\"}}, \"colorscale\": {\"diverging\": [[0, \"#8e0152\"], [0.1, \"#c51b7d\"], [0.2, \"#de77ae\"], [0.3, \"#f1b6da\"], [0.4, \"#fde0ef\"], [0.5, \"#f7f7f7\"], [0.6, \"#e6f5d0\"], [0.7, \"#b8e186\"], [0.8, \"#7fbc41\"], [0.9, \"#4d9221\"], [1, \"#276419\"]], \"sequential\": [[0.0, \"#0d0887\"], [0.1111111111111111, \"#46039f\"], [0.2222222222222222, \"#7201a8\"], [0.3333333333333333, \"#9c179e\"], [0.4444444444444444, \"#bd3786\"], [0.5555555555555556, \"#d8576b\"], [0.6666666666666666, \"#ed7953\"], [0.7777777777777778, \"#fb9f3a\"], [0.8888888888888888, \"#fdca26\"], [1.0, \"#f0f921\"]], \"sequentialminus\": [[0.0, \"#0d0887\"], [0.1111111111111111, \"#46039f\"], [0.2222222222222222, \"#7201a8\"], [0.3333333333333333, \"#9c179e\"], [0.4444444444444444, \"#bd3786\"], [0.5555555555555556, \"#d8576b\"], [0.6666666666666666, \"#ed7953\"], [0.7777777777777778, \"#fb9f3a\"], [0.8888888888888888, \"#fdca26\"], [1.0, \"#f0f921\"]]}, \"colorway\": [\"#636efa\", \"#EF553B\", \"#00cc96\", \"#ab63fa\", \"#FFA15A\", \"#19d3f3\", \"#FF6692\", \"#B6E880\", \"#FF97FF\", \"#FECB52\"], \"font\": {\"color\": \"#2a3f5f\"}, \"geo\": {\"bgcolor\": \"white\", \"lakecolor\": \"white\", \"landcolor\": \"#E5ECF6\", \"showlakes\": true, \"showland\": true, \"subunitcolor\": \"white\"}, \"hoverlabel\": {\"align\": \"left\"}, \"hovermode\": \"closest\", \"mapbox\": {\"style\": \"light\"}, \"paper_bgcolor\": \"white\", \"plot_bgcolor\": \"#E5ECF6\", \"polar\": {\"angularaxis\": {\"gridcolor\": \"white\", \"linecolor\": \"white\", \"ticks\": \"\"}, \"bgcolor\": \"#E5ECF6\", \"radialaxis\": {\"gridcolor\": \"white\", \"linecolor\": \"white\", \"ticks\": \"\"}}, \"scene\": {\"xaxis\": {\"backgroundcolor\": \"#E5ECF6\", \"gridcolor\": \"white\", \"gridwidth\": 2, \"linecolor\": \"white\", \"showbackground\": true, \"ticks\": \"\", \"zerolinecolor\": \"white\"}, \"yaxis\": {\"backgroundcolor\": \"#E5ECF6\", \"gridcolor\": \"white\", \"gridwidth\": 2, \"linecolor\": \"white\", \"showbackground\": true, \"ticks\": \"\", \"zerolinecolor\": \"white\"}, \"zaxis\": {\"backgroundcolor\": \"#E5ECF6\", \"gridcolor\": \"white\", \"gridwidth\": 2, \"linecolor\": \"white\", \"showbackground\": true, \"ticks\": \"\", \"zerolinecolor\": \"white\"}}, \"shapedefaults\": {\"line\": {\"color\": \"#2a3f5f\"}}, \"ternary\": {\"aaxis\": {\"gridcolor\": \"white\", \"linecolor\": \"white\", \"ticks\": \"\"}, \"baxis\": {\"gridcolor\": \"white\", \"linecolor\": \"white\", \"ticks\": \"\"}, \"bgcolor\": \"#E5ECF6\", \"caxis\": {\"gridcolor\": \"white\", \"linecolor\": \"white\", \"ticks\": \"\"}}, \"title\": {\"x\": 0.05}, \"xaxis\": {\"automargin\": true, \"gridcolor\": \"white\", \"linecolor\": \"white\", \"ticks\": \"\", \"title\": {\"standoff\": 15}, \"zerolinecolor\": \"white\", \"zerolinewidth\": 2}, \"yaxis\": {\"automargin\": true, \"gridcolor\": \"white\", \"linecolor\": \"white\", \"ticks\": \"\", \"title\": {\"standoff\": 15}, \"zerolinecolor\": \"white\", \"zerolinewidth\": 2}}}, \"title\": {\"text\": \"Quantities of item #11373 (Boxberry delivery) sold every day\"}, \"xaxis\": {\"anchor\": \"y\", \"domain\": [0.0, 1.0], \"title\": {\"text\": \"date\"}}, \"yaxis\": {\"anchor\": \"x\", \"domain\": [0.0, 1.0], \"title\": {\"text\": \"item_cnt_day\"}}},\n",
              "                        {\"responsive\": true}\n",
              "                    ).then(function(){\n",
              "                            \n",
              "var gd = document.getElementById('c5388a53-c0d4-4936-bb55-5bdf0d881107');\n",
              "var x = new MutationObserver(function (mutations, observer) {{\n",
              "        var display = window.getComputedStyle(gd).display;\n",
              "        if (!display || display === 'none') {{\n",
              "            console.log([gd, 'removed!']);\n",
              "            Plotly.purge(gd);\n",
              "            observer.disconnect();\n",
              "        }}\n",
              "}});\n",
              "\n",
              "// Listen for the removal of the full notebook cells\n",
              "var notebookContainer = gd.closest('#notebook-container');\n",
              "if (notebookContainer) {{\n",
              "    x.observe(notebookContainer, {childList: true});\n",
              "}}\n",
              "\n",
              "// Listen for the clearing of the current output cell\n",
              "var outputEl = gd.closest('.output');\n",
              "if (outputEl) {{\n",
              "    x.observe(outputEl, {childList: true});\n",
              "}}\n",
              "\n",
              "                        })\n",
              "                };\n",
              "                \n",
              "            </script>\n",
              "        </div>\n",
              "</body>\n",
              "</html>"
            ]
          },
          "metadata": {
            "tags": []
          }
        }
      ]
    },
    {
      "cell_type": "markdown",
      "metadata": {
        "id": "4TUBzG-zzTJZ"
      },
      "source": [
        "I decided to remove those outliers since\n",
        "1. The item with cost 6066 (which is a product called _\"Radmin 3\"_) has been sold exactly one time on that day only.\n",
        "2. The item sold 2169 times in a single day (that i suspect to be a service rather than a product, because of its name _\"Delivery to the delivery point (Boxberry)\"_) is sold in much smaller quantities in every other date."
      ],
      "id": "4TUBzG-zzTJZ"
    },
    {
      "cell_type": "markdown",
      "metadata": {
        "id": "KKlUIksBmZSf"
      },
      "source": [
        "### Duplicated shops\n",
        "\n",
        "As other participants pointed out, some shops have the same name. The shops list is short enough to be inspected manually so we can find them. If it were longer, we could have applied some fuzzy string matching algorithm on the shops names (e.g. we could have measured similarity between names using the Levenshtein distance) in order to detect similar names. Since there was no further information about the shops other than their name, and since in the test set they appear with only one of the two IDs, I decided to merge together those with the same name, using the IDs in the test set.\n",
        "- 0 ⇒ 57\n",
        "- 1 ⇒ 58\n",
        "- 11 ⇒ 10\n",
        "- 40 ⇒ 39"
      ],
      "id": "KKlUIksBmZSf"
    },
    {
      "cell_type": "code",
      "metadata": {
        "id": "efdoPFiE4kQY"
      },
      "source": [
        "train = train[train.item_price < 100000]\n",
        "train = train[train.item_cnt_day < 1500]"
      ],
      "id": "efdoPFiE4kQY",
      "execution_count": 15,
      "outputs": []
    },
    {
      "cell_type": "code",
      "metadata": {
        "id": "6U0uSAyvvQqi"
      },
      "source": [
        "train.loc[train.shop_id == 0, 'shop_id'] = 57\n",
        "train.loc[train.shop_id == 1, 'shop_id'] = 58\n",
        "train.loc[train.shop_id == 11, 'shop_id'] = 10\n",
        "train.loc[train.shop_id == 40, 'shop_id'] = 39\n",
        "\n",
        "# keep only shops that are present either in the train set or in the test set\n",
        "shops = shops.loc[shops.shop_id.isin(train.shop_id) | shops.shop_id.isin(test.shop_id)]"
      ],
      "id": "6U0uSAyvvQqi",
      "execution_count": 16,
      "outputs": []
    },
    {
      "cell_type": "code",
      "metadata": {
        "id": "ItUnHa3K0DZ3"
      },
      "source": [
        "## Rimuovere o spostare\n",
        "\n",
        "#sales_by_item = train.pivot_table(values='item_cnt_day', index=['item_id'], columns=['date_block_num'], aggfunc=np.sum, fill_value=0).reset_index()\n",
        "#sales_by_item.columns = sales_by_item.columns.map(str)\n",
        "#sales_by_item = sales_by_item.rename_axis(None, axis=1)\n",
        "#sales_by_item"
      ],
      "id": "ItUnHa3K0DZ3",
      "execution_count": 17,
      "outputs": []
    },
    {
      "cell_type": "markdown",
      "metadata": {
        "id": "Ues4ZeVt9tIG"
      },
      "source": [
        "# Feature engineering"
      ],
      "id": "Ues4ZeVt9tIG"
    },
    {
      "cell_type": "markdown",
      "metadata": {
        "id": "lRFfRJeb91IA"
      },
      "source": [
        "In this section we will try to create features that may help the model to make more accurate predictions about future sales. Remember that we are requested to predict sales for product-store pairs."
      ],
      "id": "lRFfRJeb91IA"
    },
    {
      "cell_type": "markdown",
      "metadata": {
        "id": "Dm11wDi0CCI9"
      },
      "source": [
        "## Shops\n",
        "\n",
        "Let's start by dealing with shops. Each shops is simply described by `shop_name`. By looking at their names, it looks like that every name has the structure `Shop City | Shop Type | Shop Name` (this was pointed out by other competitors who understand russian language). Thanks to this, we can extract those information into separate features."
      ],
      "id": "Dm11wDi0CCI9"
    },
    {
      "cell_type": "code",
      "metadata": {
        "id": "ApV01owvQFNS"
      },
      "source": [
        "# remove non alphanumeric characters and numbers\n",
        "shops['shop_name'] = shops['shop_name'].apply(lambda x: x.lower()).str.replace('[^\\w\\s]', '').str.replace('\\d+','').str.strip()\n",
        "\n",
        "# get city names (first word) \n",
        "shops['shop_city'] = shops['shop_name'].str.split(' ').map(lambda x: x[0])\n",
        "\n",
        "# get shop types\n",
        "shops['shop_type'] = shops['shop_name'].apply(lambda x: 'мтрц' if 'мтрц' in x \n",
        "                         else 'трц' if 'трц' in x \n",
        "                         else 'трк' if 'трк' in x \n",
        "                         else 'тц' if 'тц' in x \n",
        "                         else 'тк' if 'тк' in x \n",
        "                         else np.nan)"
      ],
      "id": "ApV01owvQFNS",
      "execution_count": 18,
      "outputs": []
    },
    {
      "cell_type": "code",
      "metadata": {
        "id": "goaA4hwnu1Pj"
      },
      "source": [
        "# add first month to each shop\n",
        "shops = shops.join(train.groupby('shop_id')['date_block_num'].min()).rename(columns={'date_block_num':'first_month'})\n",
        "\n",
        "# add last month to each shop\n",
        "shops = shops.join(train.groupby('shop_id')['date_block_num'].max()).rename(columns={'date_block_num':'last_month'})"
      ],
      "id": "goaA4hwnu1Pj",
      "execution_count": 19,
      "outputs": []
    },
    {
      "cell_type": "markdown",
      "metadata": {
        "id": "FYkz1BqRVCYV"
      },
      "source": [
        "For every shop in the test set we have data up to the last month in the training set (`date_block_num = 33`). There are some shops that do not pop up in the test set, anyway, they can still be useful to predict certain product sales for other shops."
      ],
      "id": "FYkz1BqRVCYV"
    },
    {
      "cell_type": "code",
      "metadata": {
        "colab": {
          "base_uri": "https://localhost:8080/"
        },
        "id": "6gD32232ISRb",
        "outputId": "1201210a-632c-4795-fbef-6ae10b09e2b7"
      },
      "source": [
        "print(\"Shops that are not in the test set: \", shops.loc[~shops.shop_id.isin(test.shop_id), 'shop_id'].to_list())\n",
        "# uncomment next line to see details about those shops\n",
        "# shops[~shops.shop_id.isin(test.shop_id)]"
      ],
      "id": "6gD32232ISRb",
      "execution_count": 20,
      "outputs": [
        {
          "output_type": "stream",
          "text": [
            "Shops that are not in the test set:  [8, 9, 13, 17, 20, 23, 27, 29, 30, 32, 33, 43, 51, 54]\n"
          ],
          "name": "stdout"
        }
      ]
    },
    {
      "cell_type": "markdown",
      "metadata": {
        "id": "gtxPd5HNmpp0"
      },
      "source": [
        "## Item categories"
      ],
      "id": "gtxPd5HNmpp0"
    },
    {
      "cell_type": "markdown",
      "metadata": {
        "id": "ieMsHmLzeXMC"
      },
      "source": [
        "\n",
        "Categories are described by a name which can have either the form `type - subtype` (e.g. `Книги - Путеводители` which means `books - travel guides`) or a single name (e.g. `Доставка товара` which means `delivery of goods`). Let's split composite category names into:\n",
        "- section\n",
        "- main category name\n",
        "- main sub-category name\n",
        "- secondary sub-category name\n",
        "\n",
        "Here we have to get our hands dirty and deal with each category in detail because not every name has that structure.\n",
        "\n",
        "Note: I decided to translate sections into english for visualization purposes, but note that it was not necessary since later we will perform label encodings."
      ],
      "id": "ieMsHmLzeXMC"
    },
    {
      "cell_type": "code",
      "metadata": {
        "colab": {
          "base_uri": "https://localhost:8080/",
          "height": 359
        },
        "id": "Iddsul8ggx8x",
        "outputId": "b5e1a3c9-778c-4d4e-b90d-ca2baf8fbea7"
      },
      "source": [
        "# before\n",
        "categories[:10]"
      ],
      "id": "Iddsul8ggx8x",
      "execution_count": 21,
      "outputs": [
        {
          "output_type": "execute_result",
          "data": {
            "text/html": [
              "<div>\n",
              "<style scoped>\n",
              "    .dataframe tbody tr th:only-of-type {\n",
              "        vertical-align: middle;\n",
              "    }\n",
              "\n",
              "    .dataframe tbody tr th {\n",
              "        vertical-align: top;\n",
              "    }\n",
              "\n",
              "    .dataframe thead th {\n",
              "        text-align: right;\n",
              "    }\n",
              "</style>\n",
              "<table border=\"1\" class=\"dataframe\">\n",
              "  <thead>\n",
              "    <tr style=\"text-align: right;\">\n",
              "      <th></th>\n",
              "      <th>item_category_name</th>\n",
              "      <th>item_category_id</th>\n",
              "    </tr>\n",
              "  </thead>\n",
              "  <tbody>\n",
              "    <tr>\n",
              "      <th>0</th>\n",
              "      <td>PC - Гарнитуры/Наушники</td>\n",
              "      <td>0</td>\n",
              "    </tr>\n",
              "    <tr>\n",
              "      <th>1</th>\n",
              "      <td>Аксессуары - PS2</td>\n",
              "      <td>1</td>\n",
              "    </tr>\n",
              "    <tr>\n",
              "      <th>2</th>\n",
              "      <td>Аксессуары - PS3</td>\n",
              "      <td>2</td>\n",
              "    </tr>\n",
              "    <tr>\n",
              "      <th>3</th>\n",
              "      <td>Аксессуары - PS4</td>\n",
              "      <td>3</td>\n",
              "    </tr>\n",
              "    <tr>\n",
              "      <th>4</th>\n",
              "      <td>Аксессуары - PSP</td>\n",
              "      <td>4</td>\n",
              "    </tr>\n",
              "    <tr>\n",
              "      <th>5</th>\n",
              "      <td>Аксессуары - PSVita</td>\n",
              "      <td>5</td>\n",
              "    </tr>\n",
              "    <tr>\n",
              "      <th>6</th>\n",
              "      <td>Аксессуары - XBOX 360</td>\n",
              "      <td>6</td>\n",
              "    </tr>\n",
              "    <tr>\n",
              "      <th>7</th>\n",
              "      <td>Аксессуары - XBOX ONE</td>\n",
              "      <td>7</td>\n",
              "    </tr>\n",
              "    <tr>\n",
              "      <th>8</th>\n",
              "      <td>Билеты (Цифра)</td>\n",
              "      <td>8</td>\n",
              "    </tr>\n",
              "    <tr>\n",
              "      <th>9</th>\n",
              "      <td>Доставка товара</td>\n",
              "      <td>9</td>\n",
              "    </tr>\n",
              "  </tbody>\n",
              "</table>\n",
              "</div>"
            ],
            "text/plain": [
              "        item_category_name  item_category_id\n",
              "0  PC - Гарнитуры/Наушники                 0\n",
              "1         Аксессуары - PS2                 1\n",
              "2         Аксессуары - PS3                 2\n",
              "3         Аксессуары - PS4                 3\n",
              "4         Аксессуары - PSP                 4\n",
              "5      Аксессуары - PSVita                 5\n",
              "6    Аксессуары - XBOX 360                 6\n",
              "7    Аксессуары - XBOX ONE                 7\n",
              "8           Билеты (Цифра)                 8\n",
              "9          Доставка товара                 9"
            ]
          },
          "metadata": {
            "tags": []
          },
          "execution_count": 21
        }
      ]
    },
    {
      "cell_type": "code",
      "metadata": {
        "id": "jX6lQvy3euQq"
      },
      "source": [
        "categories['split'] = categories['item_category_name'].str.split('-')\n",
        "categories['section'] = categories['split'].map(lambda x: x[0].strip())\n",
        "categories['name'] = categories['split'].map(lambda x: x[1].strip() if len(x) > 1 else x[0])\n",
        "categories = categories[['item_category_id', 'section', 'name']]\n",
        "\n",
        "# games\n",
        "categories.loc[26:31, 'sub_name'] = categories.loc[26:32, 'name']\n",
        "categories.loc[26:31, 'name'] = categories.loc[26:32, 'section'].str.split(' ').map(lambda x: x[1])\n",
        "categories.loc[18:31, 'section'] = 'games'\n",
        "\n",
        "# PlayStation stuff\n",
        "is_ps = categories.name.str.contains('PS')\n",
        "categories.loc[is_ps, 'sec_sub_name'] = categories.loc[is_ps, 'name'].map(lambda x: x.split('PS')[1])\n",
        "categories.loc[is_ps, 'sub_name'] = 'PS'\n",
        "\n",
        "# XBOX stuff\n",
        "is_xbox = categories.name.str.contains('XBOX')\n",
        "categories.loc[is_xbox, 'sec_sub_name'] = categories.loc[is_xbox, 'name'].map(lambda x: x.split('XBOX')[1])\n",
        "categories.loc[is_xbox, 'sub_name'] = 'XBOX'\n",
        "\n",
        "# split name - subname\n",
        "categories.loc[45, 'sec_sub_name'] = '1C'\n",
        "categories.loc[43:45, 'sub_name'] = 'audiobooks'\n",
        "categories.loc[55, 'sec_sub_name'] = 'локального'\n",
        "categories.loc[56, 'sec_sub_name'] = 'фирменного'\n",
        "categories.loc[55:56, 'sub_name'] = 'CD'\n",
        "categories.loc[81:82, 'sub_name'] = categories.name.loc[81:82].map(lambda x: x[x.find('(')+1:x.find(')')])\n",
        "\n",
        "# extract subname within brackets e.g. {name: \"Live! (Цифра)\"} --> {sub_name: \"Live!\", sec_sub_name: \"Цифра\"}\n",
        "has_subname = categories.name.str.contains('\\(.*?\\)')\n",
        "categories.loc[has_subname, 'sec_sub_name'] = categories.loc[has_subname, 'name'].map(lambda x: x[x.find('(')+1:x.find(')')])\n",
        "categories.loc[has_subname, 'sub_name'] = categories.loc[has_subname, 'name'].str.split('(').map(lambda x: x[0])\n",
        "\n",
        "# rename sections\n",
        "categories.loc[1:7, 'section'] = 'accessories'\n",
        "categories.loc[8, 'section'] = 'tickets'\n",
        "categories.loc[9, 'section'] = 'delivery of goods'\n",
        "categories.loc[10:17, 'section'] = 'consoles'\n",
        "categories.loc[32:36, 'section'] = 'cards'\n",
        "categories.loc[37:41, 'section'] = 'movies'\n",
        "categories.loc[42:54, 'section'] = 'books'\n",
        "categories.loc[55:60, 'section'] = 'music'\n",
        "categories.loc[61:72, 'section'] = 'gifts'\n",
        "categories.loc[73:78, 'section'] = 'software'\n",
        "categories.loc[81:82, 'section'] = 'disks'\n",
        "categories.loc[83, 'section'] = 'batteries'"
      ],
      "id": "jX6lQvy3euQq",
      "execution_count": 22,
      "outputs": []
    },
    {
      "cell_type": "code",
      "metadata": {
        "colab": {
          "base_uri": "https://localhost:8080/",
          "height": 359
        },
        "id": "nhFiKwq8it7F",
        "outputId": "d60b90dc-c6fc-450b-a67d-183541e9c4da"
      },
      "source": [
        "# after\n",
        "categories[:10]"
      ],
      "id": "nhFiKwq8it7F",
      "execution_count": 23,
      "outputs": [
        {
          "output_type": "execute_result",
          "data": {
            "text/html": [
              "<div>\n",
              "<style scoped>\n",
              "    .dataframe tbody tr th:only-of-type {\n",
              "        vertical-align: middle;\n",
              "    }\n",
              "\n",
              "    .dataframe tbody tr th {\n",
              "        vertical-align: top;\n",
              "    }\n",
              "\n",
              "    .dataframe thead th {\n",
              "        text-align: right;\n",
              "    }\n",
              "</style>\n",
              "<table border=\"1\" class=\"dataframe\">\n",
              "  <thead>\n",
              "    <tr style=\"text-align: right;\">\n",
              "      <th></th>\n",
              "      <th>item_category_id</th>\n",
              "      <th>section</th>\n",
              "      <th>name</th>\n",
              "      <th>sub_name</th>\n",
              "      <th>sec_sub_name</th>\n",
              "    </tr>\n",
              "  </thead>\n",
              "  <tbody>\n",
              "    <tr>\n",
              "      <th>0</th>\n",
              "      <td>0</td>\n",
              "      <td>PC</td>\n",
              "      <td>Гарнитуры/Наушники</td>\n",
              "      <td>NaN</td>\n",
              "      <td>NaN</td>\n",
              "    </tr>\n",
              "    <tr>\n",
              "      <th>1</th>\n",
              "      <td>1</td>\n",
              "      <td>accessories</td>\n",
              "      <td>PS2</td>\n",
              "      <td>PS</td>\n",
              "      <td>2</td>\n",
              "    </tr>\n",
              "    <tr>\n",
              "      <th>2</th>\n",
              "      <td>2</td>\n",
              "      <td>accessories</td>\n",
              "      <td>PS3</td>\n",
              "      <td>PS</td>\n",
              "      <td>3</td>\n",
              "    </tr>\n",
              "    <tr>\n",
              "      <th>3</th>\n",
              "      <td>3</td>\n",
              "      <td>accessories</td>\n",
              "      <td>PS4</td>\n",
              "      <td>PS</td>\n",
              "      <td>4</td>\n",
              "    </tr>\n",
              "    <tr>\n",
              "      <th>4</th>\n",
              "      <td>4</td>\n",
              "      <td>accessories</td>\n",
              "      <td>PSP</td>\n",
              "      <td>PS</td>\n",
              "      <td>P</td>\n",
              "    </tr>\n",
              "    <tr>\n",
              "      <th>5</th>\n",
              "      <td>5</td>\n",
              "      <td>accessories</td>\n",
              "      <td>PSVita</td>\n",
              "      <td>PS</td>\n",
              "      <td>Vita</td>\n",
              "    </tr>\n",
              "    <tr>\n",
              "      <th>6</th>\n",
              "      <td>6</td>\n",
              "      <td>accessories</td>\n",
              "      <td>XBOX 360</td>\n",
              "      <td>XBOX</td>\n",
              "      <td>360</td>\n",
              "    </tr>\n",
              "    <tr>\n",
              "      <th>7</th>\n",
              "      <td>7</td>\n",
              "      <td>accessories</td>\n",
              "      <td>XBOX ONE</td>\n",
              "      <td>XBOX</td>\n",
              "      <td>ONE</td>\n",
              "    </tr>\n",
              "    <tr>\n",
              "      <th>8</th>\n",
              "      <td>8</td>\n",
              "      <td>tickets</td>\n",
              "      <td>Билеты (Цифра)</td>\n",
              "      <td>Билеты</td>\n",
              "      <td>Цифра</td>\n",
              "    </tr>\n",
              "    <tr>\n",
              "      <th>9</th>\n",
              "      <td>9</td>\n",
              "      <td>delivery of goods</td>\n",
              "      <td>Доставка товара</td>\n",
              "      <td>NaN</td>\n",
              "      <td>NaN</td>\n",
              "    </tr>\n",
              "  </tbody>\n",
              "</table>\n",
              "</div>"
            ],
            "text/plain": [
              "   item_category_id            section  ... sub_name sec_sub_name\n",
              "0                 0                 PC  ...      NaN          NaN\n",
              "1                 1        accessories  ...       PS            2\n",
              "2                 2        accessories  ...       PS            3\n",
              "3                 3        accessories  ...       PS            4\n",
              "4                 4        accessories  ...       PS            P\n",
              "5                 5        accessories  ...       PS         Vita\n",
              "6                 6        accessories  ...     XBOX          360\n",
              "7                 7        accessories  ...     XBOX          ONE\n",
              "8                 8            tickets  ...  Билеты         Цифра\n",
              "9                 9  delivery of goods  ...      NaN          NaN\n",
              "\n",
              "[10 rows x 5 columns]"
            ]
          },
          "metadata": {
            "tags": []
          },
          "execution_count": 23
        }
      ]
    },
    {
      "cell_type": "markdown",
      "metadata": {
        "id": "0soy2PN0jnHu"
      },
      "source": [
        "## Item sales\n",
        "\n",
        "- daily revenue\n",
        "- monthly revenue\n",
        "- lagged features\n",
        "- mean encoded features\n",
        "- Lags\n",
        "- Release date\n",
        "- Last month sale\n",
        "- Days on sale\n",
        "- Neighbors (items with id 1000 and 1001 could be somehow similar - genre, type, release date)"
      ],
      "id": "0soy2PN0jnHu"
    },
    {
      "cell_type": "markdown",
      "metadata": {
        "id": "6OsrsZya7eUi"
      },
      "source": [
        "As we've seen so far, there are periods in which no data is available for a certain shop or for a certain item (maybe because it is not available in a certain store), so, what should we do for those cases? Extending the dataset by inlcuding every possible combination of day-shop-item would make the training set reaching over 1B entries."
      ],
      "id": "6OsrsZya7eUi"
    },
    {
      "cell_type": "code",
      "metadata": {
        "colab": {
          "base_uri": "https://localhost:8080/"
        },
        "id": "0IAaYr-fjoZB",
        "outputId": "05f6c091-af62-4682-c14e-7493ecfc64c0"
      },
      "source": [
        "print(\"Power set (date ⨯ shop ⨯ item) size is\", len(train.date.unique()) * len(train.shop_id.unique()) * len(train.item_id.unique()))"
      ],
      "id": "0IAaYr-fjoZB",
      "execution_count": 24,
      "outputs": [
        {
          "output_type": "stream",
          "text": [
            "Power set (date ⨯ shop ⨯ item) size is 1262654624\n"
          ],
          "name": "stdout"
        }
      ]
    },
    {
      "cell_type": "markdown",
      "metadata": {
        "id": "4z8fNjJd_at9"
      },
      "source": [
        "If we considered only `date_block_num` instead of `date`, we would end up with ~4M entries, but we would lose information about daily sales, which, intuitively, can turn useful when predicting sales for November 2015."
      ],
      "id": "4z8fNjJd_at9"
    },
    {
      "cell_type": "code",
      "metadata": {
        "colab": {
          "base_uri": "https://localhost:8080/"
        },
        "id": "IODfMVIX7DCg",
        "outputId": "2b0973ac-800e-4118-c619-11a5f5456715"
      },
      "source": [
        "print(\"Power set (date_block_num ⨯ shop ⨯ item) size is\", len(train.date_block_num.unique()) * len(train.shop_id.unique()) * len(train.item_id.unique()))"
      ],
      "id": "IODfMVIX7DCg",
      "execution_count": 25,
      "outputs": [
        {
          "output_type": "stream",
          "text": [
            "Power set (date_block_num ⨯ shop ⨯ item) size is 41518624\n"
          ],
          "name": "stdout"
        }
      ]
    },
    {
      "cell_type": "code",
      "metadata": {
        "colab": {
          "base_uri": "https://localhost:8080/",
          "height": 419
        },
        "id": "hBMvAs6NtMVL",
        "outputId": "d4193344-e30c-4e84-859f-2c9686407726"
      },
      "source": [
        "train.groupby(['date_block_num','shop_id','item_id']).prod().reset_index()[['date_block_num','shop_id','item_id']]"
      ],
      "id": "hBMvAs6NtMVL",
      "execution_count": 47,
      "outputs": [
        {
          "output_type": "execute_result",
          "data": {
            "text/html": [
              "<div>\n",
              "<style scoped>\n",
              "    .dataframe tbody tr th:only-of-type {\n",
              "        vertical-align: middle;\n",
              "    }\n",
              "\n",
              "    .dataframe tbody tr th {\n",
              "        vertical-align: top;\n",
              "    }\n",
              "\n",
              "    .dataframe thead th {\n",
              "        text-align: right;\n",
              "    }\n",
              "</style>\n",
              "<table border=\"1\" class=\"dataframe\">\n",
              "  <thead>\n",
              "    <tr style=\"text-align: right;\">\n",
              "      <th></th>\n",
              "      <th>date_block_num</th>\n",
              "      <th>shop_id</th>\n",
              "      <th>item_id</th>\n",
              "    </tr>\n",
              "  </thead>\n",
              "  <tbody>\n",
              "    <tr>\n",
              "      <th>0</th>\n",
              "      <td>0</td>\n",
              "      <td>2</td>\n",
              "      <td>27</td>\n",
              "    </tr>\n",
              "    <tr>\n",
              "      <th>1</th>\n",
              "      <td>0</td>\n",
              "      <td>2</td>\n",
              "      <td>33</td>\n",
              "    </tr>\n",
              "    <tr>\n",
              "      <th>2</th>\n",
              "      <td>0</td>\n",
              "      <td>2</td>\n",
              "      <td>317</td>\n",
              "    </tr>\n",
              "    <tr>\n",
              "      <th>3</th>\n",
              "      <td>0</td>\n",
              "      <td>2</td>\n",
              "      <td>438</td>\n",
              "    </tr>\n",
              "    <tr>\n",
              "      <th>4</th>\n",
              "      <td>0</td>\n",
              "      <td>2</td>\n",
              "      <td>471</td>\n",
              "    </tr>\n",
              "    <tr>\n",
              "      <th>...</th>\n",
              "      <td>...</td>\n",
              "      <td>...</td>\n",
              "      <td>...</td>\n",
              "    </tr>\n",
              "    <tr>\n",
              "      <th>1608266</th>\n",
              "      <td>33</td>\n",
              "      <td>59</td>\n",
              "      <td>22087</td>\n",
              "    </tr>\n",
              "    <tr>\n",
              "      <th>1608267</th>\n",
              "      <td>33</td>\n",
              "      <td>59</td>\n",
              "      <td>22088</td>\n",
              "    </tr>\n",
              "    <tr>\n",
              "      <th>1608268</th>\n",
              "      <td>33</td>\n",
              "      <td>59</td>\n",
              "      <td>22091</td>\n",
              "    </tr>\n",
              "    <tr>\n",
              "      <th>1608269</th>\n",
              "      <td>33</td>\n",
              "      <td>59</td>\n",
              "      <td>22100</td>\n",
              "    </tr>\n",
              "    <tr>\n",
              "      <th>1608270</th>\n",
              "      <td>33</td>\n",
              "      <td>59</td>\n",
              "      <td>22102</td>\n",
              "    </tr>\n",
              "  </tbody>\n",
              "</table>\n",
              "<p>1608271 rows × 3 columns</p>\n",
              "</div>"
            ],
            "text/plain": [
              "         date_block_num  shop_id  item_id\n",
              "0                     0        2       27\n",
              "1                     0        2       33\n",
              "2                     0        2      317\n",
              "3                     0        2      438\n",
              "4                     0        2      471\n",
              "...                 ...      ...      ...\n",
              "1608266              33       59    22087\n",
              "1608267              33       59    22088\n",
              "1608268              33       59    22091\n",
              "1608269              33       59    22100\n",
              "1608270              33       59    22102\n",
              "\n",
              "[1608271 rows x 3 columns]"
            ]
          },
          "metadata": {
            "tags": []
          },
          "execution_count": 47
        }
      ]
    },
    {
      "cell_type": "code",
      "metadata": {
        "id": "zZmLYLkPwiqa"
      },
      "source": [
        "grid = []\n",
        "\n",
        "for block_num in sale_train['date_block_num'].unique():\n",
        "\n",
        "    cur_shops = sale_train[sale_train['date_block_num']==block_num]['shop_id'].unique()\n",
        "\n",
        "    cur_items = sale_train[sale_train['date_block_num']==block_num]['item_id'].unique()\n",
        "\n",
        "    grid.append(np.array(list(product(*[cur_shops, cur_items, [block_num]])),dtype='int32'))"
      ],
      "id": "zZmLYLkPwiqa",
      "execution_count": null,
      "outputs": []
    },
    {
      "cell_type": "markdown",
      "metadata": {
        "id": "1ItmWL39mimM"
      },
      "source": [
        "## Dates"
      ],
      "id": "1ItmWL39mimM"
    },
    {
      "cell_type": "markdown",
      "metadata": {
        "id": "d4ArtluXmsOE"
      },
      "source": [
        "There's a lot of work to do on features describing sales, such as prices, dates, item names... Let's start with dates since they can come in handy later when building features on prices. Possible dates features may be: \n",
        "- Weekends and holidays sales (to correct monthly sales)\n",
        "- Number of days in the month (to correct monthly sales)\n",
        "- Month number (for seasonal items)\n",
        "\n",
        "Recall that the variable `date_block_num` varies over the range 0-33, where 0 corresponds to January 2013 and 33 to October 2015, and we are requested to predict sales for November 2015. So we may try to focus on features like\n",
        "- days until christmas\n",
        "- days until black friday (`2013-11-29`, `2014-11-28`, `2015-11-27`)\n",
        "- days until cyber monday (`2013-12-02`, `2014-12-01`, `2015-11-30`)\n"
      ],
      "id": "d4ArtluXmsOE"
    },
    {
      "cell_type": "code",
      "metadata": {
        "id": "_Yui1oz159xw"
      },
      "source": [
        "# convert date from string to datetime\n",
        "train['date'] = pd.to_datetime(train['date'], format='%d.%m.%Y')\n",
        "\n",
        "train['year'] = train['date'].dt.year\n",
        "train['month'] = train['date'].dt.month\n",
        "train['weekday'] = train['date'].dt.weekday\n",
        "train['is_weekend'] = train['date'].dt.day_name().map(lambda x: x in ['Saturday', 'Sunday'])\n",
        "\n",
        "# days until next Christmas (ugly code)\n",
        "## until Christmas 2013\n",
        "train.loc[train.date <= '2013-12-25', 'days_until_christmas'] = (pd.to_datetime('2013-12-25') - train[train.date <= '2013-12-25'].date).dt.days\n",
        "## until Christmas 2014\n",
        "train.loc[train.date.between('2013-12-26', '2014-12-25'), 'days_until_christmas'] = (pd.to_datetime('2014-12-25') - train[train.date.between('2013-12-26', '2014-12-25')].date).dt.days\n",
        "## until Christmas 2015\n",
        "train.loc[train.date > '2014-12-25', 'days_until_christmas'] = (pd.to_datetime('2015-12-25') - train[train.date > '2014-12-25'].date).dt.days\n",
        "\n",
        "# days until next black friday (ugly code)\n",
        "## until black friday 2013\n",
        "train.loc[train.date <= '2013-11-29', 'days_until_blackfr'] = (pd.to_datetime('2013-11-29') - train[train.date <= '2013-11-29'].date).dt.days\n",
        "## until Christmas 2014\n",
        "train.loc[train.date.between('2013-11-30', '2014-11-28'), 'days_until_blackfr'] = (pd.to_datetime('2014-11-28') - train[train.date.between('2013-11-30', '2014-11-28')].date).dt.days\n",
        "## until Christmas 2015\n",
        "train.loc[train.date > '2014-11-28', 'days_until_blackfr'] = (pd.to_datetime('2015-11-27') - train[train.date > '2014-11-28'].date).dt.days\n",
        "\n",
        "# days until next cyber monday\n",
        "train['days_until_cybermo'] = train['days_until_blackfr'] + 3\n",
        "\n",
        "# downcast new columns\n",
        "train['year'] = train.year.astype(np.int16)\n",
        "train['month'] = train.month.astype(np.int16)\n",
        "train['weekday'] = train.weekday.astype(np.int16)\n",
        "train['days_until_christmas'] = train.days_until_christmas.astype(np.int16)\n",
        "train['days_until_blackfr'] = train.days_until_blackfr.astype(np.int16)\n",
        "train['days_until_cybermo'] = train.days_until_cybermo.astype(np.int16)"
      ],
      "id": "_Yui1oz159xw",
      "execution_count": null,
      "outputs": []
    },
    {
      "cell_type": "code",
      "metadata": {
        "colab": {
          "base_uri": "https://localhost:8080/",
          "height": 309
        },
        "id": "iqKF_Vk42JW7",
        "outputId": "97e19e3f-0dea-4093-c1cd-3376f3f482f3"
      },
      "source": [
        "train.head(5)"
      ],
      "id": "iqKF_Vk42JW7",
      "execution_count": null,
      "outputs": [
        {
          "output_type": "execute_result",
          "data": {
            "text/html": [
              "<div>\n",
              "<style scoped>\n",
              "    .dataframe tbody tr th:only-of-type {\n",
              "        vertical-align: middle;\n",
              "    }\n",
              "\n",
              "    .dataframe tbody tr th {\n",
              "        vertical-align: top;\n",
              "    }\n",
              "\n",
              "    .dataframe thead th {\n",
              "        text-align: right;\n",
              "    }\n",
              "</style>\n",
              "<table border=\"1\" class=\"dataframe\">\n",
              "  <thead>\n",
              "    <tr style=\"text-align: right;\">\n",
              "      <th></th>\n",
              "      <th>date</th>\n",
              "      <th>date_block_num</th>\n",
              "      <th>shop_id</th>\n",
              "      <th>item_id</th>\n",
              "      <th>item_price</th>\n",
              "      <th>item_cnt_day</th>\n",
              "      <th>year</th>\n",
              "      <th>month</th>\n",
              "      <th>weekday</th>\n",
              "      <th>is_weekend</th>\n",
              "      <th>days_until_christmas</th>\n",
              "      <th>days_until_blackfr</th>\n",
              "      <th>days_until_cybermo</th>\n",
              "    </tr>\n",
              "  </thead>\n",
              "  <tbody>\n",
              "    <tr>\n",
              "      <th>0</th>\n",
              "      <td>2013-01-02</td>\n",
              "      <td>0</td>\n",
              "      <td>59</td>\n",
              "      <td>22154</td>\n",
              "      <td>999.000000</td>\n",
              "      <td>1.0</td>\n",
              "      <td>2013</td>\n",
              "      <td>1</td>\n",
              "      <td>2</td>\n",
              "      <td>False</td>\n",
              "      <td>357</td>\n",
              "      <td>331</td>\n",
              "      <td>334</td>\n",
              "    </tr>\n",
              "    <tr>\n",
              "      <th>1</th>\n",
              "      <td>2013-01-03</td>\n",
              "      <td>0</td>\n",
              "      <td>25</td>\n",
              "      <td>2552</td>\n",
              "      <td>899.000000</td>\n",
              "      <td>1.0</td>\n",
              "      <td>2013</td>\n",
              "      <td>1</td>\n",
              "      <td>3</td>\n",
              "      <td>False</td>\n",
              "      <td>356</td>\n",
              "      <td>330</td>\n",
              "      <td>333</td>\n",
              "    </tr>\n",
              "    <tr>\n",
              "      <th>2</th>\n",
              "      <td>2013-01-05</td>\n",
              "      <td>0</td>\n",
              "      <td>25</td>\n",
              "      <td>2552</td>\n",
              "      <td>899.000000</td>\n",
              "      <td>0.0</td>\n",
              "      <td>2013</td>\n",
              "      <td>1</td>\n",
              "      <td>5</td>\n",
              "      <td>True</td>\n",
              "      <td>354</td>\n",
              "      <td>328</td>\n",
              "      <td>331</td>\n",
              "    </tr>\n",
              "    <tr>\n",
              "      <th>3</th>\n",
              "      <td>2013-01-06</td>\n",
              "      <td>0</td>\n",
              "      <td>25</td>\n",
              "      <td>2554</td>\n",
              "      <td>1709.050049</td>\n",
              "      <td>1.0</td>\n",
              "      <td>2013</td>\n",
              "      <td>1</td>\n",
              "      <td>6</td>\n",
              "      <td>True</td>\n",
              "      <td>353</td>\n",
              "      <td>327</td>\n",
              "      <td>330</td>\n",
              "    </tr>\n",
              "    <tr>\n",
              "      <th>4</th>\n",
              "      <td>2013-01-15</td>\n",
              "      <td>0</td>\n",
              "      <td>25</td>\n",
              "      <td>2555</td>\n",
              "      <td>1099.000000</td>\n",
              "      <td>1.0</td>\n",
              "      <td>2013</td>\n",
              "      <td>1</td>\n",
              "      <td>1</td>\n",
              "      <td>False</td>\n",
              "      <td>344</td>\n",
              "      <td>318</td>\n",
              "      <td>321</td>\n",
              "    </tr>\n",
              "  </tbody>\n",
              "</table>\n",
              "</div>"
            ],
            "text/plain": [
              "        date  date_block_num  ...  days_until_blackfr  days_until_cybermo\n",
              "0 2013-01-02               0  ...                 331                 334\n",
              "1 2013-01-03               0  ...                 330                 333\n",
              "2 2013-01-05               0  ...                 328                 331\n",
              "3 2013-01-06               0  ...                 327                 330\n",
              "4 2013-01-15               0  ...                 318                 321\n",
              "\n",
              "[5 rows x 13 columns]"
            ]
          },
          "metadata": {
            "tags": []
          },
          "execution_count": 25
        }
      ]
    }
  ]
}