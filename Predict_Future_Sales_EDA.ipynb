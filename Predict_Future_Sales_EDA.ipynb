{
  "nbformat": 4,
  "nbformat_minor": 5,
  "metadata": {
    "colab": {
      "name": "Predict Future Sales - EDA.ipynb",
      "provenance": [],
      "collapsed_sections": [
        "GFnyFuVvFioB",
        "ZwHztu2shSIu",
        "TQ_omzd5jetY",
        "kPrq7lK7dplx",
        "w1aKjPgoj9Yi",
        "Dm11wDi0CCI9",
        "gtxPd5HNmpp0",
        "0soy2PN0jnHu",
        "1ItmWL39mimM"
      ],
      "include_colab_link": true
    },
    "kernelspec": {
      "display_name": "Python 3",
      "language": "python",
      "name": "python3"
    },
    "language_info": {
      "codemirror_mode": {
        "name": "ipython",
        "version": 3
      },
      "file_extension": ".py",
      "mimetype": "text/x-python",
      "name": "python",
      "nbconvert_exporter": "python",
      "pygments_lexer": "ipython3",
      "version": "3.8.6"
    }
  },
  "cells": [
    {
      "cell_type": "markdown",
      "metadata": {
        "id": "view-in-github",
        "colab_type": "text"
      },
      "source": [
        "<a href=\"https://colab.research.google.com/github/pietroventurini/predict-future-sales/blob/main/Predict_Future_Sales_EDA.ipynb\" target=\"_parent\"><img src=\"https://colab.research.google.com/assets/colab-badge.svg\" alt=\"Open In Colab\"/></a>"
      ]
    },
    {
      "cell_type": "markdown",
      "metadata": {
        "id": "driving-forwarding"
      },
      "source": [
        "# Kaggle competition: Predict Future Sales"
      ],
      "id": "driving-forwarding"
    },
    {
      "cell_type": "markdown",
      "metadata": {
        "id": "satellite-peoples"
      },
      "source": [
        "In the [**predict future sales**](https://www.kaggle.com/c/competitive-data-science-predict-future-sales) competition we are working with a time-series dataset consisting of daily sales data from Jan 2013 to Oct 2015. The goal is to predict total sales for every product and store in the next month (November 2015).\n",
        "\n",
        "We are going to approach the problem in this way:\n",
        "1. **Exploratory data analysis:** take a look at the dataset and perform data cleaning.\n",
        "2. **Feature engineering:** understand which useful information can be extracted from the features.\n",
        "3. **Modelling:** choose a suitable model for the problem.\n",
        "4. **Training:** train the model on the training set\n",
        "5. **Model evaluation:** try to predict future sales and evaluate the performances of the model."
      ],
      "id": "satellite-peoples"
    },
    {
      "cell_type": "markdown",
      "metadata": {
        "id": "GFnyFuVvFioB"
      },
      "source": [
        "# Exploratory Data Analysis"
      ],
      "id": "GFnyFuVvFioB"
    },
    {
      "cell_type": "markdown",
      "metadata": {
        "id": "dried-manhattan"
      },
      "source": [
        "\n",
        "\n",
        "Let's start by exploring the content of our dataset. According to the competition description, the training data is provided in 4 different .csv files:\n",
        "\n",
        "- `sales_train.csv` - the training set. Daily historical data from January 2013 to October 2015.\n",
        "- `items.csv` - supplemental information about the items/products.\n",
        "- `item_categories.csv`  - supplemental information about the items categories.\n",
        "- `shops.csv`- supplemental information about the shops.\n",
        "\n",
        "Sales and shops are represented by the following fields:\n",
        "\n",
        "- `ID` - an Id that represents a (Shop, Item) tuple within the test set\n",
        "- `shop_id` - unique identifier of a shop\n",
        "- `item_id` - unique identifier of a product\n",
        "- `item_category_id` - unique identifier of item category\n",
        "- `item_cnt_day` - number of products sold. You are predicting a monthly amount of this measure\n",
        "- `item_price` - current price of an item\n",
        "- `date` - date in format dd/mm/yyyy\n",
        "- `date_block_num` - a consecutive month number, used for convenience. January 2013 is 0, February 2013 is 1,..., October 2015 is 33\n",
        "- `item_name` - name of item\n",
        "- `shop_name` - name of shop\n",
        "- `item_category_name` - name of item category\n",
        "\n",
        "The content of the datasets is in russian, so we may think of translating it into english because many interesting features can be extracted from the names of the products, shops and categories, for instance:\n",
        "- Books - Audio Books\n",
        "- Books - Computer books\n",
        "- Books - …\n",
        "\n",
        "From those names we could build a feature that contains only the top level category. The translation can be done manually using some python libraries (e.g. googletrans), but other competitors have already taken the trouble to translate it for us. Translated datasets can be recognized by the `_en` suffix. However, translation can break the structure of some names (e.g. russian shop names comes in the format `city | type | name`, so, by translating them in english we risk to break that structure) and complicate our life when extracting features from them."
      ],
      "id": "dried-manhattan"
    },
    {
      "cell_type": "code",
      "metadata": {
        "id": "equipped-maldives"
      },
      "source": [
        "import numpy as np\n",
        "import pandas as pd\n",
        "import seaborn as sns\n",
        "import matplotlib.pyplot as plt\n",
        "import plotly.express as px\n",
        "\n",
        "import time\n",
        "import gc\n",
        "\n",
        "from sklearn.cluster import dbscan\n",
        "from sklearn.preprocessing import LabelEncoder\n",
        "from sklearn.model_selection import KFold\n",
        "from google.colab import drive\n",
        "\n",
        "\n",
        "# Constants\n",
        "RND_SEED = 11\n",
        "use_drive = True"
      ],
      "id": "equipped-maldives",
      "execution_count": null,
      "outputs": []
    },
    {
      "cell_type": "markdown",
      "metadata": {
        "id": "L2Sm6KgUhZLn"
      },
      "source": [
        "### Loading data"
      ],
      "id": "L2Sm6KgUhZLn"
    },
    {
      "cell_type": "code",
      "metadata": {
        "colab": {
          "base_uri": "https://localhost:8080/",
          "height": 221
        },
        "id": "aggressive-theory",
        "outputId": "76d13f82-5308-4232-d952-1a84ec7d3b6c"
      },
      "source": [
        "if use_drive:\n",
        "  drive_name = '/content/drive'\n",
        "  drive.mount(drive_name)\n",
        "  drive_folder = 'Colab Notebooks/Predict Future Sales' # Files location in Google Drive\n",
        "  drive_location = drive_name + '/My Drive/' + drive_folder + '/'\n",
        "else:\n",
        "  drive_location = './'\n",
        "\n",
        "TRAIN_PATH = drive_location + 'datasets/sales_train.csv'\n",
        "CATEGORIES_PATH = drive_location + 'datasets/item_categories.csv'\n",
        "ITEMS_PATH= drive_location + 'datasets/items.csv'\n",
        "SHOPS_PATH = drive_location + 'datasets/shops.csv'\n",
        "TEST_PATH = drive_location + 'datasets/test.csv'\n",
        "SUBMISSION_PATH = drive_location + 'datasets/sample_submission.csv'\n",
        "\n",
        "train = pd.read_csv(TRAIN_PATH)\n",
        "items = pd.read_csv(ITEMS_PATH)\n",
        "categories = pd.read_csv(CATEGORIES_PATH)\n",
        "shops = pd.read_csv(SHOPS_PATH)\n",
        "test = pd.read_csv(TEST_PATH)\n",
        "sample_submission = pd.read_csv(SUBMISSION_PATH, index_col='ID')\n",
        "\n",
        "train.head(5)"
      ],
      "id": "aggressive-theory",
      "execution_count": null,
      "outputs": [
        {
          "output_type": "stream",
          "text": [
            "Drive already mounted at /content/drive; to attempt to forcibly remount, call drive.mount(\"/content/drive\", force_remount=True).\n"
          ],
          "name": "stdout"
        },
        {
          "output_type": "execute_result",
          "data": {
            "text/html": [
              "<div>\n",
              "<style scoped>\n",
              "    .dataframe tbody tr th:only-of-type {\n",
              "        vertical-align: middle;\n",
              "    }\n",
              "\n",
              "    .dataframe tbody tr th {\n",
              "        vertical-align: top;\n",
              "    }\n",
              "\n",
              "    .dataframe thead th {\n",
              "        text-align: right;\n",
              "    }\n",
              "</style>\n",
              "<table border=\"1\" class=\"dataframe\">\n",
              "  <thead>\n",
              "    <tr style=\"text-align: right;\">\n",
              "      <th></th>\n",
              "      <th>date</th>\n",
              "      <th>date_block_num</th>\n",
              "      <th>shop_id</th>\n",
              "      <th>item_id</th>\n",
              "      <th>item_price</th>\n",
              "      <th>item_cnt_day</th>\n",
              "    </tr>\n",
              "  </thead>\n",
              "  <tbody>\n",
              "    <tr>\n",
              "      <th>0</th>\n",
              "      <td>02.01.2013</td>\n",
              "      <td>0</td>\n",
              "      <td>59</td>\n",
              "      <td>22154</td>\n",
              "      <td>999.00</td>\n",
              "      <td>1.0</td>\n",
              "    </tr>\n",
              "    <tr>\n",
              "      <th>1</th>\n",
              "      <td>03.01.2013</td>\n",
              "      <td>0</td>\n",
              "      <td>25</td>\n",
              "      <td>2552</td>\n",
              "      <td>899.00</td>\n",
              "      <td>1.0</td>\n",
              "    </tr>\n",
              "    <tr>\n",
              "      <th>2</th>\n",
              "      <td>05.01.2013</td>\n",
              "      <td>0</td>\n",
              "      <td>25</td>\n",
              "      <td>2552</td>\n",
              "      <td>899.00</td>\n",
              "      <td>-1.0</td>\n",
              "    </tr>\n",
              "    <tr>\n",
              "      <th>3</th>\n",
              "      <td>06.01.2013</td>\n",
              "      <td>0</td>\n",
              "      <td>25</td>\n",
              "      <td>2554</td>\n",
              "      <td>1709.05</td>\n",
              "      <td>1.0</td>\n",
              "    </tr>\n",
              "    <tr>\n",
              "      <th>4</th>\n",
              "      <td>15.01.2013</td>\n",
              "      <td>0</td>\n",
              "      <td>25</td>\n",
              "      <td>2555</td>\n",
              "      <td>1099.00</td>\n",
              "      <td>1.0</td>\n",
              "    </tr>\n",
              "  </tbody>\n",
              "</table>\n",
              "</div>"
            ],
            "text/plain": [
              "         date  date_block_num  shop_id  item_id  item_price  item_cnt_day\n",
              "0  02.01.2013               0       59    22154      999.00           1.0\n",
              "1  03.01.2013               0       25     2552      899.00           1.0\n",
              "2  05.01.2013               0       25     2552      899.00          -1.0\n",
              "3  06.01.2013               0       25     2554     1709.05           1.0\n",
              "4  15.01.2013               0       25     2555     1099.00           1.0"
            ]
          },
          "metadata": {
            "tags": []
          },
          "execution_count": 2
        }
      ]
    },
    {
      "cell_type": "code",
      "metadata": {
        "colab": {
          "base_uri": "https://localhost:8080/"
        },
        "id": "descending-villa",
        "outputId": "f4ef1a38-bf6f-4504-913e-0cb300e82874"
      },
      "source": [
        "print(\"\\n-----------Information-----------\")\n",
        "print(train.info())\n",
        "print(\"\\n----------Null values-----------\")\n",
        "print(train.isnull().sum())\n",
        "print(\"\\n----------Shape of Data----------\")\n",
        "print(train.shape)"
      ],
      "id": "descending-villa",
      "execution_count": null,
      "outputs": [
        {
          "output_type": "stream",
          "text": [
            "\n",
            "-----------Information-----------\n",
            "<class 'pandas.core.frame.DataFrame'>\n",
            "RangeIndex: 2935849 entries, 0 to 2935848\n",
            "Data columns (total 6 columns):\n",
            " #   Column          Dtype  \n",
            "---  ------          -----  \n",
            " 0   date            object \n",
            " 1   date_block_num  int64  \n",
            " 2   shop_id         int64  \n",
            " 3   item_id         int64  \n",
            " 4   item_price      float64\n",
            " 5   item_cnt_day    float64\n",
            "dtypes: float64(2), int64(3), object(1)\n",
            "memory usage: 134.4+ MB\n",
            "None\n",
            "\n",
            "----------Null values-----------\n",
            "date              0\n",
            "date_block_num    0\n",
            "shop_id           0\n",
            "item_id           0\n",
            "item_price        0\n",
            "item_cnt_day      0\n",
            "dtype: int64\n",
            "\n",
            "----------Shape of Data----------\n",
            "(2935849, 6)\n"
          ],
          "name": "stdout"
        }
      ]
    },
    {
      "cell_type": "markdown",
      "metadata": {
        "id": "ZwHztu2shSIu"
      },
      "source": [
        "### Downcasting"
      ],
      "id": "ZwHztu2shSIu"
    },
    {
      "cell_type": "markdown",
      "metadata": {
        "id": "behind-phase"
      },
      "source": [
        "As we can see from the information block, the training set is 134.4+ MB in size, so, in order to reduce the memory occupation, we can downcast the dataframe from _int64_ and _float64_ to _int16_ and _float32_."
      ],
      "id": "behind-phase"
    },
    {
      "cell_type": "code",
      "metadata": {
        "colab": {
          "base_uri": "https://localhost:8080/"
        },
        "id": "antique-gender",
        "outputId": "8ac21037-43fe-463d-8bd1-377628510692"
      },
      "source": [
        "def downcast(df):\n",
        "  \"\"\"Downcasts float64 types to float32 and int64/int/32 to int16.\"\"\"\n",
        "  float_cols = [c for c in df if df[c].dtype == 'float64']\n",
        "  int_cols = [c for c in df if df[c].dtype in ['int64', 'int32']]\n",
        "  df[float_cols] = df[float_cols].astype(np.float32)\n",
        "  df[int_cols] = df[int_cols].astype(np.int16)\n",
        "  return df\n",
        "\n",
        "train = downcast(train)\n",
        "train.info()"
      ],
      "id": "antique-gender",
      "execution_count": null,
      "outputs": [
        {
          "output_type": "stream",
          "text": [
            "<class 'pandas.core.frame.DataFrame'>\n",
            "RangeIndex: 2935849 entries, 0 to 2935848\n",
            "Data columns (total 6 columns):\n",
            " #   Column          Dtype  \n",
            "---  ------          -----  \n",
            " 0   date            object \n",
            " 1   date_block_num  int16  \n",
            " 2   shop_id         int16  \n",
            " 3   item_id         int16  \n",
            " 4   item_price      float32\n",
            " 5   item_cnt_day    float32\n",
            "dtypes: float32(2), int16(3), object(1)\n",
            "memory usage: 61.6+ MB\n"
          ],
          "name": "stdout"
        }
      ]
    },
    {
      "cell_type": "markdown",
      "metadata": {
        "id": "aging-median"
      },
      "source": [
        "We have reduced the size of the training set from 134.4 MB down to 61.6+ MB."
      ],
      "id": "aging-median"
    },
    {
      "cell_type": "markdown",
      "metadata": {
        "id": "zxaw3MAEhfvi"
      },
      "source": [
        "## Data cleaning"
      ],
      "id": "zxaw3MAEhfvi"
    },
    {
      "cell_type": "code",
      "metadata": {
        "colab": {
          "base_uri": "https://localhost:8080/",
          "height": 297
        },
        "id": "FU16DvmShg7r",
        "outputId": "9e5c50ad-a1e3-4eab-ea96-b4c00e73fffc"
      },
      "source": [
        "# remove duplicated rows\n",
        "train = train.drop_duplicates()\n",
        "\n",
        "# view information about prices and sold quantities\n",
        "train[['item_price', 'item_cnt_day']].describe()"
      ],
      "id": "FU16DvmShg7r",
      "execution_count": null,
      "outputs": [
        {
          "output_type": "execute_result",
          "data": {
            "text/html": [
              "<div>\n",
              "<style scoped>\n",
              "    .dataframe tbody tr th:only-of-type {\n",
              "        vertical-align: middle;\n",
              "    }\n",
              "\n",
              "    .dataframe tbody tr th {\n",
              "        vertical-align: top;\n",
              "    }\n",
              "\n",
              "    .dataframe thead th {\n",
              "        text-align: right;\n",
              "    }\n",
              "</style>\n",
              "<table border=\"1\" class=\"dataframe\">\n",
              "  <thead>\n",
              "    <tr style=\"text-align: right;\">\n",
              "      <th></th>\n",
              "      <th>item_price</th>\n",
              "      <th>item_cnt_day</th>\n",
              "    </tr>\n",
              "  </thead>\n",
              "  <tbody>\n",
              "    <tr>\n",
              "      <th>count</th>\n",
              "      <td>2.935843e+06</td>\n",
              "      <td>2.935843e+06</td>\n",
              "    </tr>\n",
              "    <tr>\n",
              "      <th>mean</th>\n",
              "      <td>8.906237e+02</td>\n",
              "      <td>1.242641e+00</td>\n",
              "    </tr>\n",
              "    <tr>\n",
              "      <th>std</th>\n",
              "      <td>1.726442e+03</td>\n",
              "      <td>2.612216e+00</td>\n",
              "    </tr>\n",
              "    <tr>\n",
              "      <th>min</th>\n",
              "      <td>-1.000000e+00</td>\n",
              "      <td>-2.200000e+01</td>\n",
              "    </tr>\n",
              "    <tr>\n",
              "      <th>25%</th>\n",
              "      <td>2.490000e+02</td>\n",
              "      <td>1.000000e+00</td>\n",
              "    </tr>\n",
              "    <tr>\n",
              "      <th>50%</th>\n",
              "      <td>3.990000e+02</td>\n",
              "      <td>1.000000e+00</td>\n",
              "    </tr>\n",
              "    <tr>\n",
              "      <th>75%</th>\n",
              "      <td>9.990000e+02</td>\n",
              "      <td>1.000000e+00</td>\n",
              "    </tr>\n",
              "    <tr>\n",
              "      <th>max</th>\n",
              "      <td>3.079800e+05</td>\n",
              "      <td>2.169000e+03</td>\n",
              "    </tr>\n",
              "  </tbody>\n",
              "</table>\n",
              "</div>"
            ],
            "text/plain": [
              "         item_price  item_cnt_day\n",
              "count  2.935843e+06  2.935843e+06\n",
              "mean   8.906237e+02  1.242641e+00\n",
              "std    1.726442e+03  2.612216e+00\n",
              "min   -1.000000e+00 -2.200000e+01\n",
              "25%    2.490000e+02  1.000000e+00\n",
              "50%    3.990000e+02  1.000000e+00\n",
              "75%    9.990000e+02  1.000000e+00\n",
              "max    3.079800e+05  2.169000e+03"
            ]
          },
          "metadata": {
            "tags": []
          },
          "execution_count": 5
        }
      ]
    },
    {
      "cell_type": "markdown",
      "metadata": {
        "id": "TuxBNXJICffM"
      },
      "source": [
        "The first thing that catches the eye is the fact that the minimum price and the minimum sold quantity are negative, respectively, the minimum price is -1 and the minimum sold quantity is -22. "
      ],
      "id": "TuxBNXJICffM"
    },
    {
      "cell_type": "markdown",
      "metadata": {
        "id": "TQ_omzd5jetY"
      },
      "source": [
        "### Negative prices"
      ],
      "id": "TQ_omzd5jetY"
    },
    {
      "cell_type": "code",
      "metadata": {
        "colab": {
          "base_uri": "https://localhost:8080/",
          "height": 80
        },
        "id": "MyWv5V1w0Zg3",
        "outputId": "79236f9b-9ce1-41f3-bc18-a17474cfa1ef"
      },
      "source": [
        "# items with price <= 0\n",
        "neg_items = train[train.item_price <= 0]\n",
        "neg_items"
      ],
      "id": "MyWv5V1w0Zg3",
      "execution_count": null,
      "outputs": [
        {
          "output_type": "execute_result",
          "data": {
            "text/html": [
              "<div>\n",
              "<style scoped>\n",
              "    .dataframe tbody tr th:only-of-type {\n",
              "        vertical-align: middle;\n",
              "    }\n",
              "\n",
              "    .dataframe tbody tr th {\n",
              "        vertical-align: top;\n",
              "    }\n",
              "\n",
              "    .dataframe thead th {\n",
              "        text-align: right;\n",
              "    }\n",
              "</style>\n",
              "<table border=\"1\" class=\"dataframe\">\n",
              "  <thead>\n",
              "    <tr style=\"text-align: right;\">\n",
              "      <th></th>\n",
              "      <th>date</th>\n",
              "      <th>date_block_num</th>\n",
              "      <th>shop_id</th>\n",
              "      <th>item_id</th>\n",
              "      <th>item_price</th>\n",
              "      <th>item_cnt_day</th>\n",
              "    </tr>\n",
              "  </thead>\n",
              "  <tbody>\n",
              "    <tr>\n",
              "      <th>484683</th>\n",
              "      <td>15.05.2013</td>\n",
              "      <td>4</td>\n",
              "      <td>32</td>\n",
              "      <td>2973</td>\n",
              "      <td>-1.0</td>\n",
              "      <td>1.0</td>\n",
              "    </tr>\n",
              "  </tbody>\n",
              "</table>\n",
              "</div>"
            ],
            "text/plain": [
              "              date  date_block_num  shop_id  item_id  item_price  item_cnt_day\n",
              "484683  15.05.2013               4       32     2973        -1.0           1.0"
            ]
          },
          "metadata": {
            "tags": []
          },
          "execution_count": 6
        }
      ]
    },
    {
      "cell_type": "code",
      "metadata": {
        "colab": {
          "base_uri": "https://localhost:8080/",
          "height": 80
        },
        "id": "ViM0BiQud_1g",
        "outputId": "35956454-7400-44b3-d67d-704f8743590b"
      },
      "source": [
        "# get details of the item with price < 0\n",
        "neg_item = neg_items.iloc[0]\n",
        "items.loc[items['item_id'] == neg_item['item_id']]"
      ],
      "id": "ViM0BiQud_1g",
      "execution_count": null,
      "outputs": [
        {
          "output_type": "execute_result",
          "data": {
            "text/html": [
              "<div>\n",
              "<style scoped>\n",
              "    .dataframe tbody tr th:only-of-type {\n",
              "        vertical-align: middle;\n",
              "    }\n",
              "\n",
              "    .dataframe tbody tr th {\n",
              "        vertical-align: top;\n",
              "    }\n",
              "\n",
              "    .dataframe thead th {\n",
              "        text-align: right;\n",
              "    }\n",
              "</style>\n",
              "<table border=\"1\" class=\"dataframe\">\n",
              "  <thead>\n",
              "    <tr style=\"text-align: right;\">\n",
              "      <th></th>\n",
              "      <th>item_name</th>\n",
              "      <th>item_id</th>\n",
              "      <th>item_category_id</th>\n",
              "    </tr>\n",
              "  </thead>\n",
              "  <tbody>\n",
              "    <tr>\n",
              "      <th>2973</th>\n",
              "      <td>DmC Devil May Cry [PS3, русские субтитры]</td>\n",
              "      <td>2973</td>\n",
              "      <td>19</td>\n",
              "    </tr>\n",
              "  </tbody>\n",
              "</table>\n",
              "</div>"
            ],
            "text/plain": [
              "                                      item_name  item_id  item_category_id\n",
              "2973  DmC Devil May Cry [PS3, русские субтитры]     2973                19"
            ]
          },
          "metadata": {
            "tags": []
          },
          "execution_count": 7
        }
      ]
    },
    {
      "cell_type": "markdown",
      "metadata": {
        "id": "IorOnd5k0pRv"
      },
      "source": [
        "Fortunately, there is only one item with a negative price. We could replace it with the median of the prices, but let's try to be more precise. The item in question is a PS3 game. Typically, game prices decreases over time since their release date, and tend to be the same among different sellers. Therefore, let's see if other shops sold the same item in that date (extending the search to the same week or month, if necessary), and use that price as a proxy for our missing value. Otherwise, we could average the price for that item from the same shop in the next few days."
      ],
      "id": "IorOnd5k0pRv"
    },
    {
      "cell_type": "code",
      "metadata": {
        "colab": {
          "base_uri": "https://localhost:8080/",
          "height": 173
        },
        "id": "Ueyd4R1FUWVX",
        "outputId": "eaa7c3d4-15f2-4894-a855-05053f98d6b9"
      },
      "source": [
        "train[(train['item_id'] == neg_item['item_id']) & (train['date'] == neg_item['date'])]"
      ],
      "id": "Ueyd4R1FUWVX",
      "execution_count": null,
      "outputs": [
        {
          "output_type": "execute_result",
          "data": {
            "text/html": [
              "<div>\n",
              "<style scoped>\n",
              "    .dataframe tbody tr th:only-of-type {\n",
              "        vertical-align: middle;\n",
              "    }\n",
              "\n",
              "    .dataframe tbody tr th {\n",
              "        vertical-align: top;\n",
              "    }\n",
              "\n",
              "    .dataframe thead th {\n",
              "        text-align: right;\n",
              "    }\n",
              "</style>\n",
              "<table border=\"1\" class=\"dataframe\">\n",
              "  <thead>\n",
              "    <tr style=\"text-align: right;\">\n",
              "      <th></th>\n",
              "      <th>date</th>\n",
              "      <th>date_block_num</th>\n",
              "      <th>shop_id</th>\n",
              "      <th>item_id</th>\n",
              "      <th>item_price</th>\n",
              "      <th>item_cnt_day</th>\n",
              "    </tr>\n",
              "  </thead>\n",
              "  <tbody>\n",
              "    <tr>\n",
              "      <th>453034</th>\n",
              "      <td>15.05.2013</td>\n",
              "      <td>4</td>\n",
              "      <td>25</td>\n",
              "      <td>2973</td>\n",
              "      <td>1249.5</td>\n",
              "      <td>1.0</td>\n",
              "    </tr>\n",
              "    <tr>\n",
              "      <th>469026</th>\n",
              "      <td>15.05.2013</td>\n",
              "      <td>4</td>\n",
              "      <td>46</td>\n",
              "      <td>2973</td>\n",
              "      <td>1249.5</td>\n",
              "      <td>1.0</td>\n",
              "    </tr>\n",
              "    <tr>\n",
              "      <th>469951</th>\n",
              "      <td>15.05.2013</td>\n",
              "      <td>4</td>\n",
              "      <td>45</td>\n",
              "      <td>2973</td>\n",
              "      <td>1249.0</td>\n",
              "      <td>1.0</td>\n",
              "    </tr>\n",
              "    <tr>\n",
              "      <th>484683</th>\n",
              "      <td>15.05.2013</td>\n",
              "      <td>4</td>\n",
              "      <td>32</td>\n",
              "      <td>2973</td>\n",
              "      <td>-1.0</td>\n",
              "      <td>1.0</td>\n",
              "    </tr>\n",
              "  </tbody>\n",
              "</table>\n",
              "</div>"
            ],
            "text/plain": [
              "              date  date_block_num  shop_id  item_id  item_price  item_cnt_day\n",
              "453034  15.05.2013               4       25     2973      1249.5           1.0\n",
              "469026  15.05.2013               4       46     2973      1249.5           1.0\n",
              "469951  15.05.2013               4       45     2973      1249.0           1.0\n",
              "484683  15.05.2013               4       32     2973        -1.0           1.0"
            ]
          },
          "metadata": {
            "tags": []
          },
          "execution_count": 8
        }
      ]
    },
    {
      "cell_type": "code",
      "metadata": {
        "id": "gry4PU3uYLY4"
      },
      "source": [
        "# set the product price to that value\n",
        "train.loc[train.item_price <= 0, 'item_price'] = 1249.0"
      ],
      "id": "gry4PU3uYLY4",
      "execution_count": null,
      "outputs": []
    },
    {
      "cell_type": "markdown",
      "metadata": {
        "id": "kPrq7lK7dplx"
      },
      "source": [
        "### Negative quantities sold\n",
        "\n",
        "Let's now deal with negative quantities sold. By looking at some of the discussions on the competition page, I've seen that many people considered negative values for `item_cnt_day` as returned items. Let's stick to that interpretation and set them equal to zero."
      ],
      "id": "kPrq7lK7dplx"
    },
    {
      "cell_type": "code",
      "metadata": {
        "id": "vs0XLKs9eU1r"
      },
      "source": [
        "train.loc[train.item_cnt_day < 0, 'item_cnt_day'] = 0"
      ],
      "id": "vs0XLKs9eU1r",
      "execution_count": null,
      "outputs": []
    },
    {
      "cell_type": "markdown",
      "metadata": {
        "id": "w1aKjPgoj9Yi"
      },
      "source": [
        "### Outliers\n",
        "\n",
        "Let's take a look at the distributions of prices and quantities."
      ],
      "id": "w1aKjPgoj9Yi"
    },
    {
      "cell_type": "code",
      "metadata": {
        "colab": {
          "base_uri": "https://localhost:8080/",
          "height": 296
        },
        "id": "Rvc9PNJgleyV",
        "outputId": "acab1524-2ee5-459a-a69a-85c1cb0d3690"
      },
      "source": [
        "fig, axs = plt.subplots(1, 2, figsize=(22,4))\n",
        "sns.boxplot(x='item_price', data=train, ax=axs[0])\n",
        "sns.boxplot(x='item_cnt_day', data=train, ax=axs[1])\n",
        "axs[0].set_title('Boxplot of item_price')\n",
        "axs[1].set_title('Boxplot of item_cnt_day')\n",
        "plt.show()"
      ],
      "id": "Rvc9PNJgleyV",
      "execution_count": null,
      "outputs": [
        {
          "output_type": "display_data",
          "data": {
            "image/png": "[encoded data removed]",
            "text/plain": [
              "<Figure size 1584x288 with 2 Axes>"
            ]
          },
          "metadata": {
            "tags": [],
            "needs_background": "light"
          }
        }
      ]
    },
    {
      "cell_type": "markdown",
      "metadata": {
        "id": "VnRVpVi6z8KG"
      },
      "source": [
        "First of all, there is an item with a very large price that we should inspect. Similarly there are few items with a large number of units sold in a single day."
      ],
      "id": "VnRVpVi6z8KG"
    },
    {
      "cell_type": "code",
      "metadata": {
        "colab": {
          "base_uri": "https://localhost:8080/"
        },
        "id": "HEdbZQ5TqJXf",
        "outputId": "8763ec1b-a215-4e14-de95-63057bad41f8"
      },
      "source": [
        "# most expensive item\n",
        "train.loc[train.item_price.idxmax()]"
      ],
      "id": "HEdbZQ5TqJXf",
      "execution_count": null,
      "outputs": [
        {
          "output_type": "execute_result",
          "data": {
            "text/plain": [
              "date              13.12.2013\n",
              "date_block_num            11\n",
              "shop_id                   12\n",
              "item_id                 6066\n",
              "item_price            307980\n",
              "item_cnt_day               1\n",
              "Name: 1163158, dtype: object"
            ]
          },
          "metadata": {
            "tags": []
          },
          "execution_count": 12
        }
      ]
    },
    {
      "cell_type": "code",
      "metadata": {
        "colab": {
          "base_uri": "https://localhost:8080/"
        },
        "id": "acU_68Dbr2z7",
        "outputId": "1f58ecf5-a6f3-4e47-cab5-9137bf7d838d"
      },
      "source": [
        "# most sold item in a day\n",
        "train.loc[train.item_cnt_day.idxmax()]"
      ],
      "id": "acU_68Dbr2z7",
      "execution_count": null,
      "outputs": [
        {
          "output_type": "execute_result",
          "data": {
            "text/plain": [
              "date              28.10.2015\n",
              "date_block_num            33\n",
              "shop_id                   12\n",
              "item_id                11373\n",
              "item_price          0.908714\n",
              "item_cnt_day            2169\n",
              "Name: 2909818, dtype: object"
            ]
          },
          "metadata": {
            "tags": []
          },
          "execution_count": 13
        }
      ]
    },
    {
      "cell_type": "code",
      "metadata": {
        "colab": {
          "base_uri": "https://localhost:8080/",
          "height": 542
        },
        "id": "smtoxaR60hL-",
        "outputId": "cacbe9f5-d840-4df1-e40e-6db3ff1cec22"
      },
      "source": [
        "fig = px.scatter(train.loc[train.item_id == 11373], x='date', y='item_cnt_day', title=\"Quantities of item #11373 (Boxberry delivery) sold every day\")\n",
        "fig.show()"
      ],
      "id": "smtoxaR60hL-",
      "execution_count": null,
      "outputs": [
        {
          "output_type": "display_data",
          "data": {
            "text/html": [
              "<html>\n",
              "<head><meta charset=\"utf-8\" /></head>\n",
              "<body>\n",
              "    <div>\n",
              "            <script src=\"https://cdnjs.cloudflare.com/ajax/libs/mathjax/2.7.5/MathJax.js?config=TeX-AMS-MML_SVG\"></script><script type=\"text/javascript\">if (window.MathJax) {MathJax.Hub.Config({SVG: {font: \"STIX-Web\"}});}</script>\n",
              "                <script type=\"text/javascript\">window.PlotlyConfig = {MathJaxConfig: 'local'};</script>\n",
              "        <script src=\"https://cdn.plot.ly/plotly-latest.min.js\"></script>    \n",
              "            <div id=\"790dc980-892c-4523-9f83-8819cb48e508\" class=\"plotly-graph-div\" style=\"height:525px; width:100%;\"></div>\n",
              "            <script type=\"text/javascript\">\n",
              "                \n",
              "                    window.PLOTLYENV=window.PLOTLYENV || {};\n",
              "                    \n",
              "                if (document.getElementById(\"790dc980-892c-4523-9f83-8819cb48e508\")) {\n",
              "                    Plotly.newPlot(\n",
              "                        '790dc980-892c-4523-9f83-8819cb48e508',\n",
              "                        [{\"hoverlabel\": {\"namelength\": 0}, \"hovertemplate\": \"date=%{x}<br>item_cnt_day=%{y}\", \"legendgroup\": \"\", \"marker\": {\"color\": \"#636efa\", \"symbol\": \"circle\"}, \"mode\": \"markers\", \"name\": \"\", \"showlegend\": false, \"type\": \"scatter\", \"x\": [\"08.01.2013\", \"31.01.2013\", \"01.02.2013\", \"04.02.2013\", \"29.03.2013\", \"27.03.2013\", \"14.03.2013\", \"13.03.2013\", \"12.03.2013\", \"11.03.2013\", \"02.04.2013\", \"05.04.2013\", \"15.04.2013\", \"22.04.2013\", \"25.04.2013\", \"27.05.2013\", \"22.05.2013\", \"21.05.2013\", \"20.05.2013\", \"15.05.2013\", \"07.05.2013\", \"26.06.2013\", \"20.06.2013\", \"19.06.2013\", \"18.06.2013\", \"17.06.2013\", \"13.06.2013\", \"10.06.2013\", \"08.06.2013\", \"05.06.2013\", \"04.06.2013\", \"29.07.2013\", \"17.07.2013\", \"02.07.2013\", \"05.07.2013\", \"08.07.2013\", \"09.07.2013\", \"15.07.2013\", \"18.07.2013\", \"29.08.2013\", \"26.08.2013\", \"21.08.2013\", \"19.08.2013\", \"15.08.2013\", \"10.08.2013\", \"06.08.2013\", \"01.08.2013\", \"30.09.2013\", \"28.09.2013\", \"26.09.2013\", \"20.09.2013\", \"19.09.2013\", \"18.09.2013\", \"17.09.2013\", \"14.09.2013\", \"12.09.2013\", \"11.09.2013\", \"10.09.2013\", \"07.09.2013\", \"06.09.2013\", \"04.09.2013\", \"03.09.2013\", \"01.09.2013\", \"29.10.2013\", \"03.10.2013\", \"07.10.2013\", \"08.10.2013\", \"10.10.2013\", \"14.10.2013\", \"15.10.2013\", \"16.10.2013\", \"21.10.2013\", \"23.10.2013\", \"24.10.2013\", \"02.11.2013\", \"05.11.2013\", \"07.11.2013\", \"08.11.2013\", \"16.11.2013\", \"19.11.2013\", \"21.11.2013\", \"22.11.2013\", \"26.11.2013\", \"28.11.2013\", \"29.11.2013\", \"25.11.2013\", \"26.12.2013\", \"23.12.2013\", \"03.12.2013\", \"10.12.2013\", \"11.12.2013\", \"13.12.2013\", \"16.12.2013\", \"17.12.2013\", \"19.12.2013\", \"05.12.2013\", \"29.01.2014\", \"28.01.2014\", \"23.01.2014\", \"22.01.2014\", \"20.01.2014\", \"17.01.2014\", \"15.01.2014\", \"14.01.2014\", \"13.01.2014\", \"09.01.2014\", \"08.01.2014\", \"03.01.2014\", \"20.02.2014\", \"21.02.2014\", \"24.02.2014\", \"25.02.2014\", \"26.02.2014\", \"27.02.2014\", \"28.02.2014\", \"17.02.2014\", \"14.02.2014\", \"08.02.2014\", \"12.02.2014\", \"03.02.2014\", \"04.02.2014\", \"05.02.2014\", \"06.02.2014\", \"01.03.2014\", \"03.03.2014\", \"04.03.2014\", \"05.03.2014\", \"11.03.2014\", \"13.03.2014\", \"17.03.2014\", \"20.03.2014\", \"21.03.2014\", \"24.03.2014\", \"26.03.2014\", \"28.03.2014\", \"31.03.2014\", \"18.03.2014\", \"29.04.2014\", \"28.04.2014\", \"24.04.2014\", \"23.04.2014\", \"22.04.2014\", \"21.04.2014\", \"18.04.2014\", \"17.04.2014\", \"16.04.2014\", \"15.04.2014\", \"11.04.2014\", \"08.04.2014\", \"07.04.2014\", \"03.04.2014\", \"02.04.2014\", \"05.05.2014\", \"06.05.2014\", \"07.05.2014\", \"09.05.2014\", \"12.05.2014\", \"14.05.2014\", \"15.05.2014\", \"20.05.2014\", \"21.05.2014\", \"23.05.2014\", \"24.05.2014\", \"27.05.2014\", \"28.05.2014\", \"30.05.2014\", \"29.05.2014\", \"30.06.2014\", \"24.06.2014\", \"19.06.2014\", \"23.06.2014\", \"03.06.2014\", \"04.06.2014\", \"05.06.2014\", \"09.06.2014\", \"16.06.2014\", \"17.06.2014\", \"18.06.2014\", \"02.06.2014\", \"31.07.2014\", \"30.07.2014\", \"29.07.2014\", \"28.07.2014\", \"24.07.2014\", \"22.07.2014\", \"21.07.2014\", \"19.07.2014\", \"16.07.2014\", \"11.07.2014\", \"09.07.2014\", \"08.07.2014\", \"03.07.2014\", \"02.07.2014\", \"29.08.2014\", \"27.08.2014\", \"26.08.2014\", \"25.08.2014\", \"20.08.2014\", \"19.08.2014\", \"18.08.2014\", \"14.08.2014\", \"12.08.2014\", \"11.08.2014\", \"08.08.2014\", \"07.08.2014\", \"04.08.2014\", \"02.09.2014\", \"03.09.2014\", \"04.09.2014\", \"05.09.2014\", \"08.09.2014\", \"10.09.2014\", \"11.09.2014\", \"12.09.2014\", \"15.09.2014\", \"16.09.2014\", \"17.09.2014\", \"18.09.2014\", \"22.09.2014\", \"23.09.2014\", \"09.09.2014\", \"24.09.2014\", \"25.09.2014\", \"29.09.2014\", \"26.09.2014\", \"27.10.2014\", \"28.10.2014\", \"29.10.2014\", \"30.10.2014\", \"23.10.2014\", \"22.10.2014\", \"20.10.2014\", \"17.10.2014\", \"01.10.2014\", \"02.10.2014\", \"07.10.2014\", \"08.10.2014\", \"09.10.2014\", \"11.10.2014\", \"13.10.2014\", \"14.10.2014\", \"16.10.2014\", \"06.10.2014\", \"28.11.2014\", \"27.11.2014\", \"26.11.2014\", \"25.11.2014\", \"24.11.2014\", \"21.11.2014\", \"20.11.2014\", \"19.11.2014\", \"18.11.2014\", \"17.11.2014\", \"13.11.2014\", \"12.11.2014\", \"10.11.2014\", \"07.11.2014\", \"06.11.2014\", \"05.11.2014\", \"11.11.2014\", \"27.12.2014\", \"26.12.2014\", \"24.12.2014\", \"23.12.2014\", \"22.12.2014\", \"19.12.2014\", \"18.12.2014\", \"17.12.2014\", \"16.12.2014\", \"15.12.2014\", \"12.12.2014\", \"11.12.2014\", \"09.12.2014\", \"08.12.2014\", \"05.12.2014\", \"04.12.2014\", \"03.12.2014\", \"02.12.2014\", \"01.12.2014\", \"29.12.2014\", \"31.12.2014\", \"05.01.2015\", \"12.01.2015\", \"14.01.2015\", \"15.01.2015\", \"19.01.2015\", \"20.01.2015\", \"21.01.2015\", \"22.01.2015\", \"26.01.2015\", \"27.01.2015\", \"28.01.2015\", \"29.01.2015\", \"30.01.2015\", \"18.02.2015\", \"20.02.2015\", \"25.02.2015\", \"26.02.2015\", \"27.02.2015\", \"17.02.2015\", \"16.02.2015\", \"13.02.2015\", \"12.02.2015\", \"10.02.2015\", \"09.02.2015\", \"06.02.2015\", \"05.02.2015\", \"04.02.2015\", \"03.02.2015\", \"02.02.2015\", \"30.03.2015\", \"31.03.2015\", \"27.03.2015\", \"26.03.2015\", \"24.03.2015\", \"25.03.2015\", \"02.03.2015\", \"03.03.2015\", \"05.03.2015\", \"10.03.2015\", \"12.03.2015\", \"13.03.2015\", \"16.03.2015\", \"17.03.2015\", \"18.03.2015\", \"19.03.2015\", \"23.03.2015\", \"13.04.2015\", \"09.04.2015\", \"08.04.2015\", \"07.04.2015\", \"06.04.2015\", \"04.04.2015\", \"03.04.2015\", \"02.04.2015\", \"14.04.2015\", \"01.04.2015\", \"15.04.2015\", \"20.04.2015\", \"16.04.2015\", \"29.04.2015\", \"28.04.2015\", \"27.04.2015\", \"24.04.2015\", \"23.04.2015\", \"22.04.2015\", \"21.04.2015\", \"13.05.2015\", \"14.05.2015\", \"18.05.2015\", \"19.05.2015\", \"20.05.2015\", \"21.05.2015\", \"22.05.2015\", \"25.05.2015\", \"26.05.2015\", \"27.05.2015\", \"28.05.2015\", \"29.05.2015\", \"12.05.2015\", \"06.05.2015\", \"04.05.2015\", \"05.05.2015\", \"16.06.2015\", \"17.06.2015\", \"18.06.2015\", \"19.06.2015\", \"22.06.2015\", \"23.06.2015\", \"24.06.2015\", \"15.06.2015\", \"25.06.2015\", \"30.06.2015\", \"29.06.2015\", \"11.06.2015\", \"10.06.2015\", \"09.06.2015\", \"01.06.2015\", \"02.06.2015\", \"03.06.2015\", \"04.06.2015\", \"05.06.2015\", \"08.06.2015\", \"02.07.2015\", \"01.07.2015\", \"03.07.2015\", \"06.07.2015\", \"07.07.2015\", \"09.07.2015\", \"29.07.2015\", \"28.07.2015\", \"27.07.2015\", \"23.07.2015\", \"22.07.2015\", \"21.07.2015\", \"20.07.2015\", \"17.07.2015\", \"16.07.2015\", \"15.07.2015\", \"14.07.2015\", \"13.07.2015\", \"10.07.2015\", \"10.08.2015\", \"11.08.2015\", \"12.08.2015\", \"13.08.2015\", \"14.08.2015\", \"17.08.2015\", \"18.08.2015\", \"19.08.2015\", \"20.08.2015\", \"21.08.2015\", \"24.08.2015\", \"07.08.2015\", \"25.08.2015\", \"27.08.2015\", \"28.08.2015\", \"31.08.2015\", \"26.08.2015\", \"06.08.2015\", \"04.08.2015\", \"05.08.2015\", \"03.08.2015\", \"18.09.2015\", \"21.09.2015\", \"22.09.2015\", \"23.09.2015\", \"24.09.2015\", \"25.09.2015\", \"28.09.2015\", \"29.09.2015\", \"30.09.2015\", \"17.09.2015\", \"16.09.2015\", \"15.09.2015\", \"14.09.2015\", \"01.09.2015\", \"02.09.2015\", \"03.09.2015\", \"04.09.2015\", \"07.09.2015\", \"08.09.2015\", \"09.09.2015\", \"10.09.2015\", \"11.09.2015\", \"08.10.2015\", \"12.10.2015\", \"13.10.2015\", \"14.10.2015\", \"15.10.2015\", \"16.10.2015\", \"19.10.2015\", \"20.10.2015\", \"22.10.2015\", \"23.10.2015\", \"26.10.2015\", \"27.10.2015\", \"28.10.2015\", \"29.10.2015\", \"07.10.2015\", \"06.10.2015\", \"05.10.2015\", \"02.10.2015\", \"01.10.2015\"], \"xaxis\": \"x\", \"y\": [1.0, 5.0, 1.0, 1.0, 2.0, 1.0, 1.0, 3.0, 12.0, 2.0, 1.0, 3.0, 3.0, 1.0, 1.0, 1.0, 2.0, 1.0, 1.0, 1.0, 1.0, 3.0, 6.0, 2.0, 1.0, 2.0, 6.0, 3.0, 1.0, 1.0, 3.0, 1.0, 1.0, 1.0, 2.0, 1.0, 1.0, 1.0, 1.0, 5.0, 15.0, 1.0, 2.0, 4.0, 2.0, 5.0, 5.0, 2.0, 1.0, 2.0, 1.0, 3.0, 2.0, 2.0, 1.0, 2.0, 2.0, 1.0, 1.0, 1.0, 1.0, 9.0, 2.0, 28.0, 4.0, 6.0, 2.0, 3.0, 1.0, 1.0, 1.0, 1.0, 3.0, 1.0, 1.0, 1.0, 1.0, 4.0, 1.0, 1.0, 5.0, 242.0, 5.0, 5.0, 105.0, 2.0, 1.0, 7.0, 8.0, 10.0, 6.0, 3.0, 18.0, 10.0, 6.0, 8.0, 7.0, 3.0, 3.0, 1.0, 5.0, 2.0, 2.0, 2.0, 7.0, 6.0, 2.0, 6.0, 58.0, 5.0, 20.0, 4.0, 6.0, 8.0, 5.0, 1.0, 1.0, 27.0, 4.0, 3.0, 1.0, 22.0, 18.0, 22.0, 13.0, 1.0, 6.0, 2.0, 1.0, 46.0, 14.0, 27.0, 10.0, 11.0, 1.0, 31.0, 18.0, 1.0, 1.0, 1.0, 1.0, 2.0, 1.0, 2.0, 1.0, 8.0, 26.0, 3.0, 3.0, 1.0, 5.0, 5.0, 4.0, 1.0, 10.0, 4.0, 1.0, 1.0, 6.0, 1.0, 2.0, 6.0, 2.0, 97.0, 7.0, 1.0, 4.0, 1.0, 3.0, 2.0, 4.0, 14.0, 1.0, 4.0, 5.0, 2.0, 4.0, 2.0, 8.0, 3.0, 2.0, 1.0, 3.0, 4.0, 1.0, 1.0, 6.0, 2.0, 3.0, 1.0, 2.0, 2.0, 1.0, 3.0, 1.0, 2.0, 2.0, 6.0, 2.0, 4.0, 3.0, 4.0, 3.0, 4.0, 2.0, 3.0, 2.0, 5.0, 15.0, 1.0, 2.0, 4.0, 1.0, 2.0, 2.0, 1.0, 2.0, 7.0, 3.0, 12.0, 3.0, 11.0, 6.0, 8.0, 11.0, 4.0, 1.0, 4.0, 2.0, 3.0, 3.0, 3.0, 6.0, 3.0, 5.0, 5.0, 10.0, 3.0, 1.0, 3.0, 5.0, 3.0, 4.0, 4.0, 16.0, 7.0, 6.0, 13.0, 3.0, 22.0, 28.0, 23.0, 54.0, 84.0, 8.0, 4.0, 22.0, 1.0, 8.0, 5.0, 6.0, 6.0, 27.0, 6.0, 24.0, 5.0, 11.0, 10.0, 7.0, 30.0, 2.0, 20.0, 8.0, 23.0, 1.0, 7.0, 13.0, 1.0, 41.0, 13.0, 4.0, 11.0, 23.0, 13.0, 5.0, 25.0, 7.0, 5.0, 4.0, 18.0, 10.0, 2.0, 6.0, 4.0, 8.0, 10.0, 20.0, 11.0, 3.0, 7.0, 6.0, 3.0, 10.0, 2.0, 15.0, 2.0, 9.0, 3.0, 2.0, 6.0, 7.0, 2.0, 10.0, 4.0, 6.0, 51.0, 16.0, 4.0, 1.0, 4.0, 12.0, 4.0, 3.0, 13.0, 2.0, 4.0, 4.0, 5.0, 2.0, 1.0, 6.0, 5.0, 2.0, 1.0, 2.0, 61.0, 3.0, 2.0, 28.0, 108.0, 2.0, 1.0, 13.0, 12.0, 8.0, 22.0, 8.0, 13.0, 2.0, 1.0, 539.0, 13.0, 21.0, 31.0, 41.0, 32.0, 12.0, 14.0, 12.0, 1.0, 1.0, 5.0, 4.0, 6.0, 2.0, 9.0, 6.0, 13.0, 15.0, 14.0, 9.0, 3.0, 1.0, 11.0, 14.0, 7.0, 12.0, 12.0, 7.0, 33.0, 5.0, 7.0, 16.0, 1.0, 6.0, 2.0, 95.0, 8.0, 5.0, 4.0, 4.0, 13.0, 7.0, 3.0, 10.0, 6.0, 2.0, 4.0, 10.0, 8.0, 11.0, 2.0, 4.0, 3.0, 2.0, 1.0, 2.0, 4.0, 6.0, 4.0, 2.0, 6.0, 8.0, 1.0, 1.0, 4.0, 6.0, 7.0, 2.0, 1.0, 2.0, 4.0, 5.0, 6.0, 2.0, 5.0, 3.0, 3.0, 8.0, 22.0, 65.0, 11.0, 11.0, 13.0, 8.0, 2.0, 6.0, 2.0, 38.0, 5.0, 4.0, 10.0, 11.0, 5.0, 6.0, 1.0, 1.0, 4.0, 14.0, 9.0, 5.0, 4.0, 3.0, 4.0, 3.0, 3.0, 1.0, 2169.0, 3.0, 2.0, 5.0, 16.0, 2.0, 4.0], \"yaxis\": \"y\"}],\n",
              "                        {\"legend\": {\"tracegroupgap\": 0}, \"template\": {\"data\": {\"bar\": [{\"error_x\": {\"color\": \"#2a3f5f\"}, \"error_y\": {\"color\": \"#2a3f5f\"}, \"marker\": {\"line\": {\"color\": \"#E5ECF6\", \"width\": 0.5}}, \"type\": \"bar\"}], \"barpolar\": [{\"marker\": {\"line\": {\"color\": \"#E5ECF6\", \"width\": 0.5}}, \"type\": \"barpolar\"}], \"carpet\": [{\"aaxis\": {\"endlinecolor\": \"#2a3f5f\", \"gridcolor\": \"white\", \"linecolor\": \"white\", \"minorgridcolor\": \"white\", \"startlinecolor\": \"#2a3f5f\"}, \"baxis\": {\"endlinecolor\": \"#2a3f5f\", \"gridcolor\": \"white\", \"linecolor\": \"white\", \"minorgridcolor\": \"white\", \"startlinecolor\": \"#2a3f5f\"}, \"type\": \"carpet\"}], \"choropleth\": [{\"colorbar\": {\"outlinewidth\": 0, \"ticks\": \"\"}, \"type\": \"choropleth\"}], \"contour\": [{\"colorbar\": {\"outlinewidth\": 0, \"ticks\": \"\"}, \"colorscale\": [[0.0, \"#0d0887\"], [0.1111111111111111, \"#46039f\"], [0.2222222222222222, \"#7201a8\"], [0.3333333333333333, \"#9c179e\"], [0.4444444444444444, \"#bd3786\"], [0.5555555555555556, \"#d8576b\"], [0.6666666666666666, \"#ed7953\"], [0.7777777777777778, \"#fb9f3a\"], [0.8888888888888888, \"#fdca26\"], [1.0, \"#f0f921\"]], \"type\": \"contour\"}], \"contourcarpet\": [{\"colorbar\": {\"outlinewidth\": 0, \"ticks\": \"\"}, \"type\": \"contourcarpet\"}], \"heatmap\": [{\"colorbar\": {\"outlinewidth\": 0, \"ticks\": \"\"}, \"colorscale\": [[0.0, \"#0d0887\"], [0.1111111111111111, \"#46039f\"], [0.2222222222222222, \"#7201a8\"], [0.3333333333333333, \"#9c179e\"], [0.4444444444444444, \"#bd3786\"], [0.5555555555555556, \"#d8576b\"], [0.6666666666666666, \"#ed7953\"], [0.7777777777777778, \"#fb9f3a\"], [0.8888888888888888, \"#fdca26\"], [1.0, \"#f0f921\"]], \"type\": \"heatmap\"}], \"heatmapgl\": [{\"colorbar\": {\"outlinewidth\": 0, \"ticks\": \"\"}, \"colorscale\": [[0.0, \"#0d0887\"], [0.1111111111111111, \"#46039f\"], [0.2222222222222222, \"#7201a8\"], [0.3333333333333333, \"#9c179e\"], [0.4444444444444444, \"#bd3786\"], [0.5555555555555556, \"#d8576b\"], [0.6666666666666666, \"#ed7953\"], [0.7777777777777778, \"#fb9f3a\"], [0.8888888888888888, \"#fdca26\"], [1.0, \"#f0f921\"]], \"type\": \"heatmapgl\"}], \"histogram\": [{\"marker\": {\"colorbar\": {\"outlinewidth\": 0, \"ticks\": \"\"}}, \"type\": \"histogram\"}], \"histogram2d\": [{\"colorbar\": {\"outlinewidth\": 0, \"ticks\": \"\"}, \"colorscale\": [[0.0, \"#0d0887\"], [0.1111111111111111, \"#46039f\"], [0.2222222222222222, \"#7201a8\"], [0.3333333333333333, \"#9c179e\"], [0.4444444444444444, \"#bd3786\"], [0.5555555555555556, \"#d8576b\"], [0.6666666666666666, \"#ed7953\"], [0.7777777777777778, \"#fb9f3a\"], [0.8888888888888888, \"#fdca26\"], [1.0, \"#f0f921\"]], \"type\": \"histogram2d\"}], \"histogram2dcontour\": [{\"colorbar\": {\"outlinewidth\": 0, \"ticks\": \"\"}, \"colorscale\": [[0.0, \"#0d0887\"], [0.1111111111111111, \"#46039f\"], [0.2222222222222222, \"#7201a8\"], [0.3333333333333333, \"#9c179e\"], [0.4444444444444444, \"#bd3786\"], [0.5555555555555556, \"#d8576b\"], [0.6666666666666666, \"#ed7953\"], [0.7777777777777778, \"#fb9f3a\"], [0.8888888888888888, \"#fdca26\"], [1.0, \"#f0f921\"]], \"type\": \"histogram2dcontour\"}], \"mesh3d\": [{\"colorbar\": {\"outlinewidth\": 0, \"ticks\": \"\"}, \"type\": \"mesh3d\"}], \"parcoords\": [{\"line\": {\"colorbar\": {\"outlinewidth\": 0, \"ticks\": \"\"}}, \"type\": \"parcoords\"}], \"pie\": [{\"automargin\": true, \"type\": \"pie\"}], \"scatter\": [{\"marker\": {\"colorbar\": {\"outlinewidth\": 0, \"ticks\": \"\"}}, \"type\": \"scatter\"}], \"scatter3d\": [{\"line\": {\"colorbar\": {\"outlinewidth\": 0, \"ticks\": \"\"}}, \"marker\": {\"colorbar\": {\"outlinewidth\": 0, \"ticks\": \"\"}}, \"type\": \"scatter3d\"}], \"scattercarpet\": [{\"marker\": {\"colorbar\": {\"outlinewidth\": 0, \"ticks\": \"\"}}, \"type\": \"scattercarpet\"}], \"scattergeo\": [{\"marker\": {\"colorbar\": {\"outlinewidth\": 0, \"ticks\": \"\"}}, \"type\": \"scattergeo\"}], \"scattergl\": [{\"marker\": {\"colorbar\": {\"outlinewidth\": 0, \"ticks\": \"\"}}, \"type\": \"scattergl\"}], \"scattermapbox\": [{\"marker\": {\"colorbar\": {\"outlinewidth\": 0, \"ticks\": \"\"}}, \"type\": \"scattermapbox\"}], \"scatterpolar\": [{\"marker\": {\"colorbar\": {\"outlinewidth\": 0, \"ticks\": \"\"}}, \"type\": \"scatterpolar\"}], \"scatterpolargl\": [{\"marker\": {\"colorbar\": {\"outlinewidth\": 0, \"ticks\": \"\"}}, \"type\": \"scatterpolargl\"}], \"scatterternary\": [{\"marker\": {\"colorbar\": {\"outlinewidth\": 0, \"ticks\": \"\"}}, \"type\": \"scatterternary\"}], \"surface\": [{\"colorbar\": {\"outlinewidth\": 0, \"ticks\": \"\"}, \"colorscale\": [[0.0, \"#0d0887\"], [0.1111111111111111, \"#46039f\"], [0.2222222222222222, \"#7201a8\"], [0.3333333333333333, \"#9c179e\"], [0.4444444444444444, \"#bd3786\"], [0.5555555555555556, \"#d8576b\"], [0.6666666666666666, \"#ed7953\"], [0.7777777777777778, \"#fb9f3a\"], [0.8888888888888888, \"#fdca26\"], [1.0, \"#f0f921\"]], \"type\": \"surface\"}], \"table\": [{\"cells\": {\"fill\": {\"color\": \"#EBF0F8\"}, \"line\": {\"color\": \"white\"}}, \"header\": {\"fill\": {\"color\": \"#C8D4E3\"}, \"line\": {\"color\": \"white\"}}, \"type\": \"table\"}]}, \"layout\": {\"annotationdefaults\": {\"arrowcolor\": \"#2a3f5f\", \"arrowhead\": 0, \"arrowwidth\": 1}, \"coloraxis\": {\"colorbar\": {\"outlinewidth\": 0, \"ticks\": \"\"}}, \"colorscale\": {\"diverging\": [[0, \"#8e0152\"], [0.1, \"#c51b7d\"], [0.2, \"#de77ae\"], [0.3, \"#f1b6da\"], [0.4, \"#fde0ef\"], [0.5, \"#f7f7f7\"], [0.6, \"#e6f5d0\"], [0.7, \"#b8e186\"], [0.8, \"#7fbc41\"], [0.9, \"#4d9221\"], [1, \"#276419\"]], \"sequential\": [[0.0, \"#0d0887\"], [0.1111111111111111, \"#46039f\"], [0.2222222222222222, \"#7201a8\"], [0.3333333333333333, \"#9c179e\"], [0.4444444444444444, \"#bd3786\"], [0.5555555555555556, \"#d8576b\"], [0.6666666666666666, \"#ed7953\"], [0.7777777777777778, \"#fb9f3a\"], [0.8888888888888888, \"#fdca26\"], [1.0, \"#f0f921\"]], \"sequentialminus\": [[0.0, \"#0d0887\"], [0.1111111111111111, \"#46039f\"], [0.2222222222222222, \"#7201a8\"], [0.3333333333333333, \"#9c179e\"], [0.4444444444444444, \"#bd3786\"], [0.5555555555555556, \"#d8576b\"], [0.6666666666666666, \"#ed7953\"], [0.7777777777777778, \"#fb9f3a\"], [0.8888888888888888, \"#fdca26\"], [1.0, \"#f0f921\"]]}, \"colorway\": [\"#636efa\", \"#EF553B\", \"#00cc96\", \"#ab63fa\", \"#FFA15A\", \"#19d3f3\", \"#FF6692\", \"#B6E880\", \"#FF97FF\", \"#FECB52\"], \"font\": {\"color\": \"#2a3f5f\"}, \"geo\": {\"bgcolor\": \"white\", \"lakecolor\": \"white\", \"landcolor\": \"#E5ECF6\", \"showlakes\": true, \"showland\": true, \"subunitcolor\": \"white\"}, \"hoverlabel\": {\"align\": \"left\"}, \"hovermode\": \"closest\", \"mapbox\": {\"style\": \"light\"}, \"paper_bgcolor\": \"white\", \"plot_bgcolor\": \"#E5ECF6\", \"polar\": {\"angularaxis\": {\"gridcolor\": \"white\", \"linecolor\": \"white\", \"ticks\": \"\"}, \"bgcolor\": \"#E5ECF6\", \"radialaxis\": {\"gridcolor\": \"white\", \"linecolor\": \"white\", \"ticks\": \"\"}}, \"scene\": {\"xaxis\": {\"backgroundcolor\": \"#E5ECF6\", \"gridcolor\": \"white\", \"gridwidth\": 2, \"linecolor\": \"white\", \"showbackground\": true, \"ticks\": \"\", \"zerolinecolor\": \"white\"}, \"yaxis\": {\"backgroundcolor\": \"#E5ECF6\", \"gridcolor\": \"white\", \"gridwidth\": 2, \"linecolor\": \"white\", \"showbackground\": true, \"ticks\": \"\", \"zerolinecolor\": \"white\"}, \"zaxis\": {\"backgroundcolor\": \"#E5ECF6\", \"gridcolor\": \"white\", \"gridwidth\": 2, \"linecolor\": \"white\", \"showbackground\": true, \"ticks\": \"\", \"zerolinecolor\": \"white\"}}, \"shapedefaults\": {\"line\": {\"color\": \"#2a3f5f\"}}, \"ternary\": {\"aaxis\": {\"gridcolor\": \"white\", \"linecolor\": \"white\", \"ticks\": \"\"}, \"baxis\": {\"gridcolor\": \"white\", \"linecolor\": \"white\", \"ticks\": \"\"}, \"bgcolor\": \"#E5ECF6\", \"caxis\": {\"gridcolor\": \"white\", \"linecolor\": \"white\", \"ticks\": \"\"}}, \"title\": {\"x\": 0.05}, \"xaxis\": {\"automargin\": true, \"gridcolor\": \"white\", \"linecolor\": \"white\", \"ticks\": \"\", \"title\": {\"standoff\": 15}, \"zerolinecolor\": \"white\", \"zerolinewidth\": 2}, \"yaxis\": {\"automargin\": true, \"gridcolor\": \"white\", \"linecolor\": \"white\", \"ticks\": \"\", \"title\": {\"standoff\": 15}, \"zerolinecolor\": \"white\", \"zerolinewidth\": 2}}}, \"title\": {\"text\": \"Quantities of item #11373 (Boxberry delivery) sold every day\"}, \"xaxis\": {\"anchor\": \"y\", \"domain\": [0.0, 1.0], \"title\": {\"text\": \"date\"}}, \"yaxis\": {\"anchor\": \"x\", \"domain\": [0.0, 1.0], \"title\": {\"text\": \"item_cnt_day\"}}},\n",
              "                        {\"responsive\": true}\n",
              "                    ).then(function(){\n",
              "                            \n",
              "var gd = document.getElementById('790dc980-892c-4523-9f83-8819cb48e508');\n",
              "var x = new MutationObserver(function (mutations, observer) {{\n",
              "        var display = window.getComputedStyle(gd).display;\n",
              "        if (!display || display === 'none') {{\n",
              "            console.log([gd, 'removed!']);\n",
              "            Plotly.purge(gd);\n",
              "            observer.disconnect();\n",
              "        }}\n",
              "}});\n",
              "\n",
              "// Listen for the removal of the full notebook cells\n",
              "var notebookContainer = gd.closest('#notebook-container');\n",
              "if (notebookContainer) {{\n",
              "    x.observe(notebookContainer, {childList: true});\n",
              "}}\n",
              "\n",
              "// Listen for the clearing of the current output cell\n",
              "var outputEl = gd.closest('.output');\n",
              "if (outputEl) {{\n",
              "    x.observe(outputEl, {childList: true});\n",
              "}}\n",
              "\n",
              "                        })\n",
              "                };\n",
              "                \n",
              "            </script>\n",
              "        </div>\n",
              "</body>\n",
              "</html>"
            ]
          },
          "metadata": {
            "tags": []
          }
        }
      ]
    },
    {
      "cell_type": "markdown",
      "metadata": {
        "id": "4TUBzG-zzTJZ"
      },
      "source": [
        "I decided to remove those outliers since\n",
        "1. The item with cost 6066 (which is a product called _\"Radmin 3\"_) has been sold exactly one time on that day only.\n",
        "2. The item sold 2169 times in a single day (that i suspect to be a service rather than a product, because of its name _\"Delivery to the delivery point (Boxberry)\"_) is sold in much smaller quantities in every other date."
      ],
      "id": "4TUBzG-zzTJZ"
    },
    {
      "cell_type": "markdown",
      "metadata": {
        "id": "KKlUIksBmZSf"
      },
      "source": [
        "### Duplicated shops\n",
        "\n",
        "As other participants pointed out, some shops have the same name. The shops list is short enough to be inspected manually so we can find them. If it were longer, we could have applied some fuzzy string matching algorithm on the shops names (e.g. we could have measured similarity between names using the Levenshtein distance) in order to detect similar names. Since there was no further information about the shops other than their name, and since in the test set they appear with only one of the two IDs, I decided to merge together those with the same name, using the IDs in the test set.\n",
        "- 0 ⇒ 57\n",
        "- 1 ⇒ 58\n",
        "- 11 ⇒ 10\n",
        "- 40 ⇒ 39"
      ],
      "id": "KKlUIksBmZSf"
    },
    {
      "cell_type": "code",
      "metadata": {
        "id": "efdoPFiE4kQY"
      },
      "source": [
        "train = train[train.item_price < 100000]\n",
        "train = train[train.item_cnt_day < 1500]"
      ],
      "id": "efdoPFiE4kQY",
      "execution_count": null,
      "outputs": []
    },
    {
      "cell_type": "code",
      "metadata": {
        "id": "6U0uSAyvvQqi"
      },
      "source": [
        "train.loc[train.shop_id == 0, 'shop_id'] = 57\n",
        "train.loc[train.shop_id == 1, 'shop_id'] = 58\n",
        "train.loc[train.shop_id == 11, 'shop_id'] = 10\n",
        "train.loc[train.shop_id == 40, 'shop_id'] = 39\n",
        "\n",
        "# keep only shops that are present either in the train set or in the test set\n",
        "shops = shops.loc[shops.shop_id.isin(train.shop_id) | shops.shop_id.isin(test.shop_id)]"
      ],
      "id": "6U0uSAyvvQqi",
      "execution_count": null,
      "outputs": []
    },
    {
      "cell_type": "code",
      "metadata": {
        "colab": {
          "base_uri": "https://localhost:8080/"
        },
        "id": "Zx3OhKBz1OS6",
        "outputId": "ca215c00-2c45-4841-ea5c-fc5898a6925e"
      },
      "source": [
        "print('Shops only in the train set:', set(shops.shop_id) - set(test.shop_id))\n",
        "print('Shops only in the test set:', set(shops.shop_id) - set(train.shop_id))"
      ],
      "id": "Zx3OhKBz1OS6",
      "execution_count": null,
      "outputs": [
        {
          "output_type": "stream",
          "text": [
            "Shops only in the train set: {32, 33, 8, 9, 43, 13, 17, 51, 20, 54, 23, 27, 29, 30}\n",
            "Shops only in the test set: set()\n"
          ],
          "name": "stdout"
        }
      ]
    },
    {
      "cell_type": "markdown",
      "metadata": {
        "id": "Ues4ZeVt9tIG"
      },
      "source": [
        "# Feature engineering"
      ],
      "id": "Ues4ZeVt9tIG"
    },
    {
      "cell_type": "markdown",
      "metadata": {
        "id": "lRFfRJeb91IA"
      },
      "source": [
        "In this section we will try to create features that may help the model to make more accurate predictions about future sales. Remember that we are requested to predict sales for product-store pairs."
      ],
      "id": "lRFfRJeb91IA"
    },
    {
      "cell_type": "markdown",
      "metadata": {
        "id": "Dm11wDi0CCI9"
      },
      "source": [
        "## Shops\n",
        "\n",
        "Let's start by dealing with shops. Each shops is simply described by `shop_name`. By looking at their names, it looks like that every name has the structure `Shop City | Shop Type | Shop Name` (this was pointed out by other competitors who understand russian language). Thanks to this, we can extract those information into separate features."
      ],
      "id": "Dm11wDi0CCI9"
    },
    {
      "cell_type": "code",
      "metadata": {
        "colab": {
          "base_uri": "https://localhost:8080/",
          "height": 343
        },
        "id": "omPTtp6XH-qa",
        "outputId": "767c86fb-0b04-4819-d2ce-550448237ede"
      },
      "source": [
        "shops.head()"
      ],
      "id": "omPTtp6XH-qa",
      "execution_count": null,
      "outputs": [
        {
          "output_type": "execute_result",
          "data": {
            "text/html": [
              "<div>\n",
              "<style scoped>\n",
              "    .dataframe tbody tr th:only-of-type {\n",
              "        vertical-align: middle;\n",
              "    }\n",
              "\n",
              "    .dataframe tbody tr th {\n",
              "        vertical-align: top;\n",
              "    }\n",
              "\n",
              "    .dataframe thead th {\n",
              "        text-align: right;\n",
              "    }\n",
              "</style>\n",
              "<table border=\"1\" class=\"dataframe\">\n",
              "  <thead>\n",
              "    <tr style=\"text-align: right;\">\n",
              "      <th></th>\n",
              "      <th>shop_name</th>\n",
              "      <th>shop_id</th>\n",
              "    </tr>\n",
              "  </thead>\n",
              "  <tbody>\n",
              "    <tr>\n",
              "      <th>2</th>\n",
              "      <td>Адыгея ТЦ \"Мега\"</td>\n",
              "      <td>2</td>\n",
              "    </tr>\n",
              "    <tr>\n",
              "      <th>3</th>\n",
              "      <td>Балашиха ТРК \"Октябрь-Киномир\"</td>\n",
              "      <td>3</td>\n",
              "    </tr>\n",
              "    <tr>\n",
              "      <th>4</th>\n",
              "      <td>Волжский ТЦ \"Волга Молл\"</td>\n",
              "      <td>4</td>\n",
              "    </tr>\n",
              "    <tr>\n",
              "      <th>5</th>\n",
              "      <td>Вологда ТРЦ \"Мармелад\"</td>\n",
              "      <td>5</td>\n",
              "    </tr>\n",
              "    <tr>\n",
              "      <th>6</th>\n",
              "      <td>Воронеж (Плехановская, 13)</td>\n",
              "      <td>6</td>\n",
              "    </tr>\n",
              "  </tbody>\n",
              "</table>\n",
              "</div>"
            ],
            "text/plain": [
              "                        shop_name  shop_id\n",
              "2                Адыгея ТЦ \"Мега\"        2\n",
              "3  Балашиха ТРК \"Октябрь-Киномир\"        3\n",
              "4        Волжский ТЦ \"Волга Молл\"        4\n",
              "5          Вологда ТРЦ \"Мармелад\"        5\n",
              "6      Воронеж (Плехановская, 13)        6"
            ]
          },
          "metadata": {
            "tags": []
          },
          "execution_count": 18
        }
      ]
    },
    {
      "cell_type": "code",
      "metadata": {
        "id": "ApV01owvQFNS"
      },
      "source": [
        "# remove non alphanumeric characters and numbers\n",
        "shops['shop_name'] = shops['shop_name'].apply(lambda x: x.lower()).str.replace('[^\\w\\s]', '').str.replace('\\d+','').str.strip()\n",
        "\n",
        "# get city names (first word) \n",
        "shops['shop_city'] = shops['shop_name'].str.split(' ').map(lambda x: x[0])\n",
        "\n",
        "# get shop types\n",
        "shops['shop_type'] = shops['shop_name'].apply(lambda x: 'мтрц' if 'мтрц' in x \n",
        "                         else 'трц' if 'трц' in x \n",
        "                         else 'трк' if 'трк' in x \n",
        "                         else 'тц' if 'тц' in x \n",
        "                         else 'тк' if 'тк' in x \n",
        "                         else np.nan)\n",
        "\n",
        "# manually set type for online shops (determined on type of items sold)\n",
        "shops.loc[shops['shop_id'].isin([12, 55]), ['shop_city','shop_type']] = 'online'"
      ],
      "id": "ApV01owvQFNS",
      "execution_count": null,
      "outputs": []
    },
    {
      "cell_type": "code",
      "metadata": {
        "colab": {
          "base_uri": "https://localhost:8080/",
          "height": 292
        },
        "id": "goaA4hwnu1Pj",
        "outputId": "98cda337-5d82-4901-a112-316cd55bd7be"
      },
      "source": [
        "# add first month to each shop\n",
        "shops = shops.join(train.groupby('shop_id')['date_block_num'].min()).rename(columns={'date_block_num':'shop_first_month'})\n",
        "\n",
        "# add last month to each shop\n",
        "shops = shops.join(train.groupby('shop_id')['date_block_num'].max()).rename(columns={'date_block_num':'shop_last_month'})\n",
        "shops.head()"
      ],
      "id": "goaA4hwnu1Pj",
      "execution_count": null,
      "outputs": [
        {
          "output_type": "execute_result",
          "data": {
            "text/html": [
              "<div>\n",
              "<style scoped>\n",
              "    .dataframe tbody tr th:only-of-type {\n",
              "        vertical-align: middle;\n",
              "    }\n",
              "\n",
              "    .dataframe tbody tr th {\n",
              "        vertical-align: top;\n",
              "    }\n",
              "\n",
              "    .dataframe thead th {\n",
              "        text-align: right;\n",
              "    }\n",
              "</style>\n",
              "<table border=\"1\" class=\"dataframe\">\n",
              "  <thead>\n",
              "    <tr style=\"text-align: right;\">\n",
              "      <th></th>\n",
              "      <th>shop_name</th>\n",
              "      <th>shop_id</th>\n",
              "      <th>shop_city</th>\n",
              "      <th>shop_type</th>\n",
              "      <th>shop_first_month</th>\n",
              "      <th>shop_last_month</th>\n",
              "    </tr>\n",
              "  </thead>\n",
              "  <tbody>\n",
              "    <tr>\n",
              "      <th>2</th>\n",
              "      <td>адыгея тц мега</td>\n",
              "      <td>2</td>\n",
              "      <td>адыгея</td>\n",
              "      <td>тц</td>\n",
              "      <td>0</td>\n",
              "      <td>33</td>\n",
              "    </tr>\n",
              "    <tr>\n",
              "      <th>3</th>\n",
              "      <td>балашиха трк октябрькиномир</td>\n",
              "      <td>3</td>\n",
              "      <td>балашиха</td>\n",
              "      <td>трк</td>\n",
              "      <td>0</td>\n",
              "      <td>33</td>\n",
              "    </tr>\n",
              "    <tr>\n",
              "      <th>4</th>\n",
              "      <td>волжский тц волга молл</td>\n",
              "      <td>4</td>\n",
              "      <td>волжский</td>\n",
              "      <td>тц</td>\n",
              "      <td>0</td>\n",
              "      <td>33</td>\n",
              "    </tr>\n",
              "    <tr>\n",
              "      <th>5</th>\n",
              "      <td>вологда трц мармелад</td>\n",
              "      <td>5</td>\n",
              "      <td>вологда</td>\n",
              "      <td>трц</td>\n",
              "      <td>1</td>\n",
              "      <td>33</td>\n",
              "    </tr>\n",
              "    <tr>\n",
              "      <th>6</th>\n",
              "      <td>воронеж плехановская</td>\n",
              "      <td>6</td>\n",
              "      <td>воронеж</td>\n",
              "      <td>NaN</td>\n",
              "      <td>0</td>\n",
              "      <td>33</td>\n",
              "    </tr>\n",
              "  </tbody>\n",
              "</table>\n",
              "</div>"
            ],
            "text/plain": [
              "                     shop_name  shop_id  ... shop_first_month shop_last_month\n",
              "2               адыгея тц мега        2  ...                0              33\n",
              "3  балашиха трк октябрькиномир        3  ...                0              33\n",
              "4       волжский тц волга молл        4  ...                0              33\n",
              "5         вологда трц мармелад        5  ...                1              33\n",
              "6         воронеж плехановская        6  ...                0              33\n",
              "\n",
              "[5 rows x 6 columns]"
            ]
          },
          "metadata": {
            "tags": []
          },
          "execution_count": 20
        }
      ]
    },
    {
      "cell_type": "code",
      "metadata": {
        "colab": {
          "base_uri": "https://localhost:8080/",
          "height": 224
        },
        "id": "_2pZEUolIp5J",
        "outputId": "61bc1c12-5d09-48c4-93f5-38e3bccf5693"
      },
      "source": [
        "# label encoding names\n",
        "shops = shops.fillna('NO_DATA')\n",
        "cols_to_encode = ['shop_name','shop_city','shop_type']\n",
        "shops[cols_to_encode] = shops[cols_to_encode].apply(LabelEncoder().fit_transform)\n",
        "#shops = shops.join(pd.get_dummies(shops[cols_to_encode]).add_suffix('_enc'))\n",
        "\n",
        "shops = downcast(shops)\n",
        "shops.head(5)"
      ],
      "id": "_2pZEUolIp5J",
      "execution_count": null,
      "outputs": [
        {
          "output_type": "execute_result",
          "data": {
            "text/html": [
              "<div>\n",
              "<style scoped>\n",
              "    .dataframe tbody tr th:only-of-type {\n",
              "        vertical-align: middle;\n",
              "    }\n",
              "\n",
              "    .dataframe tbody tr th {\n",
              "        vertical-align: top;\n",
              "    }\n",
              "\n",
              "    .dataframe thead th {\n",
              "        text-align: right;\n",
              "    }\n",
              "</style>\n",
              "<table border=\"1\" class=\"dataframe\">\n",
              "  <thead>\n",
              "    <tr style=\"text-align: right;\">\n",
              "      <th></th>\n",
              "      <th>shop_name</th>\n",
              "      <th>shop_id</th>\n",
              "      <th>shop_city</th>\n",
              "      <th>shop_type</th>\n",
              "      <th>shop_first_month</th>\n",
              "      <th>shop_last_month</th>\n",
              "    </tr>\n",
              "  </thead>\n",
              "  <tbody>\n",
              "    <tr>\n",
              "      <th>2</th>\n",
              "      <td>0</td>\n",
              "      <td>2</td>\n",
              "      <td>1</td>\n",
              "      <td>6</td>\n",
              "      <td>0</td>\n",
              "      <td>33</td>\n",
              "    </tr>\n",
              "    <tr>\n",
              "      <th>3</th>\n",
              "      <td>1</td>\n",
              "      <td>3</td>\n",
              "      <td>2</td>\n",
              "      <td>4</td>\n",
              "      <td>0</td>\n",
              "      <td>33</td>\n",
              "    </tr>\n",
              "    <tr>\n",
              "      <th>4</th>\n",
              "      <td>2</td>\n",
              "      <td>4</td>\n",
              "      <td>3</td>\n",
              "      <td>6</td>\n",
              "      <td>0</td>\n",
              "      <td>33</td>\n",
              "    </tr>\n",
              "    <tr>\n",
              "      <th>5</th>\n",
              "      <td>3</td>\n",
              "      <td>5</td>\n",
              "      <td>4</td>\n",
              "      <td>5</td>\n",
              "      <td>1</td>\n",
              "      <td>33</td>\n",
              "    </tr>\n",
              "    <tr>\n",
              "      <th>6</th>\n",
              "      <td>4</td>\n",
              "      <td>6</td>\n",
              "      <td>5</td>\n",
              "      <td>0</td>\n",
              "      <td>0</td>\n",
              "      <td>33</td>\n",
              "    </tr>\n",
              "  </tbody>\n",
              "</table>\n",
              "</div>"
            ],
            "text/plain": [
              "   shop_name  shop_id  shop_city  shop_type  shop_first_month  shop_last_month\n",
              "2          0        2          1          6                 0               33\n",
              "3          1        3          2          4                 0               33\n",
              "4          2        4          3          6                 0               33\n",
              "5          3        5          4          5                 1               33\n",
              "6          4        6          5          0                 0               33"
            ]
          },
          "metadata": {
            "tags": []
          },
          "execution_count": 21
        }
      ]
    },
    {
      "cell_type": "markdown",
      "metadata": {
        "id": "FYkz1BqRVCYV"
      },
      "source": [
        "For every shop in the test set we have data up to the last month in the training set (`date_block_num = 33`). There are some shops that do not pop up in the test set, anyway, they can still be useful to predict certain product sales for other shops."
      ],
      "id": "FYkz1BqRVCYV"
    },
    {
      "cell_type": "code",
      "metadata": {
        "colab": {
          "base_uri": "https://localhost:8080/"
        },
        "id": "6gD32232ISRb",
        "outputId": "5db4ba3e-a182-4d85-cce8-92c1952f30da"
      },
      "source": [
        "print(\"Shops that are not in the test set: \", shops.loc[~shops.shop_id.isin(test.shop_id), 'shop_id'].to_list())\n",
        "# uncomment next line to see details about those shops\n",
        "# shops[~shops.shop_id.isin(test.shop_id)]"
      ],
      "id": "6gD32232ISRb",
      "execution_count": null,
      "outputs": [
        {
          "output_type": "stream",
          "text": [
            "Shops that are not in the test set:  [8, 9, 13, 17, 20, 23, 27, 29, 30, 32, 33, 43, 51, 54]\n"
          ],
          "name": "stdout"
        }
      ]
    },
    {
      "cell_type": "markdown",
      "metadata": {
        "id": "gtxPd5HNmpp0"
      },
      "source": [
        "## Item categories"
      ],
      "id": "gtxPd5HNmpp0"
    },
    {
      "cell_type": "markdown",
      "metadata": {
        "id": "ieMsHmLzeXMC"
      },
      "source": [
        "\n",
        "Categories are described by a name which can have either the form `type - subtype` (e.g. `Книги - Путеводители` which means `books - travel guides`) or a single name (e.g. `Доставка товара` which means `delivery of goods`). Let's split composite category names into:\n",
        "- section\n",
        "- main category name\n",
        "- main sub-category name\n",
        "- secondary sub-category name\n",
        "\n",
        "For instance, the string `Аксессуары - PS4` gets transformed into:\n",
        "\n",
        "|   Section   | name | sub_name | sec_sub_name |\n",
        "|:-----------:|:----:|:--------:|:------------:|\n",
        "| accessories |  PS4 |    PS    |       4      |\n",
        "\n",
        "Here we have to get our hands dirty and deal with each category in detail because not every name has that structure.\n",
        "\n",
        "Note: I decided to translate sections into english for visualization purposes, but note that it was not necessary since later we will perform label encodings."
      ],
      "id": "ieMsHmLzeXMC"
    },
    {
      "cell_type": "code",
      "metadata": {
        "colab": {
          "base_uri": "https://localhost:8080/",
          "height": 359
        },
        "id": "Iddsul8ggx8x",
        "outputId": "1d1313cf-ea7c-4728-b21c-c942e1b342cb"
      },
      "source": [
        "# before\n",
        "categories[:10]"
      ],
      "id": "Iddsul8ggx8x",
      "execution_count": null,
      "outputs": [
        {
          "output_type": "execute_result",
          "data": {
            "text/html": [
              "<div>\n",
              "<style scoped>\n",
              "    .dataframe tbody tr th:only-of-type {\n",
              "        vertical-align: middle;\n",
              "    }\n",
              "\n",
              "    .dataframe tbody tr th {\n",
              "        vertical-align: top;\n",
              "    }\n",
              "\n",
              "    .dataframe thead th {\n",
              "        text-align: right;\n",
              "    }\n",
              "</style>\n",
              "<table border=\"1\" class=\"dataframe\">\n",
              "  <thead>\n",
              "    <tr style=\"text-align: right;\">\n",
              "      <th></th>\n",
              "      <th>item_category_name</th>\n",
              "      <th>item_category_id</th>\n",
              "    </tr>\n",
              "  </thead>\n",
              "  <tbody>\n",
              "    <tr>\n",
              "      <th>0</th>\n",
              "      <td>PC - Гарнитуры/Наушники</td>\n",
              "      <td>0</td>\n",
              "    </tr>\n",
              "    <tr>\n",
              "      <th>1</th>\n",
              "      <td>Аксессуары - PS2</td>\n",
              "      <td>1</td>\n",
              "    </tr>\n",
              "    <tr>\n",
              "      <th>2</th>\n",
              "      <td>Аксессуары - PS3</td>\n",
              "      <td>2</td>\n",
              "    </tr>\n",
              "    <tr>\n",
              "      <th>3</th>\n",
              "      <td>Аксессуары - PS4</td>\n",
              "      <td>3</td>\n",
              "    </tr>\n",
              "    <tr>\n",
              "      <th>4</th>\n",
              "      <td>Аксессуары - PSP</td>\n",
              "      <td>4</td>\n",
              "    </tr>\n",
              "    <tr>\n",
              "      <th>5</th>\n",
              "      <td>Аксессуары - PSVita</td>\n",
              "      <td>5</td>\n",
              "    </tr>\n",
              "    <tr>\n",
              "      <th>6</th>\n",
              "      <td>Аксессуары - XBOX 360</td>\n",
              "      <td>6</td>\n",
              "    </tr>\n",
              "    <tr>\n",
              "      <th>7</th>\n",
              "      <td>Аксессуары - XBOX ONE</td>\n",
              "      <td>7</td>\n",
              "    </tr>\n",
              "    <tr>\n",
              "      <th>8</th>\n",
              "      <td>Билеты (Цифра)</td>\n",
              "      <td>8</td>\n",
              "    </tr>\n",
              "    <tr>\n",
              "      <th>9</th>\n",
              "      <td>Доставка товара</td>\n",
              "      <td>9</td>\n",
              "    </tr>\n",
              "  </tbody>\n",
              "</table>\n",
              "</div>"
            ],
            "text/plain": [
              "        item_category_name  item_category_id\n",
              "0  PC - Гарнитуры/Наушники                 0\n",
              "1         Аксессуары - PS2                 1\n",
              "2         Аксессуары - PS3                 2\n",
              "3         Аксессуары - PS4                 3\n",
              "4         Аксессуары - PSP                 4\n",
              "5      Аксессуары - PSVita                 5\n",
              "6    Аксессуары - XBOX 360                 6\n",
              "7    Аксессуары - XBOX ONE                 7\n",
              "8           Билеты (Цифра)                 8\n",
              "9          Доставка товара                 9"
            ]
          },
          "metadata": {
            "tags": []
          },
          "execution_count": 23
        }
      ]
    },
    {
      "cell_type": "code",
      "metadata": {
        "id": "jX6lQvy3euQq"
      },
      "source": [
        "categories['split'] = categories['item_category_name'].str.split('-')\n",
        "categories['section'] = categories['split'].map(lambda x: x[0].strip())\n",
        "categories['name'] = categories['split'].map(lambda x: x[1].strip() if len(x) > 1 else x[0])\n",
        "categories = categories[['item_category_id', 'section', 'name']]\n",
        "\n",
        "# games\n",
        "categories.loc[26:31, 'sub_name'] = categories.loc[26:31, 'name']\n",
        "categories.loc[26:31, 'name'] = categories.loc[26:31, 'section'].str.split(' ').map(lambda x: x[1])\n",
        "categories.loc[18:31, 'section'] = 'games'\n",
        "\n",
        "# PlayStation stuff\n",
        "is_ps = categories.name.str.contains('PS')\n",
        "categories.loc[is_ps, 'sec_sub_name'] = categories.loc[is_ps, 'name'].map(lambda x: x.split('PS')[1])\n",
        "categories.loc[is_ps, 'sub_name'] = 'PS'\n",
        "\n",
        "# XBOX stuff\n",
        "is_xbox = categories.name.str.contains('XBOX')\n",
        "categories.loc[is_xbox, 'sec_sub_name'] = categories.loc[is_xbox, 'name'].map(lambda x: x.split('XBOX')[1])\n",
        "categories.loc[is_xbox, 'sub_name'] = 'XBOX'\n",
        "\n",
        "# split name - subname\n",
        "categories.loc[45, 'sec_sub_name'] = '1C'\n",
        "categories.loc[43:45, 'sub_name'] = 'audiobooks'\n",
        "categories.loc[55, 'sec_sub_name'] = 'локального'\n",
        "categories.loc[56, 'sec_sub_name'] = 'фирменного'\n",
        "categories.loc[55:56, 'sub_name'] = 'CD'\n",
        "categories.loc[81:82, 'sub_name'] = categories.name.loc[81:82].map(lambda x: x[x.find('(')+1:x.find(')')])\n",
        "\n",
        "# extract subname within brackets e.g. {name: \"Live! (Цифра)\"} --> {sub_name: \"Live!\", sec_sub_name: \"Цифра\"}\n",
        "has_subname = categories.name.str.contains('\\(.*?\\)')\n",
        "categories.loc[has_subname, 'sec_sub_name'] = categories.loc[has_subname, 'name'].map(lambda x: x[x.find('(')+1:x.find(')')])\n",
        "categories.loc[has_subname, 'sub_name'] = categories.loc[has_subname, 'name'].str.split('(').map(lambda x: x[0])\n",
        "\n",
        "# rename sections\n",
        "categories.loc[1:7, 'section'] = 'accessories'\n",
        "categories.loc[8, 'section'] = 'tickets'\n",
        "categories.loc[9, 'section'] = 'delivery of goods'\n",
        "categories.loc[10:17, 'section'] = 'consoles'\n",
        "categories.loc[32:36, 'section'] = 'cards'\n",
        "categories.loc[37:41, 'section'] = 'movies'\n",
        "categories.loc[42:54, 'section'] = 'books'\n",
        "categories.loc[55:60, 'section'] = 'music'\n",
        "categories.loc[61:72, 'section'] = 'gifts'\n",
        "categories.loc[73:78, 'section'] = 'software'\n",
        "categories.loc[81:82, 'section'] = 'disks'\n",
        "categories.loc[83, 'section'] = 'batteries'"
      ],
      "id": "jX6lQvy3euQq",
      "execution_count": null,
      "outputs": []
    },
    {
      "cell_type": "code",
      "metadata": {
        "colab": {
          "base_uri": "https://localhost:8080/",
          "height": 359
        },
        "id": "nhFiKwq8it7F",
        "outputId": "d5b9a010-2543-457f-8608-4861cdea6465"
      },
      "source": [
        "# after\n",
        "categories[:10]"
      ],
      "id": "nhFiKwq8it7F",
      "execution_count": null,
      "outputs": [
        {
          "output_type": "execute_result",
          "data": {
            "text/html": [
              "<div>\n",
              "<style scoped>\n",
              "    .dataframe tbody tr th:only-of-type {\n",
              "        vertical-align: middle;\n",
              "    }\n",
              "\n",
              "    .dataframe tbody tr th {\n",
              "        vertical-align: top;\n",
              "    }\n",
              "\n",
              "    .dataframe thead th {\n",
              "        text-align: right;\n",
              "    }\n",
              "</style>\n",
              "<table border=\"1\" class=\"dataframe\">\n",
              "  <thead>\n",
              "    <tr style=\"text-align: right;\">\n",
              "      <th></th>\n",
              "      <th>item_category_id</th>\n",
              "      <th>section</th>\n",
              "      <th>name</th>\n",
              "      <th>sub_name</th>\n",
              "      <th>sec_sub_name</th>\n",
              "    </tr>\n",
              "  </thead>\n",
              "  <tbody>\n",
              "    <tr>\n",
              "      <th>0</th>\n",
              "      <td>0</td>\n",
              "      <td>PC</td>\n",
              "      <td>Гарнитуры/Наушники</td>\n",
              "      <td>NaN</td>\n",
              "      <td>NaN</td>\n",
              "    </tr>\n",
              "    <tr>\n",
              "      <th>1</th>\n",
              "      <td>1</td>\n",
              "      <td>accessories</td>\n",
              "      <td>PS2</td>\n",
              "      <td>PS</td>\n",
              "      <td>2</td>\n",
              "    </tr>\n",
              "    <tr>\n",
              "      <th>2</th>\n",
              "      <td>2</td>\n",
              "      <td>accessories</td>\n",
              "      <td>PS3</td>\n",
              "      <td>PS</td>\n",
              "      <td>3</td>\n",
              "    </tr>\n",
              "    <tr>\n",
              "      <th>3</th>\n",
              "      <td>3</td>\n",
              "      <td>accessories</td>\n",
              "      <td>PS4</td>\n",
              "      <td>PS</td>\n",
              "      <td>4</td>\n",
              "    </tr>\n",
              "    <tr>\n",
              "      <th>4</th>\n",
              "      <td>4</td>\n",
              "      <td>accessories</td>\n",
              "      <td>PSP</td>\n",
              "      <td>PS</td>\n",
              "      <td>P</td>\n",
              "    </tr>\n",
              "    <tr>\n",
              "      <th>5</th>\n",
              "      <td>5</td>\n",
              "      <td>accessories</td>\n",
              "      <td>PSVita</td>\n",
              "      <td>PS</td>\n",
              "      <td>Vita</td>\n",
              "    </tr>\n",
              "    <tr>\n",
              "      <th>6</th>\n",
              "      <td>6</td>\n",
              "      <td>accessories</td>\n",
              "      <td>XBOX 360</td>\n",
              "      <td>XBOX</td>\n",
              "      <td>360</td>\n",
              "    </tr>\n",
              "    <tr>\n",
              "      <th>7</th>\n",
              "      <td>7</td>\n",
              "      <td>accessories</td>\n",
              "      <td>XBOX ONE</td>\n",
              "      <td>XBOX</td>\n",
              "      <td>ONE</td>\n",
              "    </tr>\n",
              "    <tr>\n",
              "      <th>8</th>\n",
              "      <td>8</td>\n",
              "      <td>tickets</td>\n",
              "      <td>Билеты (Цифра)</td>\n",
              "      <td>Билеты</td>\n",
              "      <td>Цифра</td>\n",
              "    </tr>\n",
              "    <tr>\n",
              "      <th>9</th>\n",
              "      <td>9</td>\n",
              "      <td>delivery of goods</td>\n",
              "      <td>Доставка товара</td>\n",
              "      <td>NaN</td>\n",
              "      <td>NaN</td>\n",
              "    </tr>\n",
              "  </tbody>\n",
              "</table>\n",
              "</div>"
            ],
            "text/plain": [
              "   item_category_id            section  ... sub_name sec_sub_name\n",
              "0                 0                 PC  ...      NaN          NaN\n",
              "1                 1        accessories  ...       PS            2\n",
              "2                 2        accessories  ...       PS            3\n",
              "3                 3        accessories  ...       PS            4\n",
              "4                 4        accessories  ...       PS            P\n",
              "5                 5        accessories  ...       PS         Vita\n",
              "6                 6        accessories  ...     XBOX          360\n",
              "7                 7        accessories  ...     XBOX          ONE\n",
              "8                 8            tickets  ...  Билеты         Цифра\n",
              "9                 9  delivery of goods  ...      NaN          NaN\n",
              "\n",
              "[10 rows x 5 columns]"
            ]
          },
          "metadata": {
            "tags": []
          },
          "execution_count": 25
        }
      ]
    },
    {
      "cell_type": "code",
      "metadata": {
        "colab": {
          "base_uri": "https://localhost:8080/",
          "height": 419
        },
        "id": "W2wUoqjOLC0c",
        "outputId": "7fbf0056-cfc3-4789-d8f3-169800af4b7c"
      },
      "source": [
        "# label encoding names\n",
        "categories = categories.fillna('NO_DATA')\n",
        "cols_to_encode = ['section','name','sub_name','sec_sub_name']\n",
        "categories[cols_to_encode] = categories[cols_to_encode].apply(LabelEncoder().fit_transform)\n",
        "#categories = categories.join(pd.get_dummies(categories[['section','name','sub_name','sec_sub_name']]).add_suffix('_enc'))\n",
        "\n",
        "#categories = categories.drop(columns=cols_to_encode)\n",
        "categories = downcast(categories)\n",
        "categories.rename(columns={'name':'cat_name', 'sub_name':'cat_sub_name', 'sec_sub_name':'cat_sec_sub_name'}, inplace=True)\n",
        "categories\n",
        "\n",
        "# note: to later perform inverse_transform see https://stackoverflow.com/questions/24458645/label-encoding-across-multiple-columns-in-scikit-learn"
      ],
      "id": "W2wUoqjOLC0c",
      "execution_count": null,
      "outputs": [
        {
          "output_type": "execute_result",
          "data": {
            "text/html": [
              "<div>\n",
              "<style scoped>\n",
              "    .dataframe tbody tr th:only-of-type {\n",
              "        vertical-align: middle;\n",
              "    }\n",
              "\n",
              "    .dataframe tbody tr th {\n",
              "        vertical-align: top;\n",
              "    }\n",
              "\n",
              "    .dataframe thead th {\n",
              "        text-align: right;\n",
              "    }\n",
              "</style>\n",
              "<table border=\"1\" class=\"dataframe\">\n",
              "  <thead>\n",
              "    <tr style=\"text-align: right;\">\n",
              "      <th></th>\n",
              "      <th>item_category_id</th>\n",
              "      <th>section</th>\n",
              "      <th>cat_name</th>\n",
              "      <th>cat_sub_name</th>\n",
              "      <th>cat_sec_sub_name</th>\n",
              "    </tr>\n",
              "  </thead>\n",
              "  <tbody>\n",
              "    <tr>\n",
              "      <th>0</th>\n",
              "      <td>0</td>\n",
              "      <td>0</td>\n",
              "      <td>32</td>\n",
              "      <td>3</td>\n",
              "      <td>7</td>\n",
              "    </tr>\n",
              "    <tr>\n",
              "      <th>1</th>\n",
              "      <td>1</td>\n",
              "      <td>1</td>\n",
              "      <td>12</td>\n",
              "      <td>4</td>\n",
              "      <td>3</td>\n",
              "    </tr>\n",
              "    <tr>\n",
              "      <th>2</th>\n",
              "      <td>2</td>\n",
              "      <td>1</td>\n",
              "      <td>13</td>\n",
              "      <td>4</td>\n",
              "      <td>4</td>\n",
              "    </tr>\n",
              "    <tr>\n",
              "      <th>3</th>\n",
              "      <td>3</td>\n",
              "      <td>1</td>\n",
              "      <td>14</td>\n",
              "      <td>4</td>\n",
              "      <td>5</td>\n",
              "    </tr>\n",
              "    <tr>\n",
              "      <th>4</th>\n",
              "      <td>4</td>\n",
              "      <td>1</td>\n",
              "      <td>16</td>\n",
              "      <td>4</td>\n",
              "      <td>8</td>\n",
              "    </tr>\n",
              "    <tr>\n",
              "      <th>...</th>\n",
              "      <td>...</td>\n",
              "      <td>...</td>\n",
              "      <td>...</td>\n",
              "      <td>...</td>\n",
              "      <td>...</td>\n",
              "    </tr>\n",
              "    <tr>\n",
              "      <th>79</th>\n",
              "      <td>79</td>\n",
              "      <td>14</td>\n",
              "      <td>55</td>\n",
              "      <td>3</td>\n",
              "      <td>7</td>\n",
              "    </tr>\n",
              "    <tr>\n",
              "      <th>80</th>\n",
              "      <td>80</td>\n",
              "      <td>14</td>\n",
              "      <td>28</td>\n",
              "      <td>3</td>\n",
              "      <td>7</td>\n",
              "    </tr>\n",
              "    <tr>\n",
              "      <th>81</th>\n",
              "      <td>81</td>\n",
              "      <td>7</td>\n",
              "      <td>62</td>\n",
              "      <td>19</td>\n",
              "      <td>16</td>\n",
              "    </tr>\n",
              "    <tr>\n",
              "      <th>82</th>\n",
              "      <td>82</td>\n",
              "      <td>7</td>\n",
              "      <td>63</td>\n",
              "      <td>19</td>\n",
              "      <td>17</td>\n",
              "    </tr>\n",
              "    <tr>\n",
              "      <th>83</th>\n",
              "      <td>83</td>\n",
              "      <td>2</td>\n",
              "      <td>64</td>\n",
              "      <td>3</td>\n",
              "      <td>7</td>\n",
              "    </tr>\n",
              "  </tbody>\n",
              "</table>\n",
              "<p>84 rows × 5 columns</p>\n",
              "</div>"
            ],
            "text/plain": [
              "    item_category_id  section  cat_name  cat_sub_name  cat_sec_sub_name\n",
              "0                  0        0        32             3                 7\n",
              "1                  1        1        12             4                 3\n",
              "2                  2        1        13             4                 4\n",
              "3                  3        1        14             4                 5\n",
              "4                  4        1        16             4                 8\n",
              "..               ...      ...       ...           ...               ...\n",
              "79                79       14        55             3                 7\n",
              "80                80       14        28             3                 7\n",
              "81                81        7        62            19                16\n",
              "82                82        7        63            19                17\n",
              "83                83        2        64             3                 7\n",
              "\n",
              "[84 rows x 5 columns]"
            ]
          },
          "metadata": {
            "tags": []
          },
          "execution_count": 26
        }
      ]
    },
    {
      "cell_type": "markdown",
      "metadata": {
        "id": "vt4MDQt6pdqJ"
      },
      "source": [
        "## Items"
      ],
      "id": "vt4MDQt6pdqJ"
    },
    {
      "cell_type": "markdown",
      "metadata": {
        "id": "DalrTTTQsUAP"
      },
      "source": [
        "If we manually inspect item names, we'll soon discover that they share some kind of structure which, in general, is \n",
        "\n",
        "```item_name [category_feature] (additional_info)```\n",
        "\n",
        "where the terms within brackets are optional."
      ],
      "id": "DalrTTTQsUAP"
    },
    {
      "cell_type": "code",
      "metadata": {
        "colab": {
          "base_uri": "https://localhost:8080/",
          "height": 359
        },
        "id": "rjw1_D8QsbkJ",
        "outputId": "c2c96722-a5f3-4bb8-96f7-49c26d24cd02"
      },
      "source": [
        "items.tail(10)"
      ],
      "id": "rjw1_D8QsbkJ",
      "execution_count": null,
      "outputs": [
        {
          "output_type": "execute_result",
          "data": {
            "text/html": [
              "<div>\n",
              "<style scoped>\n",
              "    .dataframe tbody tr th:only-of-type {\n",
              "        vertical-align: middle;\n",
              "    }\n",
              "\n",
              "    .dataframe tbody tr th {\n",
              "        vertical-align: top;\n",
              "    }\n",
              "\n",
              "    .dataframe thead th {\n",
              "        text-align: right;\n",
              "    }\n",
              "</style>\n",
              "<table border=\"1\" class=\"dataframe\">\n",
              "  <thead>\n",
              "    <tr style=\"text-align: right;\">\n",
              "      <th></th>\n",
              "      <th>item_name</th>\n",
              "      <th>item_id</th>\n",
              "      <th>item_category_id</th>\n",
              "    </tr>\n",
              "  </thead>\n",
              "  <tbody>\n",
              "    <tr>\n",
              "      <th>22160</th>\n",
              "      <td>ЯРМАРКА ТЩЕСЛАВИЯ (Регион)</td>\n",
              "      <td>22160</td>\n",
              "      <td>40</td>\n",
              "    </tr>\n",
              "    <tr>\n",
              "      <th>22161</th>\n",
              "      <td>ЯРОСЛАВ. ТЫСЯЧУ ЛЕТ НАЗАД э (BD)</td>\n",
              "      <td>22161</td>\n",
              "      <td>37</td>\n",
              "    </tr>\n",
              "    <tr>\n",
              "      <th>22162</th>\n",
              "      <td>ЯРОСТЬ</td>\n",
              "      <td>22162</td>\n",
              "      <td>40</td>\n",
              "    </tr>\n",
              "    <tr>\n",
              "      <th>22163</th>\n",
              "      <td>ЯРОСТЬ ( регион)</td>\n",
              "      <td>22163</td>\n",
              "      <td>40</td>\n",
              "    </tr>\n",
              "    <tr>\n",
              "      <th>22164</th>\n",
              "      <td>ЯРОСТЬ (BD)</td>\n",
              "      <td>22164</td>\n",
              "      <td>37</td>\n",
              "    </tr>\n",
              "    <tr>\n",
              "      <th>22165</th>\n",
              "      <td>Ядерный титбит 2 [PC, Цифровая версия]</td>\n",
              "      <td>22165</td>\n",
              "      <td>31</td>\n",
              "    </tr>\n",
              "    <tr>\n",
              "      <th>22166</th>\n",
              "      <td>Язык запросов 1С:Предприятия  [Цифровая версия]</td>\n",
              "      <td>22166</td>\n",
              "      <td>54</td>\n",
              "    </tr>\n",
              "    <tr>\n",
              "      <th>22167</th>\n",
              "      <td>Язык запросов 1С:Предприятия 8 (+CD). Хрустале...</td>\n",
              "      <td>22167</td>\n",
              "      <td>49</td>\n",
              "    </tr>\n",
              "    <tr>\n",
              "      <th>22168</th>\n",
              "      <td>Яйцо для Little Inu</td>\n",
              "      <td>22168</td>\n",
              "      <td>62</td>\n",
              "    </tr>\n",
              "    <tr>\n",
              "      <th>22169</th>\n",
              "      <td>Яйцо дракона (Игра престолов)</td>\n",
              "      <td>22169</td>\n",
              "      <td>69</td>\n",
              "    </tr>\n",
              "  </tbody>\n",
              "</table>\n",
              "</div>"
            ],
            "text/plain": [
              "                                               item_name  ...  item_category_id\n",
              "22160                         ЯРМАРКА ТЩЕСЛАВИЯ (Регион)  ...                40\n",
              "22161                   ЯРОСЛАВ. ТЫСЯЧУ ЛЕТ НАЗАД э (BD)  ...                37\n",
              "22162                                             ЯРОСТЬ  ...                40\n",
              "22163                                   ЯРОСТЬ ( регион)  ...                40\n",
              "22164                                        ЯРОСТЬ (BD)  ...                37\n",
              "22165             Ядерный титбит 2 [PC, Цифровая версия]  ...                31\n",
              "22166    Язык запросов 1С:Предприятия  [Цифровая версия]  ...                54\n",
              "22167  Язык запросов 1С:Предприятия 8 (+CD). Хрустале...  ...                49\n",
              "22168                                Яйцо для Little Inu  ...                62\n",
              "22169                      Яйцо дракона (Игра престолов)  ...                69\n",
              "\n",
              "[10 rows x 3 columns]"
            ]
          },
          "metadata": {
            "tags": []
          },
          "execution_count": 27
        }
      ]
    },
    {
      "cell_type": "code",
      "metadata": {
        "id": "b-qKBAcKsfI4"
      },
      "source": [
        "import re\n",
        "def extract_from_square_brackets(s):\n",
        "  s = re.search(r\"\\[(.*?)\\]\", s)\n",
        "  if s:\n",
        "    return s.group(1)\n",
        "\n",
        "def extract_from_round_brackets(s):\n",
        "  s = re.search(r\"\\((.*?)\\)\", s)\n",
        "  if s:\n",
        "    return s.group(1)\n",
        "\n",
        "def name_correction(x):\n",
        "  if x:\n",
        "    x = x.lower()\n",
        "    x = x.partition('[')[0]\n",
        "    x = x.partition('(')[0]\n",
        "    x = re.sub('[^A-Za-z0-9А-Яа-я]+', ' ', x)\n",
        "    x = x.replace('  ', ' ')\n",
        "    x = x.strip()\n",
        "  return x\n",
        "\n",
        "items['item_name_2'] = items['item_name'].apply(extract_from_square_brackets)\n",
        "items['item_name_3'] = items['item_name'].apply(extract_from_round_brackets)\n",
        "\n",
        "items['item_name'] = items['item_name'].apply(name_correction)\n",
        "items['item_name_2'] = items['item_name_2'].apply(name_correction)\n",
        "items['item_name_3'] = items['item_name_3'].apply(name_correction)\n",
        "\n",
        "items.fillna('0', inplace=True)"
      ],
      "id": "b-qKBAcKsfI4",
      "execution_count": null,
      "outputs": []
    },
    {
      "cell_type": "markdown",
      "metadata": {
        "id": "_7B5cyqlsrlS"
      },
      "source": [
        "Let's take a look at what we have done."
      ],
      "id": "_7B5cyqlsrlS"
    },
    {
      "cell_type": "code",
      "metadata": {
        "colab": {
          "base_uri": "https://localhost:8080/",
          "height": 419
        },
        "id": "Zs-W_rtbJT9R",
        "outputId": "8d13fc61-d6e2-492c-df82-7726ebb7c072"
      },
      "source": [
        "items[items['item_name'].str.startswith('need for speed')]"
      ],
      "id": "Zs-W_rtbJT9R",
      "execution_count": null,
      "outputs": [
        {
          "output_type": "execute_result",
          "data": {
            "text/html": [
              "<div>\n",
              "<style scoped>\n",
              "    .dataframe tbody tr th:only-of-type {\n",
              "        vertical-align: middle;\n",
              "    }\n",
              "\n",
              "    .dataframe tbody tr th {\n",
              "        vertical-align: top;\n",
              "    }\n",
              "\n",
              "    .dataframe thead th {\n",
              "        text-align: right;\n",
              "    }\n",
              "</style>\n",
              "<table border=\"1\" class=\"dataframe\">\n",
              "  <thead>\n",
              "    <tr style=\"text-align: right;\">\n",
              "      <th></th>\n",
              "      <th>item_name</th>\n",
              "      <th>item_id</th>\n",
              "      <th>item_category_id</th>\n",
              "      <th>item_name_2</th>\n",
              "      <th>item_name_3</th>\n",
              "    </tr>\n",
              "  </thead>\n",
              "  <tbody>\n",
              "    <tr>\n",
              "      <th>5012</th>\n",
              "      <td>need for speed жажда скорости</td>\n",
              "      <td>5012</td>\n",
              "      <td>40</td>\n",
              "      <td>0</td>\n",
              "      <td>0</td>\n",
              "    </tr>\n",
              "    <tr>\n",
              "      <th>5013</th>\n",
              "      <td>need for speed жажда скорости</td>\n",
              "      <td>5013</td>\n",
              "      <td>38</td>\n",
              "      <td>0</td>\n",
              "      <td>3d bd</td>\n",
              "    </tr>\n",
              "    <tr>\n",
              "      <th>5014</th>\n",
              "      <td>need for speed жажда скорости</td>\n",
              "      <td>5014</td>\n",
              "      <td>37</td>\n",
              "      <td>0</td>\n",
              "      <td>bd</td>\n",
              "    </tr>\n",
              "    <tr>\n",
              "      <th>5217</th>\n",
              "      <td>need for speed prostreet</td>\n",
              "      <td>5217</td>\n",
              "      <td>31</td>\n",
              "      <td>pc цифровая версия</td>\n",
              "      <td>0</td>\n",
              "    </tr>\n",
              "    <tr>\n",
              "      <th>5218</th>\n",
              "      <td>need for speed shift</td>\n",
              "      <td>5218</td>\n",
              "      <td>31</td>\n",
              "      <td>pc цифровая версия</td>\n",
              "      <td>0</td>\n",
              "    </tr>\n",
              "    <tr>\n",
              "      <th>...</th>\n",
              "      <td>...</td>\n",
              "      <td>...</td>\n",
              "      <td>...</td>\n",
              "      <td>...</td>\n",
              "      <td>...</td>\n",
              "    </tr>\n",
              "    <tr>\n",
              "      <th>5275</th>\n",
              "      <td>need for speed most wanted</td>\n",
              "      <td>5275</td>\n",
              "      <td>22</td>\n",
              "      <td>ps vita русская версия</td>\n",
              "      <td>a criterion game</td>\n",
              "    </tr>\n",
              "    <tr>\n",
              "      <th>5276</th>\n",
              "      <td>need for speed most wanted</td>\n",
              "      <td>5276</td>\n",
              "      <td>19</td>\n",
              "      <td>ps3 русская версия</td>\n",
              "      <td>a criterion game</td>\n",
              "    </tr>\n",
              "    <tr>\n",
              "      <th>5277</th>\n",
              "      <td>need for speed most wanted</td>\n",
              "      <td>5277</td>\n",
              "      <td>23</td>\n",
              "      <td>xbox 360 русская версия</td>\n",
              "      <td>a criterion game</td>\n",
              "    </tr>\n",
              "    <tr>\n",
              "      <th>5278</th>\n",
              "      <td>need for speed most wanted 5 1 0</td>\n",
              "      <td>5278</td>\n",
              "      <td>21</td>\n",
              "      <td>psp английская версия</td>\n",
              "      <td>essentials</td>\n",
              "    </tr>\n",
              "    <tr>\n",
              "      <th>5279</th>\n",
              "      <td>need for speed undercover</td>\n",
              "      <td>5279</td>\n",
              "      <td>31</td>\n",
              "      <td>pc цифровая версия</td>\n",
              "      <td>0</td>\n",
              "    </tr>\n",
              "  </tbody>\n",
              "</table>\n",
              "<p>66 rows × 5 columns</p>\n",
              "</div>"
            ],
            "text/plain": [
              "                             item_name  ...       item_name_3\n",
              "5012     need for speed жажда скорости  ...                 0\n",
              "5013     need for speed жажда скорости  ...             3d bd\n",
              "5014     need for speed жажда скорости  ...                bd\n",
              "5217          need for speed prostreet  ...                 0\n",
              "5218              need for speed shift  ...                 0\n",
              "...                                ...  ...               ...\n",
              "5275        need for speed most wanted  ...  a criterion game\n",
              "5276        need for speed most wanted  ...  a criterion game\n",
              "5277        need for speed most wanted  ...  a criterion game\n",
              "5278  need for speed most wanted 5 1 0  ...        essentials\n",
              "5279         need for speed undercover  ...                 0\n",
              "\n",
              "[66 rows x 5 columns]"
            ]
          },
          "metadata": {
            "tags": []
          },
          "execution_count": 29
        }
      ]
    },
    {
      "cell_type": "markdown",
      "metadata": {
        "id": "iRCj1fp9KIYk"
      },
      "source": [
        "At this point, I noticed that some patterns repeated themselves inside `item_name` of different instances. For istance, the previous dataframe shows the items that contain the string `need for speed` (a popular car racing game) in their `item_name`. We can reasonably assume that, different titles of the same game franchise behave similarly in terms of copies sold. \n",
        "\n",
        "As we will see later (spoiler alert), for a fraction of the items for which we are asked to predict future sales, we don't have any past information, since they have been released on November 2015. For this reason I think that, if we provide explicitly the group that links different item names together, then it would help our model at predicting sales for new items.\n",
        "\n",
        "The same applies for `item_name_2`, but it is less critical: consider, for instance, the names `ps vita русская версия`, `ps3 русская версия`, `xbox 360 русская версия`. Those were the strings within square brackets in the original `item_name`. We already know the platform (xbox, ps3...) since we extracted that information from the category name, therefore, we should focus on isolating the other portion of the string (`русская версия`, which means _Russian version_).\n",
        "\n",
        "I didn't know any sophisticated technique for extracting common patterns from strings. The first thing I tried was to use some clustering algorithms using some particular metrics to measure string similarity. I tried using DBSCAN (which do not require to choose a-priori the number of clusters) as a clustering algorithm and the [Jaccard distance](https://en.wikipedia.org/wiki/Jaccard_index) as a dissimilarity metric, which is defined as:\n",
        "\n",
        "$$J_\\delta(X_1, X_2) = 1 - J(X_1, X_2) = 1 - \\frac{|X_1 \\cap X_2|}{|X_1 \\cup X_2|}$$\n",
        "\n",
        "Consider two strings _\"need for speed prostreet\"_ and _\"need for speed most wanted\"_, the Jaccard index measures how many words appear in both strings, divided by the total number of different words in them:\n",
        "\n",
        "$$\\frac{|\\{\\mathrm{need}, \\mathrm{for}, \\mathrm{speed}\\}|}{|\\{\\mathrm{need}, \\mathrm{for}, \\mathrm{speed}, \\mathrm{prostreet}, \\mathrm{most}, \\mathrm{wanted}\\}|} = \\frac{3}{6}=0.5$$\n",
        "\n",
        "The Jaccard distance, in this case, is $1-0.5=0.5$.\n",
        "\n",
        "I tried using the sklearn implementation of DBSCAN with a custom metric.\n",
        "\n",
        "```python\n",
        "import numpy as np\n",
        "from sklearn.cluster import dbscan\n",
        "\n",
        "item_names = items['item_name']\n",
        "\n",
        "def jaccard_dist(x, y):\n",
        "    i, j = int(x[0]), int(y[0])\n",
        "    str1, str2 = item_names[i], item_names[j]\n",
        "    a = set(str1.split()) \n",
        "    b = set(str2.split())\n",
        "    c = a.intersection(b)\n",
        "    return  1 - float(len(c)) / (len(a) + len(b) - len(c))\n",
        "\n",
        "X = np.arange(len(item_names)).reshape(-1, 1)\n",
        "dbs = dbscan(X, metric=jaccard_dist, eps=0.6, min_samples=2, algorithm='brute')\n",
        "```\n",
        "\n",
        "Unfortunately, the algorithm took too long and could not complete the computation. This is because the number of points (items) is quite large (22170), and the algorithm have to compare each item with every other items **multiple times**, each time **recomputing the distance**.\n",
        "\n",
        "Another approach I tried was to compute the distance matrix a-priori, and then passing it to the DBSCAN algorithm.\n",
        "\n",
        "**Note:** the Jaccard distance is not the most appropriate metric to use for this kind of task, for instance, if we had two strings _\"Batman Begins\"_\n",
        "and _\"Batman the dark knight rises\"_, we would like to consider them similar to each other, anyway, by using the Jaccard distance, they would be considered quite different: $1-\\frac{1}{6} = 0.833$. For this reason, I decided to apply the procedure described above on a subset of the string (considering only the first three words, i.e. the first word-level trigram)."
      ],
      "id": "iRCj1fp9KIYk"
    },
    {
      "cell_type": "code",
      "metadata": {
        "colab": {
          "base_uri": "https://localhost:8080/"
        },
        "id": "NrCeu_a5IYat",
        "outputId": "a4e57802-71ba-4074-c193-00fe04796d38"
      },
      "source": [
        "def jaccard(x, y):\n",
        "  \"\"\"Return jaccard distance between two sets of string elements\n",
        "  e.g. x = {'the', 'first', 'string'}, y = {'another', 'string'}.\"\"\"\n",
        "  return 1 - len(x.intersection(y)) / len(x.union(y))\n",
        "\n",
        "t_start = time.time()\n",
        "\n",
        "# consider only first 3 words of item_name\n",
        "item_names = [set(x.split()[:3]) for x in items['item_name']]\n",
        "d = np.zeros((len(item_names), len(item_names)))\n",
        "for i in range(len(item_names)):\n",
        "  for j in range(i, len(item_names)):\n",
        "    d[j,i] = d[i,j] = jaccard(item_names[i], item_names[j])\n",
        "\n",
        "print(f\"Time to compute distance matrix: {time.time() - t_start} s\")\n",
        "\n",
        "t_start = time.time()\n",
        "# min_samples = 1 --> we allow clusters with only one item (problem: exceed memory limit)\n",
        "dbs = dbscan(d, metric='precomputed', eps=0.6, min_samples=1)\n",
        "print(f\"Time to run DBSCAN: {time.time() - t_start} s\")\n",
        "\n",
        "# label encode items\n",
        "items['item_name'] = dbs[1]\n",
        "\n",
        "\n",
        "# label encodings\n",
        "items[['item_name_2', 'item_name_3']] = items[['item_name_2', 'item_name_3']].apply(LabelEncoder().fit_transform)\n",
        "items = downcast(items)\n",
        "\n",
        "del d, item_names, dbs\n",
        "gc.collect()"
      ],
      "id": "NrCeu_a5IYat",
      "execution_count": null,
      "outputs": [
        {
          "output_type": "stream",
          "text": [
            "Time to run DBSCAN: 10.919206619262695 s\n"
          ],
          "name": "stdout"
        }
      ]
    },
    {
      "cell_type": "code",
      "metadata": {
        "colab": {
          "base_uri": "https://localhost:8080/",
          "height": 204
        },
        "id": "G20FgMlYTcOE",
        "outputId": "253e6c07-8cc6-4184-f10e-80578a3c25d9"
      },
      "source": [
        "items.head()"
      ],
      "id": "G20FgMlYTcOE",
      "execution_count": null,
      "outputs": [
        {
          "output_type": "execute_result",
          "data": {
            "text/html": [
              "<div>\n",
              "<style scoped>\n",
              "    .dataframe tbody tr th:only-of-type {\n",
              "        vertical-align: middle;\n",
              "    }\n",
              "\n",
              "    .dataframe tbody tr th {\n",
              "        vertical-align: top;\n",
              "    }\n",
              "\n",
              "    .dataframe thead th {\n",
              "        text-align: right;\n",
              "    }\n",
              "</style>\n",
              "<table border=\"1\" class=\"dataframe\">\n",
              "  <thead>\n",
              "    <tr style=\"text-align: right;\">\n",
              "      <th></th>\n",
              "      <th>item_name</th>\n",
              "      <th>item_id</th>\n",
              "      <th>item_category_id</th>\n",
              "      <th>item_name_2</th>\n",
              "      <th>item_name_3</th>\n",
              "    </tr>\n",
              "  </thead>\n",
              "  <tbody>\n",
              "    <tr>\n",
              "      <th>0</th>\n",
              "      <td>0</td>\n",
              "      <td>0</td>\n",
              "      <td>40</td>\n",
              "      <td>1</td>\n",
              "      <td>915</td>\n",
              "    </tr>\n",
              "    <tr>\n",
              "      <th>1</th>\n",
              "      <td>1</td>\n",
              "      <td>1</td>\n",
              "      <td>76</td>\n",
              "      <td>43</td>\n",
              "      <td>0</td>\n",
              "    </tr>\n",
              "    <tr>\n",
              "      <th>2</th>\n",
              "      <td>2</td>\n",
              "      <td>2</td>\n",
              "      <td>40</td>\n",
              "      <td>1</td>\n",
              "      <td>666</td>\n",
              "    </tr>\n",
              "    <tr>\n",
              "      <th>3</th>\n",
              "      <td>3</td>\n",
              "      <td>3</td>\n",
              "      <td>40</td>\n",
              "      <td>1</td>\n",
              "      <td>665</td>\n",
              "    </tr>\n",
              "    <tr>\n",
              "      <th>4</th>\n",
              "      <td>4</td>\n",
              "      <td>4</td>\n",
              "      <td>40</td>\n",
              "      <td>1</td>\n",
              "      <td>1036</td>\n",
              "    </tr>\n",
              "  </tbody>\n",
              "</table>\n",
              "</div>"
            ],
            "text/plain": [
              "   item_name  item_id  item_category_id  item_name_2  item_name_3\n",
              "0          0        0                40            1          915\n",
              "1          1        1                76           43            0\n",
              "2          2        2                40            1          666\n",
              "3          3        3                40            1          665\n",
              "4          4        4                40            1         1036"
            ]
          },
          "metadata": {
            "tags": []
          },
          "execution_count": 34
        }
      ]
    },
    {
      "cell_type": "markdown",
      "metadata": {
        "id": "0soy2PN0jnHu"
      },
      "source": [
        "## Item sales"
      ],
      "id": "0soy2PN0jnHu"
    },
    {
      "cell_type": "markdown",
      "metadata": {
        "id": "6OsrsZya7eUi"
      },
      "source": [
        "As we've seen so far, there are periods in which no data is available for a certain shop or for a certain item (maybe because it is not available in a certain store), so, what should we do for those cases? Extending the dataset by inlcuding every possible combination of day-shop-item would make the training set reaching over 1B entries."
      ],
      "id": "6OsrsZya7eUi"
    },
    {
      "cell_type": "code",
      "metadata": {
        "colab": {
          "base_uri": "https://localhost:8080/"
        },
        "id": "0IAaYr-fjoZB",
        "outputId": "a39ecd89-cf0b-4a5f-9c2f-b396481a9b5d"
      },
      "source": [
        "print(\"Power set (date ⨯ shop ⨯ item) size is\", len(train.date.unique()) * len(train.shop_id.unique()) * len(train.item_id.unique()))"
      ],
      "id": "0IAaYr-fjoZB",
      "execution_count": null,
      "outputs": [
        {
          "output_type": "stream",
          "text": [
            "Power set (date ⨯ shop ⨯ item) size is 1262654624\n"
          ],
          "name": "stdout"
        }
      ]
    },
    {
      "cell_type": "markdown",
      "metadata": {
        "id": "4z8fNjJd_at9"
      },
      "source": [
        "If we considered only `date_block_num` instead of `date`, we would end up with ~41M entries, but we would lose information about daily sales, which, intuitively, can turn useful when predicting sales for November 2015."
      ],
      "id": "4z8fNjJd_at9"
    },
    {
      "cell_type": "code",
      "metadata": {
        "colab": {
          "base_uri": "https://localhost:8080/"
        },
        "id": "IODfMVIX7DCg",
        "outputId": "514c6af4-50ea-4bee-c762-59b892faa393"
      },
      "source": [
        "print(\"Power set (date_block_num ⨯ shop ⨯ item) size is\", len(train.date_block_num.unique()) * len(train.shop_id.unique()) * len(train.item_id.unique()))"
      ],
      "id": "IODfMVIX7DCg",
      "execution_count": null,
      "outputs": [
        {
          "output_type": "stream",
          "text": [
            "Power set (date_block_num ⨯ shop ⨯ item) size is 41518624\n"
          ],
          "name": "stdout"
        }
      ]
    },
    {
      "cell_type": "markdown",
      "metadata": {
        "id": "0zFp8s10XWCm"
      },
      "source": [
        "Let's start by dealing with sales by crafting new features for items such as the first day in which each item was sold (we will call this variable `first_sale_block` since we are interested in monthly sales)."
      ],
      "id": "0zFp8s10XWCm"
    },
    {
      "cell_type": "code",
      "metadata": {
        "id": "zxY1LEuVblMn"
      },
      "source": [
        "items['first_sale_block'] = train.groupby('item_id')['date_block_num'].min()\n",
        "items['first_sale_block'].fillna(34, inplace=True)\n",
        "items['first_sale_block'] = items['first_sale_block'].astype('int8')"
      ],
      "id": "zxY1LEuVblMn",
      "execution_count": null,
      "outputs": []
    },
    {
      "cell_type": "markdown",
      "metadata": {
        "id": "HEGeluJR0rxe"
      },
      "source": [
        "### Grid of shops-items\n",
        "\n",
        "In the next script we will consider only the shops that are present both in the training and in the test set. Then, we construct a grid of triplets (`date_block_num`, `shop_id`, `item_id`) grouping together, for each month, all the shops and all the items for which we have a record in the training set."
      ],
      "id": "HEGeluJR0rxe"
    },
    {
      "cell_type": "code",
      "metadata": {
        "id": "zZmLYLkPwiqa"
      },
      "source": [
        "# keep in train only sales associated to shops that are also in the test set\n",
        "train = train.merge(test[['shop_id']].drop_duplicates(), how='inner')\n",
        "\n",
        "from itertools import product\n",
        "\n",
        "# create grid of (date_block_num, shop_id, item_id) triplets from train set\n",
        "grid = []\n",
        "\n",
        "for block_num in train['date_block_num'].unique():\n",
        "  mthly_shops = train[train.date_block_num == block_num]['shop_id'].unique()\n",
        "  mthly_items = train[train.date_block_num == block_num]['item_id'].unique()\n",
        "  grid.append(np.array(list(product(*[mthly_shops, mthly_items, [block_num]])), dtype='int32'))\n",
        "\n",
        "sales = pd.DataFrame(np.vstack(grid), columns=['shop_id', 'item_id', 'date_block_num'], dtype=np.int32)\n",
        "\n",
        "# get monthly sales for each (shop, item) pair in train set\n",
        "mthly_sales = train.groupby(['shop_id', 'item_id', 'date_block_num'])['item_cnt_day'].sum().reset_index().rename(columns={'item_cnt_day': 'item_cnt_month'})\n",
        "sales = pd.merge(sales, mthly_sales, how='left', on=['shop_id', 'item_id', 'date_block_num']).fillna(0)\n",
        "sales['item_cnt_month'] = sales['item_cnt_month'].astype(int)\n",
        "\n",
        "# get monthly average price for each (shop, item) pair in train set\n",
        "avg_prices = train.groupby(['shop_id', 'item_id', 'date_block_num'])['item_price'].mean().reset_index().rename(columns={'item_price': 'item_avg_price'})\n",
        "sales = pd.merge(sales, avg_prices, how='left', on=['shop_id', 'item_id', 'date_block_num']).fillna(0.)\n",
        "\n",
        "sales = downcast(sales)\n",
        "sales = sales.sort_values(['date_block_num', 'shop_id', 'item_id'])"
      ],
      "id": "zZmLYLkPwiqa",
      "execution_count": null,
      "outputs": []
    },
    {
      "cell_type": "code",
      "metadata": {
        "colab": {
          "base_uri": "https://localhost:8080/"
        },
        "id": "2LzVIZuaBHIT",
        "outputId": "c6b50539-b69c-463d-de6c-e9d2847a4b80"
      },
      "source": [
        "# merge train with items\n",
        "sales = sales.merge(items, on=['item_id'], how='left')\n",
        "\n",
        "# merge test with items\n",
        "test = test.merge(items, on=['item_id'], how='left')\n",
        "\n",
        "# merge train with categories\n",
        "sales = sales.merge(categories, on=['item_category_id'], how='left')\n",
        "\n",
        "# merge test with categories\n",
        "test = test.merge(categories, on=['item_category_id'], how='left')\n",
        "\n",
        "# merge train with shops\n",
        "sales = sales.merge(shops, on=['shop_id'], how='left')\n",
        "\n",
        "# merge test with shops\n",
        "test = test.merge(shops, on=['shop_id'], how='left')\n",
        "\n",
        "del grid, mthly_sales, mthly_shops, mthly_items, categories, shops, items\n",
        "gc.collect()"
      ],
      "id": "2LzVIZuaBHIT",
      "execution_count": null,
      "outputs": [
        {
          "output_type": "execute_result",
          "data": {
            "text/plain": [
              "50"
            ]
          },
          "metadata": {
            "tags": []
          },
          "execution_count": 39
        }
      ]
    },
    {
      "cell_type": "markdown",
      "metadata": {
        "id": "1ItmWL39mimM"
      },
      "source": [
        "## Dates"
      ],
      "id": "1ItmWL39mimM"
    },
    {
      "cell_type": "markdown",
      "metadata": {
        "id": "d4ArtluXmsOE"
      },
      "source": [
        "Possible dates features may be: \n",
        "- Weekends and holidays sales\n",
        "- Number of days in the month\n",
        "- Month number (for seasonal items)\n",
        "\n",
        "Note that, in our training set, for every date between `2013-01-01` and `2015-10-31`, there exist at least one sale. Recall that the variable `date_block_num` varies over the range 0-33, where 0 corresponds to January 2013 and 33 to October 2015, and we are requested to predict sales for November 2015."
      ],
      "id": "d4ArtluXmsOE"
    },
    {
      "cell_type": "code",
      "metadata": {
        "id": "HP1EZ86fythG"
      },
      "source": [
        "# create dates from sdate (Jan 1, 2013) to edate (Nov 30, 2015)\n",
        "sdate = pd.to_datetime('2013-01-01')\n",
        "edate = pd.to_datetime('2015-11-30')\n",
        "dates = pd.date_range(sdate, edate, freq='d').to_frame(index=False, name='date')\n",
        "\n",
        "# add features\n",
        "dates['year'] = dates['date'].dt.year\n",
        "dates['month'] = dates['date'].dt.month.astype('int8')\n",
        "dates['date_block_num'] = (dates['year']-2013) * 12 + dates['month'] - 1\n",
        "dates['weekday'] = dates['date'].dt.weekday\n",
        "dates['is_weekend'] = dates['date'].dt.day_name().map(lambda x: x in ['Saturday', 'Sunday'])\n",
        "\n",
        "# dummies: 0: Monday ... 6: Sunday\n",
        "dates = pd.get_dummies(dates, columns=['weekday']) \n",
        "weekdays = ['weekday_{}'.format(i) for i in range(7)]\n",
        "\n",
        "# count days in each month\n",
        "monthly_data = dates.groupby(['year','month','date_block_num'])[weekdays].agg('sum').reset_index()\n",
        "monthly_data['month_length'] = monthly_data[weekdays].sum(axis=1).astype('int8')\n",
        "\n",
        "# count number of weekend (saturdays and sundays) in each month\n",
        "monthly_data['weekend_days'] = dates.groupby(['date_block_num'])[['is_weekend']].agg('sum').astype('int8')\n",
        "\n",
        "# encode year (0: 2013, 1: 2014, 2: 2015)\n",
        "monthly_data['year'] = monthly_data['year'] - 2013\n",
        "\n",
        "# merge sales and test with monthly data\n",
        "sales = sales.merge(monthly_data[['year','month','date_block_num','month_length','weekend_days']], on='date_block_num', how='left')\n",
        "sales = downcast(sales)\n",
        "\n",
        "test['date_block_num'] = 34\n",
        "test = test.merge(monthly_data[['year','month','date_block_num','month_length','weekend_days']], on='date_block_num', how='left')\n",
        "test = downcast(test)"
      ],
      "id": "HP1EZ86fythG",
      "execution_count": null,
      "outputs": []
    },
    {
      "cell_type": "code",
      "metadata": {
        "colab": {
          "base_uri": "https://localhost:8080/"
        },
        "id": "DHSrhDq7dBBT",
        "outputId": "31b31491-f06b-4be3-cbbf-52553fb6cbfa"
      },
      "source": [
        "del train, dates, monthly_data, weekdays, sdate, edate\n",
        "gc.collect()"
      ],
      "id": "DHSrhDq7dBBT",
      "execution_count": null,
      "outputs": [
        {
          "output_type": "execute_result",
          "data": {
            "text/plain": [
              "50"
            ]
          },
          "metadata": {
            "tags": []
          },
          "execution_count": 41
        }
      ]
    },
    {
      "cell_type": "code",
      "metadata": {
        "colab": {
          "base_uri": "https://localhost:8080/",
          "height": 224
        },
        "id": "vD159Pb6ZCqC",
        "outputId": "63bfc2e9-4e5a-46b4-ecfd-f4d052117495"
      },
      "source": [
        "sales.head(5)"
      ],
      "id": "vD159Pb6ZCqC",
      "execution_count": null,
      "outputs": [
        {
          "output_type": "execute_result",
          "data": {
            "text/html": [
              "<div>\n",
              "<style scoped>\n",
              "    .dataframe tbody tr th:only-of-type {\n",
              "        vertical-align: middle;\n",
              "    }\n",
              "\n",
              "    .dataframe tbody tr th {\n",
              "        vertical-align: top;\n",
              "    }\n",
              "\n",
              "    .dataframe thead th {\n",
              "        text-align: right;\n",
              "    }\n",
              "</style>\n",
              "<table border=\"1\" class=\"dataframe\">\n",
              "  <thead>\n",
              "    <tr style=\"text-align: right;\">\n",
              "      <th></th>\n",
              "      <th>shop_id</th>\n",
              "      <th>item_id</th>\n",
              "      <th>date_block_num</th>\n",
              "      <th>item_cnt_month</th>\n",
              "      <th>item_avg_price</th>\n",
              "      <th>item_name</th>\n",
              "      <th>item_category_id</th>\n",
              "      <th>item_name_2</th>\n",
              "      <th>item_name_3</th>\n",
              "      <th>first_sale_block</th>\n",
              "      <th>section</th>\n",
              "      <th>cat_name</th>\n",
              "      <th>cat_sub_name</th>\n",
              "      <th>cat_sec_sub_name</th>\n",
              "      <th>shop_name</th>\n",
              "      <th>shop_city</th>\n",
              "      <th>shop_type</th>\n",
              "      <th>shop_first_month</th>\n",
              "      <th>shop_last_month</th>\n",
              "      <th>year</th>\n",
              "      <th>month</th>\n",
              "      <th>month_length</th>\n",
              "      <th>weekend_days</th>\n",
              "    </tr>\n",
              "  </thead>\n",
              "  <tbody>\n",
              "    <tr>\n",
              "      <th>0</th>\n",
              "      <td>2</td>\n",
              "      <td>19</td>\n",
              "      <td>0</td>\n",
              "      <td>0</td>\n",
              "      <td>0.0</td>\n",
              "      <td>18</td>\n",
              "      <td>40</td>\n",
              "      <td>1</td>\n",
              "      <td>0</td>\n",
              "      <td>0</td>\n",
              "      <td>10</td>\n",
              "      <td>5</td>\n",
              "      <td>3</td>\n",
              "      <td>7</td>\n",
              "      <td>0</td>\n",
              "      <td>1</td>\n",
              "      <td>6</td>\n",
              "      <td>0</td>\n",
              "      <td>33</td>\n",
              "      <td>0</td>\n",
              "      <td>1</td>\n",
              "      <td>31</td>\n",
              "      <td>8</td>\n",
              "    </tr>\n",
              "    <tr>\n",
              "      <th>1</th>\n",
              "      <td>2</td>\n",
              "      <td>27</td>\n",
              "      <td>0</td>\n",
              "      <td>1</td>\n",
              "      <td>2499.0</td>\n",
              "      <td>26</td>\n",
              "      <td>19</td>\n",
              "      <td>54</td>\n",
              "      <td>0</td>\n",
              "      <td>0</td>\n",
              "      <td>8</td>\n",
              "      <td>13</td>\n",
              "      <td>4</td>\n",
              "      <td>4</td>\n",
              "      <td>0</td>\n",
              "      <td>1</td>\n",
              "      <td>6</td>\n",
              "      <td>0</td>\n",
              "      <td>33</td>\n",
              "      <td>0</td>\n",
              "      <td>1</td>\n",
              "      <td>31</td>\n",
              "      <td>8</td>\n",
              "    </tr>\n",
              "    <tr>\n",
              "      <th>2</th>\n",
              "      <td>2</td>\n",
              "      <td>28</td>\n",
              "      <td>0</td>\n",
              "      <td>0</td>\n",
              "      <td>0.0</td>\n",
              "      <td>26</td>\n",
              "      <td>30</td>\n",
              "      <td>70</td>\n",
              "      <td>0</td>\n",
              "      <td>0</td>\n",
              "      <td>8</td>\n",
              "      <td>11</td>\n",
              "      <td>16</td>\n",
              "      <td>7</td>\n",
              "      <td>0</td>\n",
              "      <td>1</td>\n",
              "      <td>6</td>\n",
              "      <td>0</td>\n",
              "      <td>33</td>\n",
              "      <td>0</td>\n",
              "      <td>1</td>\n",
              "      <td>31</td>\n",
              "      <td>8</td>\n",
              "    </tr>\n",
              "    <tr>\n",
              "      <th>3</th>\n",
              "      <td>2</td>\n",
              "      <td>29</td>\n",
              "      <td>0</td>\n",
              "      <td>0</td>\n",
              "      <td>0.0</td>\n",
              "      <td>26</td>\n",
              "      <td>23</td>\n",
              "      <td>84</td>\n",
              "      <td>0</td>\n",
              "      <td>0</td>\n",
              "      <td>8</td>\n",
              "      <td>19</td>\n",
              "      <td>6</td>\n",
              "      <td>0</td>\n",
              "      <td>0</td>\n",
              "      <td>1</td>\n",
              "      <td>6</td>\n",
              "      <td>0</td>\n",
              "      <td>33</td>\n",
              "      <td>0</td>\n",
              "      <td>1</td>\n",
              "      <td>31</td>\n",
              "      <td>8</td>\n",
              "    </tr>\n",
              "    <tr>\n",
              "      <th>4</th>\n",
              "      <td>2</td>\n",
              "      <td>32</td>\n",
              "      <td>0</td>\n",
              "      <td>0</td>\n",
              "      <td>0.0</td>\n",
              "      <td>28</td>\n",
              "      <td>40</td>\n",
              "      <td>1</td>\n",
              "      <td>0</td>\n",
              "      <td>0</td>\n",
              "      <td>10</td>\n",
              "      <td>5</td>\n",
              "      <td>3</td>\n",
              "      <td>7</td>\n",
              "      <td>0</td>\n",
              "      <td>1</td>\n",
              "      <td>6</td>\n",
              "      <td>0</td>\n",
              "      <td>33</td>\n",
              "      <td>0</td>\n",
              "      <td>1</td>\n",
              "      <td>31</td>\n",
              "      <td>8</td>\n",
              "    </tr>\n",
              "  </tbody>\n",
              "</table>\n",
              "</div>"
            ],
            "text/plain": [
              "   shop_id  item_id  date_block_num  ...  month  month_length  weekend_days\n",
              "0        2       19               0  ...      1            31             8\n",
              "1        2       27               0  ...      1            31             8\n",
              "2        2       28               0  ...      1            31             8\n",
              "3        2       29               0  ...      1            31             8\n",
              "4        2       32               0  ...      1            31             8\n",
              "\n",
              "[5 rows x 23 columns]"
            ]
          },
          "metadata": {
            "tags": []
          },
          "execution_count": 42
        }
      ]
    },
    {
      "cell_type": "markdown",
      "metadata": {
        "id": "6d8yYuSgITAM"
      },
      "source": [
        "## Mean encodings"
      ],
      "id": "6d8yYuSgITAM"
    },
    {
      "cell_type": "markdown",
      "metadata": {
        "id": "wB-l-ysQklBR"
      },
      "source": [
        "We will now compute mean encodings for categorical columns. If we want, we can use different approaches in order to cope with overfitting, such as:\n",
        "- K-Fold\n",
        "- Leave-One-Out\n",
        "- Smoothing\n",
        "- Expanding mean\n",
        "\n",
        "We can compute mean encodings with all the methods above, and, for each method, we select the encoding with the largest value of the Pearson correlation coefficient with respect to the true target values."
      ],
      "id": "wB-l-ysQklBR"
    },
    {
      "cell_type": "code",
      "metadata": {
        "id": "y1XGl9o0Ibgq"
      },
      "source": [
        "def mean_encoding(sales, groupby=['date_block_num', 'item_id'], feature_enc_name=None, clip=False):\n",
        "  \"\"\"Compute mean eancodings grouping with respect to `groupby` parameter.\n",
        "  No regularization is applied.\"\"\"\n",
        "  if groupby == []:\n",
        "    groupby = ['date_block_num', 'item_id']\n",
        "  means = sales.groupby(groupby)['item_cnt_month'].mean().reset_index().rename(columns={'item_cnt_month': feature_enc_name})\n",
        "  if clip:\n",
        "    means[feature_enc_name].clip(0, 20, inplace=True)\n",
        "  sales = sales.merge(means, on=groupby, how='left')\n",
        "  sales.fillna(sales['item_cnt_month'].mean(), inplace=True)\n",
        "  return sales\n",
        "\n",
        "MEAN_REGULARIZATION = False\n",
        "\n",
        "if MEAN_REGULARIZATION:\n",
        "  target = 'item_cnt_month'\n",
        "  global_mean = sales[target].mean()\n",
        "  y_sales = sales[target].values\n",
        "  #mean_encoded_cols = ['shop_id', 'item_id', 'item_category_id', 'section', 'name', 'shop_city', 'shop_type']\n",
        "  mean_encoded_cols = ['shop_id', 'item_id', 'item_category_id']\n",
        "\n",
        "  for col in mean_encoded_cols:\n",
        "      col_tr = sales[[col] + [target]].copy()\n",
        "      corrcoef = pd.DataFrame(columns=['Cor']) # will contain correlation coefficients of each encoding scheme for the current column\n",
        "\n",
        "      # Mean encodings - KFold\n",
        "      col_tr[col+'_mean_Kfold'] = global_mean\n",
        "      kf = KFold(n_splits=5, shuffle=False)\n",
        "        \n",
        "      # for tr_idx, val_idx in kf.split(col_tr):\n",
        "      #     X_tr, X_val = col_tr.iloc[tr_idx].copy(), col_tr.iloc[val_idx].copy()\n",
        "      #     X_val[col+'_mean_Kfold'] = X_val[col].map(X_tr.groupby(col)[target].mean())\n",
        "      #     col_tr.iloc[val_idx] = X_val\n",
        "      \n",
        "      # one-liner to avoid copy()\n",
        "      for tr_idx, val_idx in kf.split(col_tr):\n",
        "          col_tr.loc[val_idx, col+'_mean_Kfold'] = col_tr.loc[val_idx, col].map(col_tr.iloc[tr_idx].groupby(col)[target].mean())\n",
        "      \n",
        "      col_tr[col+'_mean_Kfold'].fillna(global_mean, inplace=True)\n",
        "      corrcoef.loc[col+'_mean_Kfold'] = np.corrcoef(y_sales, col_tr[col+'_mean_Kfold'])[0][1] # np.corrcoef returns a 2⨉2 matrix \n",
        "      \n",
        "      # Mean encodings - Leave One Out\n",
        "      col_tr[col+'_cnt_month_sum'] = col_tr[col].map(col_tr.groupby(col)[target].sum())\n",
        "      col_tr[col+'_cnt_month_count'] = col_tr[col].map(col_tr.groupby(col)[target].count())\n",
        "      col_tr[col+'_mean_LOO'] = (col_tr[col+'_cnt_month_sum'] - col_tr[target]) / (col_tr[col+'_cnt_month_count'] - 1)\n",
        "      col_tr[col+'_mean_LOO'].fillna(global_mean, inplace=True)\n",
        "      corrcoef.loc[col+'_mean_LOO'] = np.corrcoef(y_sales, col_tr[col+'_mean_LOO'])[0][1]\n",
        "\n",
        "      # Mean encodings - Smoothing\n",
        "      alpha = 100\n",
        "      col_tr[col+'_mean'] = col_tr[col].map(col_tr.groupby(col)[target].mean())\n",
        "      col_tr[col+'_mean_smooth'] = (col_tr[col+'_mean']*col_tr[col+'_cnt_month_count'] + global_mean*alpha) / (col_tr[col+'_cnt_month_count'] + alpha)\n",
        "      col_tr[col+'_mean_smooth'].fillna(global_mean, inplace=True)\n",
        "      corrcoef.loc[col+'_mean_smooth'] = np.corrcoef(y_sales, col_tr[col+'_mean_smooth'])[0][1]\n",
        "\n",
        "      # Mean encodings - Expanding Mean\n",
        "      cumsum = col_tr.groupby(col)[target].cumsum() - col_tr[target]\n",
        "      sumcnt = col_tr.groupby(col).cumcount()\n",
        "      col_tr[col+'_mean_expanding'] = cumsum / sumcnt\n",
        "      col_tr[col+'_mean_expanding'].fillna(global_mean, inplace=True)\n",
        "      corrcoef.loc[col+'_mean_expanding'] = np.corrcoef(y_sales, col_tr[col+'_mean_expanding'])[0][1]\n",
        "\n",
        "      # append mean encoded column with highest correlation to the training set\n",
        "      sales = pd.concat([sales, col_tr[corrcoef['Cor'].idxmax()]], axis=1)\n",
        "\n",
        "      print(corrcoef.sort_values('Cor', ascending=False))\n",
        "  del col_tr\n",
        "else:\n",
        "  sales = mean_encoding(sales, ['date_block_num', 'item_id'], 'item_mean', clip=True)\n",
        "  sales = mean_encoding(sales, ['date_block_num', 'shop_id', 'item_name'], 'item_name_mean', clip=True)\n",
        "  sales = mean_encoding(sales, ['date_block_num', 'item_id', 'shop_city'], 'item_city_mean', clip=True)\n",
        "  sales = mean_encoding(sales, ['date_block_num', 'shop_id', 'item_category_id'], 'shop_category_mean', clip=True)"
      ],
      "id": "y1XGl9o0Ibgq",
      "execution_count": null,
      "outputs": []
    },
    {
      "cell_type": "code",
      "metadata": {
        "colab": {
          "base_uri": "https://localhost:8080/"
        },
        "id": "cajv2AvbWKiX",
        "outputId": "9b687480-bc2b-4970-8c5f-b7dfeffe6dfb"
      },
      "source": [
        "# merge all data\n",
        "test['date_block_num'] = 34\n",
        "test['item_cnt_month'] = 0\n",
        "sales = pd.concat([sales, test], axis=0)\n",
        "sales = sales.drop(columns=['ID'])\n",
        "sales['date_block_num'] = sales['date_block_num'].astype('int8')\n",
        "sales = downcast(sales)\n",
        "\n",
        "# free memory\n",
        "gc.collect()"
      ],
      "id": "cajv2AvbWKiX",
      "execution_count": null,
      "outputs": [
        {
          "output_type": "execute_result",
          "data": {
            "text/plain": [
              "0"
            ]
          },
          "metadata": {
            "tags": []
          },
          "execution_count": 45
        }
      ]
    },
    {
      "cell_type": "markdown",
      "metadata": {
        "id": "lEnlnbVCBWFi"
      },
      "source": [
        "Next, we \n",
        "\n",
        "1. Add a new feature called `new`, which indicates if a certain item has been released on that month.\n",
        "2. Compute the number of months that are passed since the release of the product (i.e. since `first_sale_block`)"
      ],
      "id": "lEnlnbVCBWFi"
    },
    {
      "cell_type": "code",
      "metadata": {
        "id": "NeGzIiIRBVyi"
      },
      "source": [
        "# it is a new product?\n",
        "sales['new'] = sales['first_sale_block'] == sales['date_block_num']\n",
        "\n",
        "# age of product (in months)\n",
        "sales['first_sale_block'] = sales['date_block_num'] - sales['first_sale_block']\n",
        "sales.rename(columns={'first_sale_block':'months_since_release'}, inplace=True)\n",
        "\n",
        "# shop opening block\n",
        "sfb = sales.groupby('shop_id')['date_block_num'].min()\n",
        "sfb.name = 'shop_first_block'\n",
        "sales = sales.merge(sfb, how='left', on='shop_id')\n",
        "sales['shop_first_block'] = sales['date_block_num'] - sales['shop_first_block']\n",
        "sales.rename(columns={'shop_first_block':'months_since_opening'}, inplace=True)"
      ],
      "id": "NeGzIiIRBVyi",
      "execution_count": null,
      "outputs": []
    },
    {
      "cell_type": "markdown",
      "metadata": {
        "id": "Q5zFv-RH_pRD"
      },
      "source": [
        "By combining `item_name`, `months_since_release` we can, hopefully, catch past performance of similar items such as earlier titles in a series, particularly in their debut month. In the next code cell, for every `date_block_num` we group earlier sales according to the `item_name`, the age of the item (`months_since_release`) and the `item_category_id`, and we compute their average `item_cnt_month`."
      ],
      "id": "Q5zFv-RH_pRD"
    },
    {
      "cell_type": "code",
      "metadata": {
        "id": "Y5KL2crQ_nuB"
      },
      "source": [
        "temp = []\n",
        "for i in range(1,35):\n",
        "  block = (\n",
        "    sales.query(f'date_block_num < {i}')\n",
        "        .groupby(['item_name', 'months_since_release', 'item_category_id'])\n",
        "        .agg({'item_cnt_month':'mean'})\n",
        "        .reset_index()\n",
        "        .rename(columns={'item_cnt_month':'item_name_age_cat_mean'})\n",
        "  )\n",
        "  block = block[block['item_name_age_cat_mean'] > 0]\n",
        "  block['date_block_num'] = i\n",
        "  temp.append(block)\n",
        "temp = pd.concat(temp)\n",
        "sales = pd.merge(sales, temp, on=['date_block_num', 'item_name', 'months_since_release', 'item_category_id'], how='left')"
      ],
      "id": "Y5KL2crQ_nuB",
      "execution_count": null,
      "outputs": []
    },
    {
      "cell_type": "markdown",
      "metadata": {
        "id": "FauXw6I_oMME"
      },
      "source": [
        "## Lag features"
      ],
      "id": "FauXw6I_oMME"
    },
    {
      "cell_type": "markdown",
      "metadata": {
        "id": "CUZtqqRyoeRY"
      },
      "source": [
        "We are now going to add lagged features for lags from 1 to 12 months. Those feature could help the model to find interactions between the present and the past (e.g. how much current sales are influenced by last month sales)."
      ],
      "id": "CUZtqqRyoeRY"
    },
    {
      "cell_type": "code",
      "metadata": {
        "id": "gDRjQ1Pi6Fdg"
      },
      "source": [
        "def lag_features(df, features=['item_cnt_month'], lags=[1], period_col=['date_block_num'], new_name=None, clip=False, fillna=True, drop_col=False):\n",
        "  \"\"\"Returns the dataframe provided as input\n",
        "  expanded with the the lags of the features specified.\"\"\"\n",
        "  for lag in lags:\n",
        "    grouping_cols = ['date_block_num', 'shop_id', 'item_id']\n",
        "    df_shifted = df[grouping_cols + features].copy()\n",
        "\n",
        "    if new_name:\n",
        "      new_names = lambda x: f'{new_name}_lag_{lag}' if x in features else x\n",
        "      new_cols = [f'{new_name}_lag_{lag}' for x in features]\n",
        "    else:\n",
        "      new_names = lambda x: f'{x}_lag_{lag}' if x in features else x\n",
        "      new_cols = [f'{x}_lag_{lag}' for x in features]\n",
        "\n",
        "    df_shifted.loc[:, period_col] = df_shifted[period_col] + lag\n",
        "    df_shifted.rename(columns = new_names, inplace=True)\n",
        "\n",
        "    cols_to_merge = grouping_cols + new_cols\n",
        "    df = df.merge(df_shifted[cols_to_merge], on=grouping_cols, how='left')\n",
        "\n",
        "    if fillna:\n",
        "      df.loc[:, new_cols] = df[new_cols].fillna(0)\n",
        "\n",
        "    if clip:\n",
        "      df.loc[:, new_cols] = df[new_cols].clip(0, 20)\n",
        "    \n",
        "  if drop_col:\n",
        "    df.drop(columns=features, inplace=True)\n",
        "  df = downcast(df)\n",
        "  return df"
      ],
      "id": "gDRjQ1Pi6Fdg",
      "execution_count": null,
      "outputs": []
    },
    {
      "cell_type": "code",
      "metadata": {
        "id": "ld3kegsF0pnN"
      },
      "source": [
        "# clip sales\n",
        "sales['item_cnt_month'].clip(0, 20, inplace=True)\n",
        "\n",
        "lags = [1,2,3]\n",
        "\n",
        "# delay monthly sales for each (shop, item) pair\n",
        "sales = lag_features(sales, lags=lags)\n",
        "\n",
        "# delay monthly average prices for each (shop, item) pair\n",
        "sales = lag_features(sales, features=['item_avg_price'], lags=lags, new_name='item_shop_avg_price', drop_col=True)\n",
        "\n",
        "# delay mean encoded features\n",
        "sales = lag_features(sales, features=['item_mean'], lags=lags, drop_col=True)\n",
        "sales = lag_features(sales, features=['item_name_mean'], lags=lags, drop_col=True)\n",
        "sales = lag_features(sales, features=['item_city_mean'], lags=lags, drop_col=True)\n",
        "sales = lag_features(sales, features=['shop_category_mean'], lags=lags, drop_col=True)\n",
        "\n",
        "sales = downcast(sales)\n",
        "\n",
        "# drop sales for which we don't have lags available\n",
        "sales.drop(sales[sales['date_block_num'] < max(lags)].index, inplace=True)"
      ],
      "id": "ld3kegsF0pnN",
      "execution_count": null,
      "outputs": []
    },
    {
      "cell_type": "markdown",
      "metadata": {
        "id": "DUc4tMJX2zTc"
      },
      "source": [
        "Now that we have lagged monthly sales, we can add one more feature called `qmean`, which represents the average sales for a shop-item pair in the last quarter (previous three months)."
      ],
      "id": "DUc4tMJX2zTc"
    },
    {
      "cell_type": "code",
      "metadata": {
        "id": "1C_8FI6M3J8J"
      },
      "source": [
        "sales['qmean'] = sales[['item_cnt_month_lag_1', 'item_cnt_month_lag_2', 'item_cnt_month_lag_3']].mean(axis=1)"
      ],
      "id": "1C_8FI6M3J8J",
      "execution_count": null,
      "outputs": []
    },
    {
      "cell_type": "markdown",
      "metadata": {
        "id": "JgmDnvOu3-IS"
      },
      "source": [
        "We can also take into account the ratio between sales of two consecutive months (in order to understand if sales are growing or decreasing during time). We will call `ratio_{x}` the ratio between sales from `x` months ago and sales from `x-1` months ago. "
      ],
      "id": "JgmDnvOu3-IS"
    },
    {
      "cell_type": "code",
      "metadata": {
        "id": "ibFyTi3P39kZ"
      },
      "source": [
        "sales['ratio_1'] = sales['item_cnt_month_lag_1'] / sales['item_cnt_month_lag_2']\n",
        "sales.loc[:, 'ratio_1'] = sales['ratio_1'].replace([np.inf, -np.inf], np.nan).fillna(0.)\n",
        "sales['ratio_2'] = sales['item_cnt_month_lag_2'] / sales['item_cnt_month_lag_3']\n",
        "sales.loc[:,'ratio_2'] = sales['ratio_2'].replace([np.inf, -np.inf], np.nan).fillna(0.)"
      ],
      "id": "ibFyTi3P39kZ",
      "execution_count": null,
      "outputs": []
    },
    {
      "cell_type": "code",
      "metadata": {
        "colab": {
          "base_uri": "https://localhost:8080/"
        },
        "id": "jMdSCaqA-ddJ",
        "outputId": "620d1b70-4aab-41f6-df0b-a94cf15f0a1a"
      },
      "source": [
        "sales.info()"
      ],
      "id": "jMdSCaqA-ddJ",
      "execution_count": null,
      "outputs": [
        {
          "output_type": "stream",
          "text": [
            "<class 'pandas.core.frame.DataFrame'>\n",
            "Int64Index: 8033580 entries, 827691 to 8861270\n",
            "Data columns (total 46 columns):\n",
            " #   Column                     Dtype  \n",
            "---  ------                     -----  \n",
            " 0   shop_id                    int16  \n",
            " 1   item_id                    int16  \n",
            " 2   date_block_num             int8   \n",
            " 3   item_cnt_month             int16  \n",
            " 4   item_name                  int16  \n",
            " 5   item_category_id           int16  \n",
            " 6   item_name_2                int16  \n",
            " 7   item_name_3                int16  \n",
            " 8   months_since_release       int8   \n",
            " 9   section                    int16  \n",
            " 10  cat_name                   int16  \n",
            " 11  cat_sub_name               int16  \n",
            " 12  cat_sec_sub_name           int16  \n",
            " 13  shop_name                  int16  \n",
            " 14  shop_city                  int16  \n",
            " 15  shop_type                  int16  \n",
            " 16  shop_first_month           int16  \n",
            " 17  shop_last_month            int16  \n",
            " 18  year                       int16  \n",
            " 19  month                      int16  \n",
            " 20  month_length               int8   \n",
            " 21  weekend_days               int8   \n",
            " 22  new                        bool   \n",
            " 23  months_since_opening       int8   \n",
            " 24  item_name_age_cat_mean     float32\n",
            " 25  item_cnt_month_lag_1       float32\n",
            " 26  item_cnt_month_lag_2       float32\n",
            " 27  item_cnt_month_lag_3       float32\n",
            " 28  item_shop_avg_price_lag_1  float32\n",
            " 29  item_shop_avg_price_lag_2  float32\n",
            " 30  item_shop_avg_price_lag_3  float32\n",
            " 31  item_mean_lag_1            float32\n",
            " 32  item_mean_lag_2            float32\n",
            " 33  item_mean_lag_3            float32\n",
            " 34  item_name_mean_lag_1       float32\n",
            " 35  item_name_mean_lag_2       float32\n",
            " 36  item_name_mean_lag_3       float32\n",
            " 37  item_city_mean_lag_1       float32\n",
            " 38  item_city_mean_lag_2       float32\n",
            " 39  item_city_mean_lag_3       float32\n",
            " 40  shop_category_mean_lag_1   float32\n",
            " 41  shop_category_mean_lag_2   float32\n",
            " 42  shop_category_mean_lag_3   float32\n",
            " 43  qmean                      float32\n",
            " 44  ratio_1                    float32\n",
            " 45  ratio_2                    float32\n",
            "dtypes: bool(1), float32(22), int16(18), int8(5)\n",
            "memory usage: 1.0 GB\n"
          ],
          "name": "stdout"
        }
      ]
    },
    {
      "cell_type": "code",
      "metadata": {
        "colab": {
          "base_uri": "https://localhost:8080/",
          "height": 224
        },
        "id": "KKXuhHm2ds1o",
        "outputId": "4031cd13-1898-40f2-e87e-4e3c63923c6d"
      },
      "source": [
        "sales.tail()"
      ],
      "id": "KKXuhHm2ds1o",
      "execution_count": null,
      "outputs": [
        {
          "output_type": "execute_result",
          "data": {
            "text/html": [
              "<div>\n",
              "<style scoped>\n",
              "    .dataframe tbody tr th:only-of-type {\n",
              "        vertical-align: middle;\n",
              "    }\n",
              "\n",
              "    .dataframe tbody tr th {\n",
              "        vertical-align: top;\n",
              "    }\n",
              "\n",
              "    .dataframe thead th {\n",
              "        text-align: right;\n",
              "    }\n",
              "</style>\n",
              "<table border=\"1\" class=\"dataframe\">\n",
              "  <thead>\n",
              "    <tr style=\"text-align: right;\">\n",
              "      <th></th>\n",
              "      <th>shop_id</th>\n",
              "      <th>item_id</th>\n",
              "      <th>date_block_num</th>\n",
              "      <th>item_cnt_month</th>\n",
              "      <th>item_name</th>\n",
              "      <th>item_category_id</th>\n",
              "      <th>item_name_2</th>\n",
              "      <th>item_name_3</th>\n",
              "      <th>months_since_release</th>\n",
              "      <th>section</th>\n",
              "      <th>cat_name</th>\n",
              "      <th>cat_sub_name</th>\n",
              "      <th>cat_sec_sub_name</th>\n",
              "      <th>shop_name</th>\n",
              "      <th>shop_city</th>\n",
              "      <th>shop_type</th>\n",
              "      <th>shop_first_month</th>\n",
              "      <th>shop_last_month</th>\n",
              "      <th>year</th>\n",
              "      <th>month</th>\n",
              "      <th>month_length</th>\n",
              "      <th>weekend_days</th>\n",
              "      <th>new</th>\n",
              "      <th>months_since_opening</th>\n",
              "      <th>item_name_age_cat_mean</th>\n",
              "      <th>item_cnt_month_lag_1</th>\n",
              "      <th>item_cnt_month_lag_2</th>\n",
              "      <th>item_cnt_month_lag_3</th>\n",
              "      <th>item_shop_avg_price_lag_1</th>\n",
              "      <th>item_shop_avg_price_lag_2</th>\n",
              "      <th>item_shop_avg_price_lag_3</th>\n",
              "      <th>item_mean_lag_1</th>\n",
              "      <th>item_mean_lag_2</th>\n",
              "      <th>item_mean_lag_3</th>\n",
              "      <th>item_name_mean_lag_1</th>\n",
              "      <th>item_name_mean_lag_2</th>\n",
              "      <th>item_name_mean_lag_3</th>\n",
              "      <th>item_city_mean_lag_1</th>\n",
              "      <th>item_city_mean_lag_2</th>\n",
              "      <th>item_city_mean_lag_3</th>\n",
              "      <th>shop_category_mean_lag_1</th>\n",
              "      <th>shop_category_mean_lag_2</th>\n",
              "      <th>shop_category_mean_lag_3</th>\n",
              "      <th>qmean</th>\n",
              "      <th>ratio_1</th>\n",
              "      <th>ratio_2</th>\n",
              "    </tr>\n",
              "  </thead>\n",
              "  <tbody>\n",
              "    <tr>\n",
              "      <th>8861266</th>\n",
              "      <td>45</td>\n",
              "      <td>18454</td>\n",
              "      <td>34</td>\n",
              "      <td>0</td>\n",
              "      <td>5172</td>\n",
              "      <td>55</td>\n",
              "      <td>1</td>\n",
              "      <td>0</td>\n",
              "      <td>11</td>\n",
              "      <td>11</td>\n",
              "      <td>3</td>\n",
              "      <td>0</td>\n",
              "      <td>14</td>\n",
              "      <td>39</td>\n",
              "      <td>19</td>\n",
              "      <td>6</td>\n",
              "      <td>0</td>\n",
              "      <td>33</td>\n",
              "      <td>2</td>\n",
              "      <td>11</td>\n",
              "      <td>30</td>\n",
              "      <td>9</td>\n",
              "      <td>False</td>\n",
              "      <td>34</td>\n",
              "      <td>0.178082</td>\n",
              "      <td>1.0</td>\n",
              "      <td>0.0</td>\n",
              "      <td>0.0</td>\n",
              "      <td>99.0</td>\n",
              "      <td>0.0</td>\n",
              "      <td>0.0</td>\n",
              "      <td>0.047619</td>\n",
              "      <td>0.024390</td>\n",
              "      <td>0.073171</td>\n",
              "      <td>0.222222</td>\n",
              "      <td>0.090909</td>\n",
              "      <td>0.1</td>\n",
              "      <td>0.5</td>\n",
              "      <td>0.0</td>\n",
              "      <td>0.0</td>\n",
              "      <td>0.126866</td>\n",
              "      <td>0.074534</td>\n",
              "      <td>0.106061</td>\n",
              "      <td>0.333333</td>\n",
              "      <td>0.0</td>\n",
              "      <td>0.0</td>\n",
              "    </tr>\n",
              "    <tr>\n",
              "      <th>8861267</th>\n",
              "      <td>45</td>\n",
              "      <td>16188</td>\n",
              "      <td>34</td>\n",
              "      <td>0</td>\n",
              "      <td>2169</td>\n",
              "      <td>64</td>\n",
              "      <td>1</td>\n",
              "      <td>0</td>\n",
              "      <td>2</td>\n",
              "      <td>9</td>\n",
              "      <td>43</td>\n",
              "      <td>3</td>\n",
              "      <td>7</td>\n",
              "      <td>39</td>\n",
              "      <td>19</td>\n",
              "      <td>6</td>\n",
              "      <td>0</td>\n",
              "      <td>33</td>\n",
              "      <td>2</td>\n",
              "      <td>11</td>\n",
              "      <td>30</td>\n",
              "      <td>9</td>\n",
              "      <td>False</td>\n",
              "      <td>34</td>\n",
              "      <td>0.364840</td>\n",
              "      <td>0.0</td>\n",
              "      <td>0.0</td>\n",
              "      <td>0.0</td>\n",
              "      <td>0.0</td>\n",
              "      <td>0.0</td>\n",
              "      <td>0.0</td>\n",
              "      <td>0.023810</td>\n",
              "      <td>0.073171</td>\n",
              "      <td>0.000000</td>\n",
              "      <td>0.203593</td>\n",
              "      <td>0.122449</td>\n",
              "      <td>0.0</td>\n",
              "      <td>0.0</td>\n",
              "      <td>0.0</td>\n",
              "      <td>0.0</td>\n",
              "      <td>0.094488</td>\n",
              "      <td>0.117117</td>\n",
              "      <td>0.000000</td>\n",
              "      <td>0.000000</td>\n",
              "      <td>0.0</td>\n",
              "      <td>0.0</td>\n",
              "    </tr>\n",
              "    <tr>\n",
              "      <th>8861268</th>\n",
              "      <td>45</td>\n",
              "      <td>15757</td>\n",
              "      <td>34</td>\n",
              "      <td>0</td>\n",
              "      <td>3860</td>\n",
              "      <td>55</td>\n",
              "      <td>1</td>\n",
              "      <td>0</td>\n",
              "      <td>34</td>\n",
              "      <td>11</td>\n",
              "      <td>3</td>\n",
              "      <td>0</td>\n",
              "      <td>14</td>\n",
              "      <td>39</td>\n",
              "      <td>19</td>\n",
              "      <td>6</td>\n",
              "      <td>0</td>\n",
              "      <td>33</td>\n",
              "      <td>2</td>\n",
              "      <td>11</td>\n",
              "      <td>30</td>\n",
              "      <td>9</td>\n",
              "      <td>False</td>\n",
              "      <td>34</td>\n",
              "      <td>NaN</td>\n",
              "      <td>0.0</td>\n",
              "      <td>0.0</td>\n",
              "      <td>0.0</td>\n",
              "      <td>0.0</td>\n",
              "      <td>0.0</td>\n",
              "      <td>0.0</td>\n",
              "      <td>0.119048</td>\n",
              "      <td>0.073171</td>\n",
              "      <td>0.097561</td>\n",
              "      <td>0.000000</td>\n",
              "      <td>0.000000</td>\n",
              "      <td>0.0</td>\n",
              "      <td>0.0</td>\n",
              "      <td>0.5</td>\n",
              "      <td>0.0</td>\n",
              "      <td>0.126866</td>\n",
              "      <td>0.074534</td>\n",
              "      <td>0.106061</td>\n",
              "      <td>0.000000</td>\n",
              "      <td>0.0</td>\n",
              "      <td>0.0</td>\n",
              "    </tr>\n",
              "    <tr>\n",
              "      <th>8861269</th>\n",
              "      <td>45</td>\n",
              "      <td>19648</td>\n",
              "      <td>34</td>\n",
              "      <td>0</td>\n",
              "      <td>5663</td>\n",
              "      <td>40</td>\n",
              "      <td>1</td>\n",
              "      <td>948</td>\n",
              "      <td>11</td>\n",
              "      <td>10</td>\n",
              "      <td>5</td>\n",
              "      <td>3</td>\n",
              "      <td>7</td>\n",
              "      <td>39</td>\n",
              "      <td>19</td>\n",
              "      <td>6</td>\n",
              "      <td>0</td>\n",
              "      <td>33</td>\n",
              "      <td>2</td>\n",
              "      <td>11</td>\n",
              "      <td>30</td>\n",
              "      <td>9</td>\n",
              "      <td>False</td>\n",
              "      <td>34</td>\n",
              "      <td>NaN</td>\n",
              "      <td>0.0</td>\n",
              "      <td>0.0</td>\n",
              "      <td>0.0</td>\n",
              "      <td>0.0</td>\n",
              "      <td>0.0</td>\n",
              "      <td>0.0</td>\n",
              "      <td>0.047619</td>\n",
              "      <td>0.073171</td>\n",
              "      <td>0.146341</td>\n",
              "      <td>0.000000</td>\n",
              "      <td>0.000000</td>\n",
              "      <td>0.0</td>\n",
              "      <td>0.0</td>\n",
              "      <td>0.0</td>\n",
              "      <td>0.0</td>\n",
              "      <td>0.083756</td>\n",
              "      <td>0.074169</td>\n",
              "      <td>0.112455</td>\n",
              "      <td>0.000000</td>\n",
              "      <td>0.0</td>\n",
              "      <td>0.0</td>\n",
              "    </tr>\n",
              "    <tr>\n",
              "      <th>8861270</th>\n",
              "      <td>45</td>\n",
              "      <td>969</td>\n",
              "      <td>34</td>\n",
              "      <td>0</td>\n",
              "      <td>90</td>\n",
              "      <td>37</td>\n",
              "      <td>1</td>\n",
              "      <td>370</td>\n",
              "      <td>17</td>\n",
              "      <td>10</td>\n",
              "      <td>2</td>\n",
              "      <td>3</td>\n",
              "      <td>7</td>\n",
              "      <td>39</td>\n",
              "      <td>19</td>\n",
              "      <td>6</td>\n",
              "      <td>0</td>\n",
              "      <td>33</td>\n",
              "      <td>2</td>\n",
              "      <td>11</td>\n",
              "      <td>30</td>\n",
              "      <td>9</td>\n",
              "      <td>False</td>\n",
              "      <td>34</td>\n",
              "      <td>0.049383</td>\n",
              "      <td>0.0</td>\n",
              "      <td>0.0</td>\n",
              "      <td>0.0</td>\n",
              "      <td>0.0</td>\n",
              "      <td>0.0</td>\n",
              "      <td>0.0</td>\n",
              "      <td>0.071429</td>\n",
              "      <td>0.121951</td>\n",
              "      <td>0.024390</td>\n",
              "      <td>0.038462</td>\n",
              "      <td>0.166667</td>\n",
              "      <td>0.0</td>\n",
              "      <td>0.5</td>\n",
              "      <td>0.0</td>\n",
              "      <td>0.0</td>\n",
              "      <td>0.128205</td>\n",
              "      <td>0.067449</td>\n",
              "      <td>0.124088</td>\n",
              "      <td>0.000000</td>\n",
              "      <td>0.0</td>\n",
              "      <td>0.0</td>\n",
              "    </tr>\n",
              "  </tbody>\n",
              "</table>\n",
              "</div>"
            ],
            "text/plain": [
              "         shop_id  item_id  date_block_num  ...     qmean  ratio_1  ratio_2\n",
              "8861266       45    18454              34  ...  0.333333      0.0      0.0\n",
              "8861267       45    16188              34  ...  0.000000      0.0      0.0\n",
              "8861268       45    15757              34  ...  0.000000      0.0      0.0\n",
              "8861269       45    19648              34  ...  0.000000      0.0      0.0\n",
              "8861270       45      969              34  ...  0.000000      0.0      0.0\n",
              "\n",
              "[5 rows x 46 columns]"
            ]
          },
          "metadata": {
            "tags": []
          },
          "execution_count": 67
        }
      ]
    },
    {
      "cell_type": "markdown",
      "metadata": {
        "id": "uJwTM6l5ZIWZ"
      },
      "source": [
        "We went from 4 simple tables to a single table with a lot of new features that could help our model generalize better to new unseen data."
      ],
      "id": "uJwTM6l5ZIWZ"
    },
    {
      "cell_type": "code",
      "metadata": {
        "id": "EEjrh_RlEBUw"
      },
      "source": [
        "# save augmented dataset\n",
        "sales.to_pickle(drive_location + 'datasets/data.pkl')"
      ],
      "id": "EEjrh_RlEBUw",
      "execution_count": null,
      "outputs": []
    }
  ]
}