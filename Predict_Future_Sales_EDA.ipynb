{
  "nbformat": 4,
  "nbformat_minor": 5,
  "metadata": {
    "kernelspec": {
      "display_name": "Python 3",
      "language": "python",
      "name": "python3"
    },
    "language_info": {
      "codemirror_mode": {
        "name": "ipython",
        "version": 3
      },
      "file_extension": ".py",
      "mimetype": "text/x-python",
      "name": "python",
      "nbconvert_exporter": "python",
      "pygments_lexer": "ipython3",
      "version": "3.8.6"
    },
    "colab": {
      "name": "Predict Future Sales - EDA.ipynb",
      "provenance": [],
      "collapsed_sections": [
        "GFnyFuVvFioB",
        "ZwHztu2shSIu",
        "TQ_omzd5jetY",
        "kPrq7lK7dplx",
        "w1aKjPgoj9Yi",
        "Dm11wDi0CCI9",
        "gtxPd5HNmpp0",
        "0soy2PN0jnHu",
        "1ItmWL39mimM"
      ],
      "include_colab_link": true
    }
  },
  "cells": [
    {
      "cell_type": "markdown",
      "metadata": {
        "id": "view-in-github",
        "colab_type": "text"
      },
      "source": [
        "<a href=\"https://colab.research.google.com/github/pietroventurini/predict-future-sales/blob/grid-v1/Predict_Future_Sales_EDA.ipynb\" target=\"_parent\"><img src=\"https://colab.research.google.com/assets/colab-badge.svg\" alt=\"Open In Colab\"/></a>"
      ]
    },
    {
      "cell_type": "markdown",
      "metadata": {
        "id": "driving-forwarding"
      },
      "source": [
        "# Kaggle competition: Predict Future Sales"
      ],
      "id": "driving-forwarding"
    },
    {
      "cell_type": "markdown",
      "metadata": {
        "id": "Ll_9znW2HvqB"
      },
      "source": [
        "TODO\n",
        "- trattare diversamente items nel test set di cui si ha informazione nel train set da quelli che non compaiono nel train set.\n",
        "- predictions: prima uso _previous value benchmark_ in cui uso vendite del mese di ottobre come proxy di quelle di novembre, poi, senza fare feature engineering provo ad usare un DT model\n",
        "- provare a effettuare clip(0,20) solo alla fine\n",
        "- non mi piace l'approccio di anqitu perché accoppia shop-item se anche uno solo dei due elementi compare in un certo mese... provare piuttusto ad accoppiare shop-elementi solo se tale coppia compare in un certo mese\n",
        "- provare `shuffle=True` con mean encoding\n",
        "- capire perché expanding mean è quello con corr maggiore e KFold minore (provare a tenere il minore invece che il maggiore)\n",
        "\n",
        "[Questo notebook](https://www.kaggle.com/anqitu/feature-engineer-and-model-ensemble-top-10/code) usa date di novembre 2014 come proxy per Nov 2015."
      ],
      "id": "Ll_9znW2HvqB"
    },
    {
      "cell_type": "markdown",
      "metadata": {
        "id": "satellite-peoples"
      },
      "source": [
        "In the [**predict future sales**](https://www.kaggle.com/c/competitive-data-science-predict-future-sales) competition we are working with a time-series dataset consisting of daily sales data. The goal is to predict total sales for every product and store in the next month.\n",
        "\n",
        "We are going to approach the problem in this way:\n",
        "1. **Exploratory data analysis:** take a look at the dataset and perform data cleaning.\n",
        "2. **Feature engineering:** understand which useful information can be extracted from the features.\n",
        "3. **Modelling:** choose a suitable model for the problem.\n",
        "4. **Training:** train the model on the training set\n",
        "5. **Tweaking the model:** tweak the model parameters in order to improve the performances.\n",
        "6. **Model evaluation:** try to predict future sales and evaluate the performances of the model."
      ],
      "id": "satellite-peoples"
    },
    {
      "cell_type": "markdown",
      "metadata": {
        "id": "GFnyFuVvFioB"
      },
      "source": [
        "# Exploratory Data Analysis"
      ],
      "id": "GFnyFuVvFioB"
    },
    {
      "cell_type": "markdown",
      "metadata": {
        "id": "dried-manhattan"
      },
      "source": [
        "\n",
        "\n",
        "Let's start by exploring the content of our dataset. According to the competition description, the training data is provided in 4 different .csv files:\n",
        "\n",
        "- `sales_train.csv` - the training set. Daily historical data from January 2013 to October 2015.\n",
        "- `items.csv` - supplemental information about the items/products.\n",
        "- `item_categories.csv`  - supplemental information about the items categories.\n",
        "- `shops.csv`- supplemental information about the shops.\n",
        "\n",
        "Sales and shops are represented by the following fields:\n",
        "\n",
        "- `ID` - an Id that represents a (Shop, Item) tuple within the test set\n",
        "- `shop_id` - unique identifier of a shop\n",
        "- `item_id` - unique identifier of a product\n",
        "- `item_category_id` - unique identifier of item category\n",
        "- `item_cnt_day` - number of products sold. You are predicting a monthly amount of this measure\n",
        "- `item_price` - current price of an item\n",
        "- `date` - date in format dd/mm/yyyy\n",
        "- `date_block_num` - a consecutive month number, used for convenience. January 2013 is 0, February 2013 is 1,..., October 2015 is 33\n",
        "- `item_name` - name of item\n",
        "- `shop_name` - name of shop\n",
        "- `item_category_name` - name of item category\n",
        "\n",
        "The content of the datasets is in russian, so we may think of translating it into english because many interesting features can be extracted from the names of the products, shops and categories, for instance:\n",
        "- Books - Audio Books\n",
        "- Books - Computer books\n",
        "- Books - …\n",
        "\n",
        "From those names we could build a feature that contains only the top level category. The translation can be done manually using some python libraries (e.g. googletrans), but other competitors have already taken the trouble to translate it for us. Translated datasets can be recognized by the `_en` suffix. However, translation can break the structure of some names (e.g. russian shop names comes in the format `city | type | name`, so by translating them in english we risk to break that structure) and complicate our life when extracting features from them."
      ],
      "id": "dried-manhattan"
    },
    {
      "cell_type": "code",
      "metadata": {
        "id": "equipped-maldives"
      },
      "source": [
        "import numpy as np\n",
        "import pandas as pd\n",
        "import seaborn as sns\n",
        "import matplotlib.pyplot as plt\n",
        "import plotly.express as px\n",
        "\n",
        "import time\n",
        "import gc\n",
        "\n",
        "from sklearn.preprocessing import LabelEncoder\n",
        "from sklearn.model_selection import KFold\n",
        "\n",
        "# Constants\n",
        "RND_SEED = 11\n",
        "Validation = False"
      ],
      "id": "equipped-maldives",
      "execution_count": 1,
      "outputs": []
    },
    {
      "cell_type": "markdown",
      "metadata": {
        "id": "L2Sm6KgUhZLn"
      },
      "source": [
        "### Loading data"
      ],
      "id": "L2Sm6KgUhZLn"
    },
    {
      "cell_type": "code",
      "metadata": {
        "id": "aggressive-theory",
        "colab": {
          "base_uri": "https://localhost:8080/",
          "height": 224
        },
        "outputId": "5ccb8f2d-9b2b-4a52-aab5-593b7c747164"
      },
      "source": [
        "train = pd.read_csv('./datasets/sales_train.csv')\n",
        "items = pd.read_csv('./datasets/items.csv')\n",
        "categories = pd.read_csv('./datasets/item_categories.csv')\n",
        "shops = pd.read_csv('./datasets/shops.csv')\n",
        "test = pd.read_csv('./datasets/test.csv')\n",
        "\n",
        "train.head(5)"
      ],
      "id": "aggressive-theory",
      "execution_count": 2,
      "outputs": [
        {
          "output_type": "execute_result",
          "data": {
            "text/html": [
              "<div>\n",
              "<style scoped>\n",
              "    .dataframe tbody tr th:only-of-type {\n",
              "        vertical-align: middle;\n",
              "    }\n",
              "\n",
              "    .dataframe tbody tr th {\n",
              "        vertical-align: top;\n",
              "    }\n",
              "\n",
              "    .dataframe thead th {\n",
              "        text-align: right;\n",
              "    }\n",
              "</style>\n",
              "<table border=\"1\" class=\"dataframe\">\n",
              "  <thead>\n",
              "    <tr style=\"text-align: right;\">\n",
              "      <th></th>\n",
              "      <th>date</th>\n",
              "      <th>date_block_num</th>\n",
              "      <th>shop_id</th>\n",
              "      <th>item_id</th>\n",
              "      <th>item_price</th>\n",
              "      <th>item_cnt_day</th>\n",
              "    </tr>\n",
              "  </thead>\n",
              "  <tbody>\n",
              "    <tr>\n",
              "      <th>0</th>\n",
              "      <td>02.01.2013</td>\n",
              "      <td>0</td>\n",
              "      <td>59</td>\n",
              "      <td>22154</td>\n",
              "      <td>999.00</td>\n",
              "      <td>1.0</td>\n",
              "    </tr>\n",
              "    <tr>\n",
              "      <th>1</th>\n",
              "      <td>03.01.2013</td>\n",
              "      <td>0</td>\n",
              "      <td>25</td>\n",
              "      <td>2552</td>\n",
              "      <td>899.00</td>\n",
              "      <td>1.0</td>\n",
              "    </tr>\n",
              "    <tr>\n",
              "      <th>2</th>\n",
              "      <td>05.01.2013</td>\n",
              "      <td>0</td>\n",
              "      <td>25</td>\n",
              "      <td>2552</td>\n",
              "      <td>899.00</td>\n",
              "      <td>-1.0</td>\n",
              "    </tr>\n",
              "    <tr>\n",
              "      <th>3</th>\n",
              "      <td>06.01.2013</td>\n",
              "      <td>0</td>\n",
              "      <td>25</td>\n",
              "      <td>2554</td>\n",
              "      <td>1709.05</td>\n",
              "      <td>1.0</td>\n",
              "    </tr>\n",
              "    <tr>\n",
              "      <th>4</th>\n",
              "      <td>15.01.2013</td>\n",
              "      <td>0</td>\n",
              "      <td>25</td>\n",
              "      <td>2555</td>\n",
              "      <td>1099.00</td>\n",
              "      <td>1.0</td>\n",
              "    </tr>\n",
              "  </tbody>\n",
              "</table>\n",
              "</div>"
            ],
            "text/plain": [
              "         date  date_block_num  shop_id  item_id  item_price  item_cnt_day\n",
              "0  02.01.2013               0       59    22154      999.00           1.0\n",
              "1  03.01.2013               0       25     2552      899.00           1.0\n",
              "2  05.01.2013               0       25     2552      899.00          -1.0\n",
              "3  06.01.2013               0       25     2554     1709.05           1.0\n",
              "4  15.01.2013               0       25     2555     1099.00           1.0"
            ]
          },
          "metadata": {
            "tags": []
          },
          "execution_count": 2
        }
      ]
    },
    {
      "cell_type": "code",
      "metadata": {
        "id": "descending-villa",
        "colab": {
          "base_uri": "https://localhost:8080/"
        },
        "outputId": "7dc46a9e-a040-412b-8882-6a84ea6a893d"
      },
      "source": [
        "print(\"\\n-----------Information-----------\")\n",
        "print(train.info())\n",
        "print(\"\\n----------Null values-----------\")\n",
        "print(train.isnull().sum())\n",
        "print(\"\\n----------Shape of Data----------\")\n",
        "print(train.shape)"
      ],
      "id": "descending-villa",
      "execution_count": 3,
      "outputs": [
        {
          "output_type": "stream",
          "text": [
            "\n",
            "-----------Information-----------\n",
            "<class 'pandas.core.frame.DataFrame'>\n",
            "RangeIndex: 2935849 entries, 0 to 2935848\n",
            "Data columns (total 6 columns):\n",
            " #   Column          Dtype  \n",
            "---  ------          -----  \n",
            " 0   date            object \n",
            " 1   date_block_num  int64  \n",
            " 2   shop_id         int64  \n",
            " 3   item_id         int64  \n",
            " 4   item_price      float64\n",
            " 5   item_cnt_day    float64\n",
            "dtypes: float64(2), int64(3), object(1)\n",
            "memory usage: 134.4+ MB\n",
            "None\n",
            "\n",
            "----------Null values-----------\n",
            "date              0\n",
            "date_block_num    0\n",
            "shop_id           0\n",
            "item_id           0\n",
            "item_price        0\n",
            "item_cnt_day      0\n",
            "dtype: int64\n",
            "\n",
            "----------Shape of Data----------\n",
            "(2935849, 6)\n"
          ],
          "name": "stdout"
        }
      ]
    },
    {
      "cell_type": "markdown",
      "metadata": {
        "id": "ZwHztu2shSIu"
      },
      "source": [
        "### Downcasting"
      ],
      "id": "ZwHztu2shSIu"
    },
    {
      "cell_type": "markdown",
      "metadata": {
        "id": "behind-phase"
      },
      "source": [
        "As we can see from the information block, the training set is 134.4+ MB in size, so, in order to reduce the memory occupation, we can downcast the dataframe from _int64_ and _float64_ to _int16_ and _float32_."
      ],
      "id": "behind-phase"
    },
    {
      "cell_type": "code",
      "metadata": {
        "id": "antique-gender",
        "colab": {
          "base_uri": "https://localhost:8080/"
        },
        "outputId": "490e92e5-9207-47c0-d3c1-d375ff8a8dd8"
      },
      "source": [
        "def downcast(df): \n",
        "    float_cols = [c for c in df if df[c].dtype == 'float64']\n",
        "    int_cols = [c for c in df if df[c].dtype in ['int64', 'int32']]\n",
        "    df[float_cols] = df[float_cols].astype(np.float32)\n",
        "    df[int_cols] = df[int_cols].astype(np.int16)\n",
        "    return df\n",
        "\n",
        "train = downcast(train)\n",
        "train.info()"
      ],
      "id": "antique-gender",
      "execution_count": 4,
      "outputs": [
        {
          "output_type": "stream",
          "text": [
            "<class 'pandas.core.frame.DataFrame'>\n",
            "RangeIndex: 2935849 entries, 0 to 2935848\n",
            "Data columns (total 6 columns):\n",
            " #   Column          Dtype  \n",
            "---  ------          -----  \n",
            " 0   date            object \n",
            " 1   date_block_num  int16  \n",
            " 2   shop_id         int16  \n",
            " 3   item_id         int16  \n",
            " 4   item_price      float32\n",
            " 5   item_cnt_day    float32\n",
            "dtypes: float32(2), int16(3), object(1)\n",
            "memory usage: 61.6+ MB\n"
          ],
          "name": "stdout"
        }
      ]
    },
    {
      "cell_type": "markdown",
      "metadata": {
        "id": "aging-median"
      },
      "source": [
        "We have reduced the size of the training set from 134.4 MB down to 61.6+ MB."
      ],
      "id": "aging-median"
    },
    {
      "cell_type": "markdown",
      "metadata": {
        "id": "zxaw3MAEhfvi"
      },
      "source": [
        "## Data cleaning"
      ],
      "id": "zxaw3MAEhfvi"
    },
    {
      "cell_type": "code",
      "metadata": {
        "colab": {
          "base_uri": "https://localhost:8080/",
          "height": 317
        },
        "id": "FU16DvmShg7r",
        "outputId": "f0f14079-ce4e-4534-9fbf-1fde60bf3297"
      },
      "source": [
        "# remove duplicated rows\n",
        "train = train.drop_duplicates()\n",
        "\n",
        "# view information about prices and sold quantities\n",
        "train[['item_price', 'item_cnt_day']].describe()"
      ],
      "id": "FU16DvmShg7r",
      "execution_count": 5,
      "outputs": [
        {
          "output_type": "execute_result",
          "data": {
            "text/html": [
              "<div>\n",
              "<style scoped>\n",
              "    .dataframe tbody tr th:only-of-type {\n",
              "        vertical-align: middle;\n",
              "    }\n",
              "\n",
              "    .dataframe tbody tr th {\n",
              "        vertical-align: top;\n",
              "    }\n",
              "\n",
              "    .dataframe thead th {\n",
              "        text-align: right;\n",
              "    }\n",
              "</style>\n",
              "<table border=\"1\" class=\"dataframe\">\n",
              "  <thead>\n",
              "    <tr style=\"text-align: right;\">\n",
              "      <th></th>\n",
              "      <th>item_price</th>\n",
              "      <th>item_cnt_day</th>\n",
              "    </tr>\n",
              "  </thead>\n",
              "  <tbody>\n",
              "    <tr>\n",
              "      <th>count</th>\n",
              "      <td>2.935843e+06</td>\n",
              "      <td>2.935843e+06</td>\n",
              "    </tr>\n",
              "    <tr>\n",
              "      <th>mean</th>\n",
              "      <td>8.906237e+02</td>\n",
              "      <td>1.242641e+00</td>\n",
              "    </tr>\n",
              "    <tr>\n",
              "      <th>std</th>\n",
              "      <td>1.726442e+03</td>\n",
              "      <td>2.612216e+00</td>\n",
              "    </tr>\n",
              "    <tr>\n",
              "      <th>min</th>\n",
              "      <td>-1.000000e+00</td>\n",
              "      <td>-2.200000e+01</td>\n",
              "    </tr>\n",
              "    <tr>\n",
              "      <th>25%</th>\n",
              "      <td>2.490000e+02</td>\n",
              "      <td>1.000000e+00</td>\n",
              "    </tr>\n",
              "    <tr>\n",
              "      <th>50%</th>\n",
              "      <td>3.990000e+02</td>\n",
              "      <td>1.000000e+00</td>\n",
              "    </tr>\n",
              "    <tr>\n",
              "      <th>75%</th>\n",
              "      <td>9.990000e+02</td>\n",
              "      <td>1.000000e+00</td>\n",
              "    </tr>\n",
              "    <tr>\n",
              "      <th>max</th>\n",
              "      <td>3.079800e+05</td>\n",
              "      <td>2.169000e+03</td>\n",
              "    </tr>\n",
              "  </tbody>\n",
              "</table>\n",
              "</div>"
            ],
            "text/plain": [
              "         item_price  item_cnt_day\n",
              "count  2.935843e+06  2.935843e+06\n",
              "mean   8.906237e+02  1.242641e+00\n",
              "std    1.726442e+03  2.612216e+00\n",
              "min   -1.000000e+00 -2.200000e+01\n",
              "25%    2.490000e+02  1.000000e+00\n",
              "50%    3.990000e+02  1.000000e+00\n",
              "75%    9.990000e+02  1.000000e+00\n",
              "max    3.079800e+05  2.169000e+03"
            ]
          },
          "metadata": {
            "tags": []
          },
          "execution_count": 5
        }
      ]
    },
    {
      "cell_type": "markdown",
      "metadata": {
        "id": "TuxBNXJICffM"
      },
      "source": [
        "The first thing that catches the eye is the fact that the minimum price and the minimum sold quantity are negative, respectively, the minimum price is -1 and the minimum sold quantity is -22. "
      ],
      "id": "TuxBNXJICffM"
    },
    {
      "cell_type": "markdown",
      "metadata": {
        "id": "TQ_omzd5jetY"
      },
      "source": [
        "### Negative prices"
      ],
      "id": "TQ_omzd5jetY"
    },
    {
      "cell_type": "code",
      "metadata": {
        "colab": {
          "base_uri": "https://localhost:8080/",
          "height": 100
        },
        "id": "MyWv5V1w0Zg3",
        "outputId": "81b8bec6-6755-417f-cc54-15ed2eccb667"
      },
      "source": [
        "# items with price <= 0\n",
        "neg_items = train[train.item_price <= 0]\n",
        "neg_items"
      ],
      "id": "MyWv5V1w0Zg3",
      "execution_count": 6,
      "outputs": [
        {
          "output_type": "execute_result",
          "data": {
            "text/html": [
              "<div>\n",
              "<style scoped>\n",
              "    .dataframe tbody tr th:only-of-type {\n",
              "        vertical-align: middle;\n",
              "    }\n",
              "\n",
              "    .dataframe tbody tr th {\n",
              "        vertical-align: top;\n",
              "    }\n",
              "\n",
              "    .dataframe thead th {\n",
              "        text-align: right;\n",
              "    }\n",
              "</style>\n",
              "<table border=\"1\" class=\"dataframe\">\n",
              "  <thead>\n",
              "    <tr style=\"text-align: right;\">\n",
              "      <th></th>\n",
              "      <th>date</th>\n",
              "      <th>date_block_num</th>\n",
              "      <th>shop_id</th>\n",
              "      <th>item_id</th>\n",
              "      <th>item_price</th>\n",
              "      <th>item_cnt_day</th>\n",
              "    </tr>\n",
              "  </thead>\n",
              "  <tbody>\n",
              "    <tr>\n",
              "      <th>484683</th>\n",
              "      <td>15.05.2013</td>\n",
              "      <td>4</td>\n",
              "      <td>32</td>\n",
              "      <td>2973</td>\n",
              "      <td>-1.0</td>\n",
              "      <td>1.0</td>\n",
              "    </tr>\n",
              "  </tbody>\n",
              "</table>\n",
              "</div>"
            ],
            "text/plain": [
              "              date  date_block_num  shop_id  item_id  item_price  item_cnt_day\n",
              "484683  15.05.2013               4       32     2973        -1.0           1.0"
            ]
          },
          "metadata": {
            "tags": []
          },
          "execution_count": 6
        }
      ]
    },
    {
      "cell_type": "code",
      "metadata": {
        "colab": {
          "base_uri": "https://localhost:8080/",
          "height": 168
        },
        "id": "ViM0BiQud_1g",
        "outputId": "7ff7b663-b039-4a47-f036-9426c4dadeff"
      },
      "source": [
        "# get details of the item with price < 0\n",
        "neg_item = neg_items.iloc[0]\n",
        "items.loc[items['item_id'] == neg_item['item_id']]"
      ],
      "id": "ViM0BiQud_1g",
      "execution_count": 7,
      "outputs": [
        {
          "output_type": "execute_result",
          "data": {
            "text/html": [
              "<div>\n",
              "<style scoped>\n",
              "    .dataframe tbody tr th:only-of-type {\n",
              "        vertical-align: middle;\n",
              "    }\n",
              "\n",
              "    .dataframe tbody tr th {\n",
              "        vertical-align: top;\n",
              "    }\n",
              "\n",
              "    .dataframe thead th {\n",
              "        text-align: right;\n",
              "    }\n",
              "</style>\n",
              "<table border=\"1\" class=\"dataframe\">\n",
              "  <thead>\n",
              "    <tr style=\"text-align: right;\">\n",
              "      <th></th>\n",
              "      <th>item_name</th>\n",
              "      <th>item_id</th>\n",
              "      <th>item_category_id</th>\n",
              "    </tr>\n",
              "  </thead>\n",
              "  <tbody>\n",
              "    <tr>\n",
              "      <th>2973</th>\n",
              "      <td>DmC Devil May Cry [PS3, русские субтитры]</td>\n",
              "      <td>2973</td>\n",
              "      <td>19</td>\n",
              "    </tr>\n",
              "  </tbody>\n",
              "</table>\n",
              "</div>"
            ],
            "text/plain": [
              "                                      item_name  item_id  item_category_id\n",
              "2973  DmC Devil May Cry [PS3, русские субтитры]     2973                19"
            ]
          },
          "metadata": {
            "tags": []
          },
          "execution_count": 7
        }
      ]
    },
    {
      "cell_type": "markdown",
      "metadata": {
        "id": "IorOnd5k0pRv"
      },
      "source": [
        "Fortunately, there is only one item with a negative price. We could replace it with the median of the prices, but let's try to be more precise. The item in question is a PS3 game. Typically, game prices decreases over time from their release date, and tend to be the same among different sellers. Therefore, let's see if other shops sold the same item in that date (extending the search to the same week or month, if necessary), and use that price as a proxy for our missing value. Otherwise, we could average the price for that item from the same shop in the next few days."
      ],
      "id": "IorOnd5k0pRv"
    },
    {
      "cell_type": "code",
      "metadata": {
        "colab": {
          "base_uri": "https://localhost:8080/",
          "height": 193
        },
        "id": "Ueyd4R1FUWVX",
        "outputId": "855abb7a-c5bb-4480-977d-ed9e98dd4fd7"
      },
      "source": [
        "train[(train['item_id'] == neg_item['item_id']) & (train['date'] == neg_item['date'])]"
      ],
      "id": "Ueyd4R1FUWVX",
      "execution_count": 8,
      "outputs": [
        {
          "output_type": "execute_result",
          "data": {
            "text/html": [
              "<div>\n",
              "<style scoped>\n",
              "    .dataframe tbody tr th:only-of-type {\n",
              "        vertical-align: middle;\n",
              "    }\n",
              "\n",
              "    .dataframe tbody tr th {\n",
              "        vertical-align: top;\n",
              "    }\n",
              "\n",
              "    .dataframe thead th {\n",
              "        text-align: right;\n",
              "    }\n",
              "</style>\n",
              "<table border=\"1\" class=\"dataframe\">\n",
              "  <thead>\n",
              "    <tr style=\"text-align: right;\">\n",
              "      <th></th>\n",
              "      <th>date</th>\n",
              "      <th>date_block_num</th>\n",
              "      <th>shop_id</th>\n",
              "      <th>item_id</th>\n",
              "      <th>item_price</th>\n",
              "      <th>item_cnt_day</th>\n",
              "    </tr>\n",
              "  </thead>\n",
              "  <tbody>\n",
              "    <tr>\n",
              "      <th>453034</th>\n",
              "      <td>15.05.2013</td>\n",
              "      <td>4</td>\n",
              "      <td>25</td>\n",
              "      <td>2973</td>\n",
              "      <td>1249.5</td>\n",
              "      <td>1.0</td>\n",
              "    </tr>\n",
              "    <tr>\n",
              "      <th>469026</th>\n",
              "      <td>15.05.2013</td>\n",
              "      <td>4</td>\n",
              "      <td>46</td>\n",
              "      <td>2973</td>\n",
              "      <td>1249.5</td>\n",
              "      <td>1.0</td>\n",
              "    </tr>\n",
              "    <tr>\n",
              "      <th>469951</th>\n",
              "      <td>15.05.2013</td>\n",
              "      <td>4</td>\n",
              "      <td>45</td>\n",
              "      <td>2973</td>\n",
              "      <td>1249.0</td>\n",
              "      <td>1.0</td>\n",
              "    </tr>\n",
              "    <tr>\n",
              "      <th>484683</th>\n",
              "      <td>15.05.2013</td>\n",
              "      <td>4</td>\n",
              "      <td>32</td>\n",
              "      <td>2973</td>\n",
              "      <td>-1.0</td>\n",
              "      <td>1.0</td>\n",
              "    </tr>\n",
              "  </tbody>\n",
              "</table>\n",
              "</div>"
            ],
            "text/plain": [
              "              date  date_block_num  shop_id  item_id  item_price  item_cnt_day\n",
              "453034  15.05.2013               4       25     2973      1249.5           1.0\n",
              "469026  15.05.2013               4       46     2973      1249.5           1.0\n",
              "469951  15.05.2013               4       45     2973      1249.0           1.0\n",
              "484683  15.05.2013               4       32     2973        -1.0           1.0"
            ]
          },
          "metadata": {
            "tags": []
          },
          "execution_count": 8
        }
      ]
    },
    {
      "cell_type": "code",
      "metadata": {
        "id": "gry4PU3uYLY4"
      },
      "source": [
        "# set the product price to that value\n",
        "train.loc[train.item_price <= 0, 'item_price'] = 1249.0"
      ],
      "id": "gry4PU3uYLY4",
      "execution_count": 9,
      "outputs": []
    },
    {
      "cell_type": "markdown",
      "metadata": {
        "id": "kPrq7lK7dplx"
      },
      "source": [
        "### Negative quantities sold\n",
        "\n",
        "Let's now deal with negative quantities sold. By looking at some of the discussions on the competition page, I've seen that many people considered negative values for `item_cnt_day` as returned items. Let's stick to that interpretation and set them equal to zero."
      ],
      "id": "kPrq7lK7dplx"
    },
    {
      "cell_type": "code",
      "metadata": {
        "id": "vs0XLKs9eU1r"
      },
      "source": [
        "train.loc[train.item_cnt_day < 0, 'item_cnt_day'] = 0"
      ],
      "id": "vs0XLKs9eU1r",
      "execution_count": 10,
      "outputs": []
    },
    {
      "cell_type": "markdown",
      "metadata": {
        "id": "w1aKjPgoj9Yi"
      },
      "source": [
        "### Outliers\n",
        "\n",
        "Let's take a look at the distributions of prices and quantities."
      ],
      "id": "w1aKjPgoj9Yi"
    },
    {
      "cell_type": "code",
      "metadata": {
        "colab": {
          "base_uri": "https://localhost:8080/",
          "height": 54
        },
        "id": "Rvc9PNJgleyV",
        "outputId": "e514928f-e169-4913-a58d-35b136413f42"
      },
      "source": [
        "fig, axs = plt.subplots(1, 2, figsize=(22,4))\n",
        "sns.boxplot(x='item_price', data=train, ax=axs[0])\n",
        "sns.boxplot(x='item_cnt_day', data=train, ax=axs[1])\n",
        "axs[0].set_title('Boxplot of item_price')\n",
        "axs[1].set_title('Boxplot of item_cnt_day')\n",
        "plt.show()"
      ],
      "id": "Rvc9PNJgleyV",
      "execution_count": 11,
      "outputs": [
        {
          "output_type": "display_data",
          "data": {
            "image/png": "[encoded data removed]",
            "text/plain": [
              "<Figure size 1584x288 with 2 Axes>"
            ]
          },
          "metadata": {
            "tags": [],
            "needs_background": "light"
          }
        }
      ]
    },
    {
      "cell_type": "markdown",
      "metadata": {
        "id": "VnRVpVi6z8KG"
      },
      "source": [
        "First of all, there is an item with a very large price that we should inspect. Similarly there are few items with a large number of units sold in a single day."
      ],
      "id": "VnRVpVi6z8KG"
    },
    {
      "cell_type": "code",
      "metadata": {
        "colab": {
          "base_uri": "https://localhost:8080/"
        },
        "id": "HEdbZQ5TqJXf",
        "outputId": "8c52e567-0efc-439f-b783-3c9a3b61a417"
      },
      "source": [
        "# most expensive item\n",
        "train.loc[train.item_price.idxmax()]"
      ],
      "id": "HEdbZQ5TqJXf",
      "execution_count": 12,
      "outputs": [
        {
          "output_type": "execute_result",
          "data": {
            "text/plain": [
              "date              13.12.2013\n",
              "date_block_num            11\n",
              "shop_id                   12\n",
              "item_id                 6066\n",
              "item_price            307980\n",
              "item_cnt_day               1\n",
              "Name: 1163158, dtype: object"
            ]
          },
          "metadata": {
            "tags": []
          },
          "execution_count": 12
        }
      ]
    },
    {
      "cell_type": "code",
      "metadata": {
        "colab": {
          "base_uri": "https://localhost:8080/"
        },
        "id": "acU_68Dbr2z7",
        "outputId": "a7e3cf1a-dc39-4426-aae1-ad625a7e99ae"
      },
      "source": [
        "# most sold item in a day\n",
        "train.loc[train.item_cnt_day.idxmax()]"
      ],
      "id": "acU_68Dbr2z7",
      "execution_count": 13,
      "outputs": [
        {
          "output_type": "execute_result",
          "data": {
            "text/plain": [
              "date              28.10.2015\n",
              "date_block_num            33\n",
              "shop_id                   12\n",
              "item_id                11373\n",
              "item_price          0.908714\n",
              "item_cnt_day            2169\n",
              "Name: 2909818, dtype: object"
            ]
          },
          "metadata": {
            "tags": []
          },
          "execution_count": 13
        }
      ]
    },
    {
      "cell_type": "code",
      "metadata": {
        "colab": {
          "base_uri": "https://localhost:8080/",
          "height": 562
        },
        "id": "smtoxaR60hL-",
        "outputId": "1e841e84-f985-408a-bb49-763671d7b4c5"
      },
      "source": [
        "fig = px.scatter(train.loc[train.item_id == 11373], x='date', y='item_cnt_day', title=\"Quantities of item #11373 (Boxberry delivery) sold every day\")\n",
        "fig.show()"
      ],
      "id": "smtoxaR60hL-",
      "execution_count": 14,
      "outputs": [
        {
          "output_type": "display_data",
          "data": {
            "text/html": [
              "<html>\n",
              "<head><meta charset=\"utf-8\" /></head>\n",
              "<body>\n",
              "    <div>\n",
              "            <script src=\"https://cdnjs.cloudflare.com/ajax/libs/mathjax/2.7.5/MathJax.js?config=TeX-AMS-MML_SVG\"></script><script type=\"text/javascript\">if (window.MathJax) {MathJax.Hub.Config({SVG: {font: \"STIX-Web\"}});}</script>\n",
              "                <script type=\"text/javascript\">window.PlotlyConfig = {MathJaxConfig: 'local'};</script>\n",
              "        <script src=\"https://cdn.plot.ly/plotly-latest.min.js\"></script>    \n",
              "            <div id=\"c64271bc-c829-43b0-a328-cab92cec9388\" class=\"plotly-graph-div\" style=\"height:525px; width:100%;\"></div>\n",
              "            <script type=\"text/javascript\">\n",
              "                \n",
              "                    window.PLOTLYENV=window.PLOTLYENV || {};\n",
              "                    \n",
              "                if (document.getElementById(\"c64271bc-c829-43b0-a328-cab92cec9388\")) {\n",
              "                    Plotly.newPlot(\n",
              "                        'c64271bc-c829-43b0-a328-cab92cec9388',\n",
              "                        [{\"hoverlabel\": {\"namelength\": 0}, \"hovertemplate\": \"date=%{x}<br>item_cnt_day=%{y}\", \"legendgroup\": \"\", \"marker\": {\"color\": \"#636efa\", \"symbol\": \"circle\"}, \"mode\": \"markers\", \"name\": \"\", \"showlegend\": false, \"type\": \"scatter\", \"x\": [\"08.01.2013\", \"31.01.2013\", \"01.02.2013\", \"04.02.2013\", \"29.03.2013\", \"27.03.2013\", \"14.03.2013\", \"13.03.2013\", \"12.03.2013\", \"11.03.2013\", \"02.04.2013\", \"05.04.2013\", \"15.04.2013\", \"22.04.2013\", \"25.04.2013\", \"27.05.2013\", \"22.05.2013\", \"21.05.2013\", \"20.05.2013\", \"15.05.2013\", \"07.05.2013\", \"26.06.2013\", \"20.06.2013\", \"19.06.2013\", \"18.06.2013\", \"17.06.2013\", \"13.06.2013\", \"10.06.2013\", \"08.06.2013\", \"05.06.2013\", \"04.06.2013\", \"29.07.2013\", \"17.07.2013\", \"02.07.2013\", \"05.07.2013\", \"08.07.2013\", \"09.07.2013\", \"15.07.2013\", \"18.07.2013\", \"29.08.2013\", \"26.08.2013\", \"21.08.2013\", \"19.08.2013\", \"15.08.2013\", \"10.08.2013\", \"06.08.2013\", \"01.08.2013\", \"30.09.2013\", \"28.09.2013\", \"26.09.2013\", \"20.09.2013\", \"19.09.2013\", \"18.09.2013\", \"17.09.2013\", \"14.09.2013\", \"12.09.2013\", \"11.09.2013\", \"10.09.2013\", \"07.09.2013\", \"06.09.2013\", \"04.09.2013\", \"03.09.2013\", \"01.09.2013\", \"29.10.2013\", \"03.10.2013\", \"07.10.2013\", \"08.10.2013\", \"10.10.2013\", \"14.10.2013\", \"15.10.2013\", \"16.10.2013\", \"21.10.2013\", \"23.10.2013\", \"24.10.2013\", \"02.11.2013\", \"05.11.2013\", \"07.11.2013\", \"08.11.2013\", \"16.11.2013\", \"19.11.2013\", \"21.11.2013\", \"22.11.2013\", \"26.11.2013\", \"28.11.2013\", \"29.11.2013\", \"25.11.2013\", \"26.12.2013\", \"23.12.2013\", \"03.12.2013\", \"10.12.2013\", \"11.12.2013\", \"13.12.2013\", \"16.12.2013\", \"17.12.2013\", \"19.12.2013\", \"05.12.2013\", \"29.01.2014\", \"28.01.2014\", \"23.01.2014\", \"22.01.2014\", \"20.01.2014\", \"17.01.2014\", \"15.01.2014\", \"14.01.2014\", \"13.01.2014\", \"09.01.2014\", \"08.01.2014\", \"03.01.2014\", \"20.02.2014\", \"21.02.2014\", \"24.02.2014\", \"25.02.2014\", \"26.02.2014\", \"27.02.2014\", \"28.02.2014\", \"17.02.2014\", \"14.02.2014\", \"08.02.2014\", \"12.02.2014\", \"03.02.2014\", \"04.02.2014\", \"05.02.2014\", \"06.02.2014\", \"01.03.2014\", \"03.03.2014\", \"04.03.2014\", \"05.03.2014\", \"11.03.2014\", \"13.03.2014\", \"17.03.2014\", \"20.03.2014\", \"21.03.2014\", \"24.03.2014\", \"26.03.2014\", \"28.03.2014\", \"31.03.2014\", \"18.03.2014\", \"29.04.2014\", \"28.04.2014\", \"24.04.2014\", \"23.04.2014\", \"22.04.2014\", \"21.04.2014\", \"18.04.2014\", \"17.04.2014\", \"16.04.2014\", \"15.04.2014\", \"11.04.2014\", \"08.04.2014\", \"07.04.2014\", \"03.04.2014\", \"02.04.2014\", \"05.05.2014\", \"06.05.2014\", \"07.05.2014\", \"09.05.2014\", \"12.05.2014\", \"14.05.2014\", \"15.05.2014\", \"20.05.2014\", \"21.05.2014\", \"23.05.2014\", \"24.05.2014\", \"27.05.2014\", \"28.05.2014\", \"30.05.2014\", \"29.05.2014\", \"30.06.2014\", \"24.06.2014\", \"19.06.2014\", \"23.06.2014\", \"03.06.2014\", \"04.06.2014\", \"05.06.2014\", \"09.06.2014\", \"16.06.2014\", \"17.06.2014\", \"18.06.2014\", \"02.06.2014\", \"31.07.2014\", \"30.07.2014\", \"29.07.2014\", \"28.07.2014\", \"24.07.2014\", \"22.07.2014\", \"21.07.2014\", \"19.07.2014\", \"16.07.2014\", \"11.07.2014\", \"09.07.2014\", \"08.07.2014\", \"03.07.2014\", \"02.07.2014\", \"29.08.2014\", \"27.08.2014\", \"26.08.2014\", \"25.08.2014\", \"20.08.2014\", \"19.08.2014\", \"18.08.2014\", \"14.08.2014\", \"12.08.2014\", \"11.08.2014\", \"08.08.2014\", \"07.08.2014\", \"04.08.2014\", \"02.09.2014\", \"03.09.2014\", \"04.09.2014\", \"05.09.2014\", \"08.09.2014\", \"10.09.2014\", \"11.09.2014\", \"12.09.2014\", \"15.09.2014\", \"16.09.2014\", \"17.09.2014\", \"18.09.2014\", \"22.09.2014\", \"23.09.2014\", \"09.09.2014\", \"24.09.2014\", \"25.09.2014\", \"29.09.2014\", \"26.09.2014\", \"27.10.2014\", \"28.10.2014\", \"29.10.2014\", \"30.10.2014\", \"23.10.2014\", \"22.10.2014\", \"20.10.2014\", \"17.10.2014\", \"01.10.2014\", \"02.10.2014\", \"07.10.2014\", \"08.10.2014\", \"09.10.2014\", \"11.10.2014\", \"13.10.2014\", \"14.10.2014\", \"16.10.2014\", \"06.10.2014\", \"28.11.2014\", \"27.11.2014\", \"26.11.2014\", \"25.11.2014\", \"24.11.2014\", \"21.11.2014\", \"20.11.2014\", \"19.11.2014\", \"18.11.2014\", \"17.11.2014\", \"13.11.2014\", \"12.11.2014\", \"10.11.2014\", \"07.11.2014\", \"06.11.2014\", \"05.11.2014\", \"11.11.2014\", \"27.12.2014\", \"26.12.2014\", \"24.12.2014\", \"23.12.2014\", \"22.12.2014\", \"19.12.2014\", \"18.12.2014\", \"17.12.2014\", \"16.12.2014\", \"15.12.2014\", \"12.12.2014\", \"11.12.2014\", \"09.12.2014\", \"08.12.2014\", \"05.12.2014\", \"04.12.2014\", \"03.12.2014\", \"02.12.2014\", \"01.12.2014\", \"29.12.2014\", \"31.12.2014\", \"05.01.2015\", \"12.01.2015\", \"14.01.2015\", \"15.01.2015\", \"19.01.2015\", \"20.01.2015\", \"21.01.2015\", \"22.01.2015\", \"26.01.2015\", \"27.01.2015\", \"28.01.2015\", \"29.01.2015\", \"30.01.2015\", \"18.02.2015\", \"20.02.2015\", \"25.02.2015\", \"26.02.2015\", \"27.02.2015\", \"17.02.2015\", \"16.02.2015\", \"13.02.2015\", \"12.02.2015\", \"10.02.2015\", \"09.02.2015\", \"06.02.2015\", \"05.02.2015\", \"04.02.2015\", \"03.02.2015\", \"02.02.2015\", \"30.03.2015\", \"31.03.2015\", \"27.03.2015\", \"26.03.2015\", \"24.03.2015\", \"25.03.2015\", \"02.03.2015\", \"03.03.2015\", \"05.03.2015\", \"10.03.2015\", \"12.03.2015\", \"13.03.2015\", \"16.03.2015\", \"17.03.2015\", \"18.03.2015\", \"19.03.2015\", \"23.03.2015\", \"13.04.2015\", \"09.04.2015\", \"08.04.2015\", \"07.04.2015\", \"06.04.2015\", \"04.04.2015\", \"03.04.2015\", \"02.04.2015\", \"14.04.2015\", \"01.04.2015\", \"15.04.2015\", \"20.04.2015\", \"16.04.2015\", \"29.04.2015\", \"28.04.2015\", \"27.04.2015\", \"24.04.2015\", \"23.04.2015\", \"22.04.2015\", \"21.04.2015\", \"13.05.2015\", \"14.05.2015\", \"18.05.2015\", \"19.05.2015\", \"20.05.2015\", \"21.05.2015\", \"22.05.2015\", \"25.05.2015\", \"26.05.2015\", \"27.05.2015\", \"28.05.2015\", \"29.05.2015\", \"12.05.2015\", \"06.05.2015\", \"04.05.2015\", \"05.05.2015\", \"16.06.2015\", \"17.06.2015\", \"18.06.2015\", \"19.06.2015\", \"22.06.2015\", \"23.06.2015\", \"24.06.2015\", \"15.06.2015\", \"25.06.2015\", \"30.06.2015\", \"29.06.2015\", \"11.06.2015\", \"10.06.2015\", \"09.06.2015\", \"01.06.2015\", \"02.06.2015\", \"03.06.2015\", \"04.06.2015\", \"05.06.2015\", \"08.06.2015\", \"02.07.2015\", \"01.07.2015\", \"03.07.2015\", \"06.07.2015\", \"07.07.2015\", \"09.07.2015\", \"29.07.2015\", \"28.07.2015\", \"27.07.2015\", \"23.07.2015\", \"22.07.2015\", \"21.07.2015\", \"20.07.2015\", \"17.07.2015\", \"16.07.2015\", \"15.07.2015\", \"14.07.2015\", \"13.07.2015\", \"10.07.2015\", \"10.08.2015\", \"11.08.2015\", \"12.08.2015\", \"13.08.2015\", \"14.08.2015\", \"17.08.2015\", \"18.08.2015\", \"19.08.2015\", \"20.08.2015\", \"21.08.2015\", \"24.08.2015\", \"07.08.2015\", \"25.08.2015\", \"27.08.2015\", \"28.08.2015\", \"31.08.2015\", \"26.08.2015\", \"06.08.2015\", \"04.08.2015\", \"05.08.2015\", \"03.08.2015\", \"18.09.2015\", \"21.09.2015\", \"22.09.2015\", \"23.09.2015\", \"24.09.2015\", \"25.09.2015\", \"28.09.2015\", \"29.09.2015\", \"30.09.2015\", \"17.09.2015\", \"16.09.2015\", \"15.09.2015\", \"14.09.2015\", \"01.09.2015\", \"02.09.2015\", \"03.09.2015\", \"04.09.2015\", \"07.09.2015\", \"08.09.2015\", \"09.09.2015\", \"10.09.2015\", \"11.09.2015\", \"08.10.2015\", \"12.10.2015\", \"13.10.2015\", \"14.10.2015\", \"15.10.2015\", \"16.10.2015\", \"19.10.2015\", \"20.10.2015\", \"22.10.2015\", \"23.10.2015\", \"26.10.2015\", \"27.10.2015\", \"28.10.2015\", \"29.10.2015\", \"07.10.2015\", \"06.10.2015\", \"05.10.2015\", \"02.10.2015\", \"01.10.2015\"], \"xaxis\": \"x\", \"y\": [1.0, 5.0, 1.0, 1.0, 2.0, 1.0, 1.0, 3.0, 12.0, 2.0, 1.0, 3.0, 3.0, 1.0, 1.0, 1.0, 2.0, 1.0, 1.0, 1.0, 1.0, 3.0, 6.0, 2.0, 1.0, 2.0, 6.0, 3.0, 1.0, 1.0, 3.0, 1.0, 1.0, 1.0, 2.0, 1.0, 1.0, 1.0, 1.0, 5.0, 15.0, 1.0, 2.0, 4.0, 2.0, 5.0, 5.0, 2.0, 1.0, 2.0, 1.0, 3.0, 2.0, 2.0, 1.0, 2.0, 2.0, 1.0, 1.0, 1.0, 1.0, 9.0, 2.0, 28.0, 4.0, 6.0, 2.0, 3.0, 1.0, 1.0, 1.0, 1.0, 3.0, 1.0, 1.0, 1.0, 1.0, 4.0, 1.0, 1.0, 5.0, 242.0, 5.0, 5.0, 105.0, 2.0, 1.0, 7.0, 8.0, 10.0, 6.0, 3.0, 18.0, 10.0, 6.0, 8.0, 7.0, 3.0, 3.0, 1.0, 5.0, 2.0, 2.0, 2.0, 7.0, 6.0, 2.0, 6.0, 58.0, 5.0, 20.0, 4.0, 6.0, 8.0, 5.0, 1.0, 1.0, 27.0, 4.0, 3.0, 1.0, 22.0, 18.0, 22.0, 13.0, 1.0, 6.0, 2.0, 1.0, 46.0, 14.0, 27.0, 10.0, 11.0, 1.0, 31.0, 18.0, 1.0, 1.0, 1.0, 1.0, 2.0, 1.0, 2.0, 1.0, 8.0, 26.0, 3.0, 3.0, 1.0, 5.0, 5.0, 4.0, 1.0, 10.0, 4.0, 1.0, 1.0, 6.0, 1.0, 2.0, 6.0, 2.0, 97.0, 7.0, 1.0, 4.0, 1.0, 3.0, 2.0, 4.0, 14.0, 1.0, 4.0, 5.0, 2.0, 4.0, 2.0, 8.0, 3.0, 2.0, 1.0, 3.0, 4.0, 1.0, 1.0, 6.0, 2.0, 3.0, 1.0, 2.0, 2.0, 1.0, 3.0, 1.0, 2.0, 2.0, 6.0, 2.0, 4.0, 3.0, 4.0, 3.0, 4.0, 2.0, 3.0, 2.0, 5.0, 15.0, 1.0, 2.0, 4.0, 1.0, 2.0, 2.0, 1.0, 2.0, 7.0, 3.0, 12.0, 3.0, 11.0, 6.0, 8.0, 11.0, 4.0, 1.0, 4.0, 2.0, 3.0, 3.0, 3.0, 6.0, 3.0, 5.0, 5.0, 10.0, 3.0, 1.0, 3.0, 5.0, 3.0, 4.0, 4.0, 16.0, 7.0, 6.0, 13.0, 3.0, 22.0, 28.0, 23.0, 54.0, 84.0, 8.0, 4.0, 22.0, 1.0, 8.0, 5.0, 6.0, 6.0, 27.0, 6.0, 24.0, 5.0, 11.0, 10.0, 7.0, 30.0, 2.0, 20.0, 8.0, 23.0, 1.0, 7.0, 13.0, 1.0, 41.0, 13.0, 4.0, 11.0, 23.0, 13.0, 5.0, 25.0, 7.0, 5.0, 4.0, 18.0, 10.0, 2.0, 6.0, 4.0, 8.0, 10.0, 20.0, 11.0, 3.0, 7.0, 6.0, 3.0, 10.0, 2.0, 15.0, 2.0, 9.0, 3.0, 2.0, 6.0, 7.0, 2.0, 10.0, 4.0, 6.0, 51.0, 16.0, 4.0, 1.0, 4.0, 12.0, 4.0, 3.0, 13.0, 2.0, 4.0, 4.0, 5.0, 2.0, 1.0, 6.0, 5.0, 2.0, 1.0, 2.0, 61.0, 3.0, 2.0, 28.0, 108.0, 2.0, 1.0, 13.0, 12.0, 8.0, 22.0, 8.0, 13.0, 2.0, 1.0, 539.0, 13.0, 21.0, 31.0, 41.0, 32.0, 12.0, 14.0, 12.0, 1.0, 1.0, 5.0, 4.0, 6.0, 2.0, 9.0, 6.0, 13.0, 15.0, 14.0, 9.0, 3.0, 1.0, 11.0, 14.0, 7.0, 12.0, 12.0, 7.0, 33.0, 5.0, 7.0, 16.0, 1.0, 6.0, 2.0, 95.0, 8.0, 5.0, 4.0, 4.0, 13.0, 7.0, 3.0, 10.0, 6.0, 2.0, 4.0, 10.0, 8.0, 11.0, 2.0, 4.0, 3.0, 2.0, 1.0, 2.0, 4.0, 6.0, 4.0, 2.0, 6.0, 8.0, 1.0, 1.0, 4.0, 6.0, 7.0, 2.0, 1.0, 2.0, 4.0, 5.0, 6.0, 2.0, 5.0, 3.0, 3.0, 8.0, 22.0, 65.0, 11.0, 11.0, 13.0, 8.0, 2.0, 6.0, 2.0, 38.0, 5.0, 4.0, 10.0, 11.0, 5.0, 6.0, 1.0, 1.0, 4.0, 14.0, 9.0, 5.0, 4.0, 3.0, 4.0, 3.0, 3.0, 1.0, 2169.0, 3.0, 2.0, 5.0, 16.0, 2.0, 4.0], \"yaxis\": \"y\"}],\n",
              "                        {\"legend\": {\"tracegroupgap\": 0}, \"template\": {\"data\": {\"bar\": [{\"error_x\": {\"color\": \"#2a3f5f\"}, \"error_y\": {\"color\": \"#2a3f5f\"}, \"marker\": {\"line\": {\"color\": \"#E5ECF6\", \"width\": 0.5}}, \"type\": \"bar\"}], \"barpolar\": [{\"marker\": {\"line\": {\"color\": \"#E5ECF6\", \"width\": 0.5}}, \"type\": \"barpolar\"}], \"carpet\": [{\"aaxis\": {\"endlinecolor\": \"#2a3f5f\", \"gridcolor\": \"white\", \"linecolor\": \"white\", \"minorgridcolor\": \"white\", \"startlinecolor\": \"#2a3f5f\"}, \"baxis\": {\"endlinecolor\": \"#2a3f5f\", \"gridcolor\": \"white\", \"linecolor\": \"white\", \"minorgridcolor\": \"white\", \"startlinecolor\": \"#2a3f5f\"}, \"type\": \"carpet\"}], \"choropleth\": [{\"colorbar\": {\"outlinewidth\": 0, \"ticks\": \"\"}, \"type\": \"choropleth\"}], \"contour\": [{\"colorbar\": {\"outlinewidth\": 0, \"ticks\": \"\"}, \"colorscale\": [[0.0, \"#0d0887\"], [0.1111111111111111, \"#46039f\"], [0.2222222222222222, \"#7201a8\"], [0.3333333333333333, \"#9c179e\"], [0.4444444444444444, \"#bd3786\"], [0.5555555555555556, \"#d8576b\"], [0.6666666666666666, \"#ed7953\"], [0.7777777777777778, \"#fb9f3a\"], [0.8888888888888888, \"#fdca26\"], [1.0, \"#f0f921\"]], \"type\": \"contour\"}], \"contourcarpet\": [{\"colorbar\": {\"outlinewidth\": 0, \"ticks\": \"\"}, \"type\": \"contourcarpet\"}], \"heatmap\": [{\"colorbar\": {\"outlinewidth\": 0, \"ticks\": \"\"}, \"colorscale\": [[0.0, \"#0d0887\"], [0.1111111111111111, \"#46039f\"], [0.2222222222222222, \"#7201a8\"], [0.3333333333333333, \"#9c179e\"], [0.4444444444444444, \"#bd3786\"], [0.5555555555555556, \"#d8576b\"], [0.6666666666666666, \"#ed7953\"], [0.7777777777777778, \"#fb9f3a\"], [0.8888888888888888, \"#fdca26\"], [1.0, \"#f0f921\"]], \"type\": \"heatmap\"}], \"heatmapgl\": [{\"colorbar\": {\"outlinewidth\": 0, \"ticks\": \"\"}, \"colorscale\": [[0.0, \"#0d0887\"], [0.1111111111111111, \"#46039f\"], [0.2222222222222222, \"#7201a8\"], [0.3333333333333333, \"#9c179e\"], [0.4444444444444444, \"#bd3786\"], [0.5555555555555556, \"#d8576b\"], [0.6666666666666666, \"#ed7953\"], [0.7777777777777778, \"#fb9f3a\"], [0.8888888888888888, \"#fdca26\"], [1.0, \"#f0f921\"]], \"type\": \"heatmapgl\"}], \"histogram\": [{\"marker\": {\"colorbar\": {\"outlinewidth\": 0, \"ticks\": \"\"}}, \"type\": \"histogram\"}], \"histogram2d\": [{\"colorbar\": {\"outlinewidth\": 0, \"ticks\": \"\"}, \"colorscale\": [[0.0, \"#0d0887\"], [0.1111111111111111, \"#46039f\"], [0.2222222222222222, \"#7201a8\"], [0.3333333333333333, \"#9c179e\"], [0.4444444444444444, \"#bd3786\"], [0.5555555555555556, \"#d8576b\"], [0.6666666666666666, \"#ed7953\"], [0.7777777777777778, \"#fb9f3a\"], [0.8888888888888888, \"#fdca26\"], [1.0, \"#f0f921\"]], \"type\": \"histogram2d\"}], \"histogram2dcontour\": [{\"colorbar\": {\"outlinewidth\": 0, \"ticks\": \"\"}, \"colorscale\": [[0.0, \"#0d0887\"], [0.1111111111111111, \"#46039f\"], [0.2222222222222222, \"#7201a8\"], [0.3333333333333333, \"#9c179e\"], [0.4444444444444444, \"#bd3786\"], [0.5555555555555556, \"#d8576b\"], [0.6666666666666666, \"#ed7953\"], [0.7777777777777778, \"#fb9f3a\"], [0.8888888888888888, \"#fdca26\"], [1.0, \"#f0f921\"]], \"type\": \"histogram2dcontour\"}], \"mesh3d\": [{\"colorbar\": {\"outlinewidth\": 0, \"ticks\": \"\"}, \"type\": \"mesh3d\"}], \"parcoords\": [{\"line\": {\"colorbar\": {\"outlinewidth\": 0, \"ticks\": \"\"}}, \"type\": \"parcoords\"}], \"pie\": [{\"automargin\": true, \"type\": \"pie\"}], \"scatter\": [{\"marker\": {\"colorbar\": {\"outlinewidth\": 0, \"ticks\": \"\"}}, \"type\": \"scatter\"}], \"scatter3d\": [{\"line\": {\"colorbar\": {\"outlinewidth\": 0, \"ticks\": \"\"}}, \"marker\": {\"colorbar\": {\"outlinewidth\": 0, \"ticks\": \"\"}}, \"type\": \"scatter3d\"}], \"scattercarpet\": [{\"marker\": {\"colorbar\": {\"outlinewidth\": 0, \"ticks\": \"\"}}, \"type\": \"scattercarpet\"}], \"scattergeo\": [{\"marker\": {\"colorbar\": {\"outlinewidth\": 0, \"ticks\": \"\"}}, \"type\": \"scattergeo\"}], \"scattergl\": [{\"marker\": {\"colorbar\": {\"outlinewidth\": 0, \"ticks\": \"\"}}, \"type\": \"scattergl\"}], \"scattermapbox\": [{\"marker\": {\"colorbar\": {\"outlinewidth\": 0, \"ticks\": \"\"}}, \"type\": \"scattermapbox\"}], \"scatterpolar\": [{\"marker\": {\"colorbar\": {\"outlinewidth\": 0, \"ticks\": \"\"}}, \"type\": \"scatterpolar\"}], \"scatterpolargl\": [{\"marker\": {\"colorbar\": {\"outlinewidth\": 0, \"ticks\": \"\"}}, \"type\": \"scatterpolargl\"}], \"scatterternary\": [{\"marker\": {\"colorbar\": {\"outlinewidth\": 0, \"ticks\": \"\"}}, \"type\": \"scatterternary\"}], \"surface\": [{\"colorbar\": {\"outlinewidth\": 0, \"ticks\": \"\"}, \"colorscale\": [[0.0, \"#0d0887\"], [0.1111111111111111, \"#46039f\"], [0.2222222222222222, \"#7201a8\"], [0.3333333333333333, \"#9c179e\"], [0.4444444444444444, \"#bd3786\"], [0.5555555555555556, \"#d8576b\"], [0.6666666666666666, \"#ed7953\"], [0.7777777777777778, \"#fb9f3a\"], [0.8888888888888888, \"#fdca26\"], [1.0, \"#f0f921\"]], \"type\": \"surface\"}], \"table\": [{\"cells\": {\"fill\": {\"color\": \"#EBF0F8\"}, \"line\": {\"color\": \"white\"}}, \"header\": {\"fill\": {\"color\": \"#C8D4E3\"}, \"line\": {\"color\": \"white\"}}, \"type\": \"table\"}]}, \"layout\": {\"annotationdefaults\": {\"arrowcolor\": \"#2a3f5f\", \"arrowhead\": 0, \"arrowwidth\": 1}, \"coloraxis\": {\"colorbar\": {\"outlinewidth\": 0, \"ticks\": \"\"}}, \"colorscale\": {\"diverging\": [[0, \"#8e0152\"], [0.1, \"#c51b7d\"], [0.2, \"#de77ae\"], [0.3, \"#f1b6da\"], [0.4, \"#fde0ef\"], [0.5, \"#f7f7f7\"], [0.6, \"#e6f5d0\"], [0.7, \"#b8e186\"], [0.8, \"#7fbc41\"], [0.9, \"#4d9221\"], [1, \"#276419\"]], \"sequential\": [[0.0, \"#0d0887\"], [0.1111111111111111, \"#46039f\"], [0.2222222222222222, \"#7201a8\"], [0.3333333333333333, \"#9c179e\"], [0.4444444444444444, \"#bd3786\"], [0.5555555555555556, \"#d8576b\"], [0.6666666666666666, \"#ed7953\"], [0.7777777777777778, \"#fb9f3a\"], [0.8888888888888888, \"#fdca26\"], [1.0, \"#f0f921\"]], \"sequentialminus\": [[0.0, \"#0d0887\"], [0.1111111111111111, \"#46039f\"], [0.2222222222222222, \"#7201a8\"], [0.3333333333333333, \"#9c179e\"], [0.4444444444444444, \"#bd3786\"], [0.5555555555555556, \"#d8576b\"], [0.6666666666666666, \"#ed7953\"], [0.7777777777777778, \"#fb9f3a\"], [0.8888888888888888, \"#fdca26\"], [1.0, \"#f0f921\"]]}, \"colorway\": [\"#636efa\", \"#EF553B\", \"#00cc96\", \"#ab63fa\", \"#FFA15A\", \"#19d3f3\", \"#FF6692\", \"#B6E880\", \"#FF97FF\", \"#FECB52\"], \"font\": {\"color\": \"#2a3f5f\"}, \"geo\": {\"bgcolor\": \"white\", \"lakecolor\": \"white\", \"landcolor\": \"#E5ECF6\", \"showlakes\": true, \"showland\": true, \"subunitcolor\": \"white\"}, \"hoverlabel\": {\"align\": \"left\"}, \"hovermode\": \"closest\", \"mapbox\": {\"style\": \"light\"}, \"paper_bgcolor\": \"white\", \"plot_bgcolor\": \"#E5ECF6\", \"polar\": {\"angularaxis\": {\"gridcolor\": \"white\", \"linecolor\": \"white\", \"ticks\": \"\"}, \"bgcolor\": \"#E5ECF6\", \"radialaxis\": {\"gridcolor\": \"white\", \"linecolor\": \"white\", \"ticks\": \"\"}}, \"scene\": {\"xaxis\": {\"backgroundcolor\": \"#E5ECF6\", \"gridcolor\": \"white\", \"gridwidth\": 2, \"linecolor\": \"white\", \"showbackground\": true, \"ticks\": \"\", \"zerolinecolor\": \"white\"}, \"yaxis\": {\"backgroundcolor\": \"#E5ECF6\", \"gridcolor\": \"white\", \"gridwidth\": 2, \"linecolor\": \"white\", \"showbackground\": true, \"ticks\": \"\", \"zerolinecolor\": \"white\"}, \"zaxis\": {\"backgroundcolor\": \"#E5ECF6\", \"gridcolor\": \"white\", \"gridwidth\": 2, \"linecolor\": \"white\", \"showbackground\": true, \"ticks\": \"\", \"zerolinecolor\": \"white\"}}, \"shapedefaults\": {\"line\": {\"color\": \"#2a3f5f\"}}, \"ternary\": {\"aaxis\": {\"gridcolor\": \"white\", \"linecolor\": \"white\", \"ticks\": \"\"}, \"baxis\": {\"gridcolor\": \"white\", \"linecolor\": \"white\", \"ticks\": \"\"}, \"bgcolor\": \"#E5ECF6\", \"caxis\": {\"gridcolor\": \"white\", \"linecolor\": \"white\", \"ticks\": \"\"}}, \"title\": {\"x\": 0.05}, \"xaxis\": {\"automargin\": true, \"gridcolor\": \"white\", \"linecolor\": \"white\", \"ticks\": \"\", \"title\": {\"standoff\": 15}, \"zerolinecolor\": \"white\", \"zerolinewidth\": 2}, \"yaxis\": {\"automargin\": true, \"gridcolor\": \"white\", \"linecolor\": \"white\", \"ticks\": \"\", \"title\": {\"standoff\": 15}, \"zerolinecolor\": \"white\", \"zerolinewidth\": 2}}}, \"title\": {\"text\": \"Quantities of item #11373 (Boxberry delivery) sold every day\"}, \"xaxis\": {\"anchor\": \"y\", \"domain\": [0.0, 1.0], \"title\": {\"text\": \"date\"}}, \"yaxis\": {\"anchor\": \"x\", \"domain\": [0.0, 1.0], \"title\": {\"text\": \"item_cnt_day\"}}},\n",
              "                        {\"responsive\": true}\n",
              "                    ).then(function(){\n",
              "                            \n",
              "var gd = document.getElementById('c64271bc-c829-43b0-a328-cab92cec9388');\n",
              "var x = new MutationObserver(function (mutations, observer) {{\n",
              "        var display = window.getComputedStyle(gd).display;\n",
              "        if (!display || display === 'none') {{\n",
              "            console.log([gd, 'removed!']);\n",
              "            Plotly.purge(gd);\n",
              "            observer.disconnect();\n",
              "        }}\n",
              "}});\n",
              "\n",
              "// Listen for the removal of the full notebook cells\n",
              "var notebookContainer = gd.closest('#notebook-container');\n",
              "if (notebookContainer) {{\n",
              "    x.observe(notebookContainer, {childList: true});\n",
              "}}\n",
              "\n",
              "// Listen for the clearing of the current output cell\n",
              "var outputEl = gd.closest('.output');\n",
              "if (outputEl) {{\n",
              "    x.observe(outputEl, {childList: true});\n",
              "}}\n",
              "\n",
              "                        })\n",
              "                };\n",
              "                \n",
              "            </script>\n",
              "        </div>\n",
              "</body>\n",
              "</html>"
            ]
          },
          "metadata": {
            "tags": []
          }
        }
      ]
    },
    {
      "cell_type": "markdown",
      "metadata": {
        "id": "4TUBzG-zzTJZ"
      },
      "source": [
        "I decided to remove those outliers since\n",
        "1. The item with cost 6066 (which is a product called _\"Radmin 3\"_) has been sold exactly one time on that day only.\n",
        "2. The item sold 2169 times in a single day (that i suspect to be a service rather than a product, because of its name _\"Delivery to the delivery point (Boxberry)\"_) is sold in much smaller quantities in every other date."
      ],
      "id": "4TUBzG-zzTJZ"
    },
    {
      "cell_type": "markdown",
      "metadata": {
        "id": "KKlUIksBmZSf"
      },
      "source": [
        "### Duplicated shops\n",
        "\n",
        "As other participants pointed out, some shops have the same name. The shops list is short enough to be inspected manually so we can find them. If it were longer, we could have applied some fuzzy string matching algorithm on the shops names (e.g. we could have measured similarity between names using the Levenshtein distance) in order to detect similar names. Since there was no further information about the shops other than their name, and since in the test set they appear with only one of the two IDs, I decided to merge together those with the same name, using the IDs in the test set.\n",
        "- 0 ⇒ 57\n",
        "- 1 ⇒ 58\n",
        "- 11 ⇒ 10\n",
        "- 40 ⇒ 39"
      ],
      "id": "KKlUIksBmZSf"
    },
    {
      "cell_type": "code",
      "metadata": {
        "id": "efdoPFiE4kQY"
      },
      "source": [
        "train = train[train.item_price < 100000]\n",
        "train = train[train.item_cnt_day < 1500]"
      ],
      "id": "efdoPFiE4kQY",
      "execution_count": 15,
      "outputs": []
    },
    {
      "cell_type": "code",
      "metadata": {
        "id": "6U0uSAyvvQqi"
      },
      "source": [
        "train.loc[train.shop_id == 0, 'shop_id'] = 57\n",
        "train.loc[train.shop_id == 1, 'shop_id'] = 58\n",
        "train.loc[train.shop_id == 11, 'shop_id'] = 10\n",
        "train.loc[train.shop_id == 40, 'shop_id'] = 39\n",
        "\n",
        "# keep only shops that are present either in the train set or in the test set\n",
        "shops = shops.loc[shops.shop_id.isin(train.shop_id) | shops.shop_id.isin(test.shop_id)]"
      ],
      "id": "6U0uSAyvvQqi",
      "execution_count": 16,
      "outputs": []
    },
    {
      "cell_type": "code",
      "metadata": {
        "colab": {
          "base_uri": "https://localhost:8080/"
        },
        "id": "Zx3OhKBz1OS6",
        "outputId": "cc33c277-ee0f-4cff-caf5-4b419e6f2b30"
      },
      "source": [
        "print('Shops only in the train set:', set(shops.shop_id) - set(test.shop_id))\n",
        "print('Shops only in the test set:', set(shops.shop_id) - set(train.shop_id))"
      ],
      "id": "Zx3OhKBz1OS6",
      "execution_count": 17,
      "outputs": [
        {
          "output_type": "stream",
          "text": [
            "Shops only in the train set: {32, 33, 8, 9, 43, 13, 17, 51, 20, 54, 23, 27, 29, 30}\n",
            "Shops only in the test set: set()\n"
          ],
          "name": "stdout"
        }
      ]
    },
    {
      "cell_type": "code",
      "metadata": {
        "id": "ItUnHa3K0DZ3"
      },
      "source": [
        "## Rimuovere o spostare\n",
        "\n",
        "#sales_by_item = train.pivot_table(values='item_cnt_day', index=['item_id'], columns=['date_block_num'], aggfunc=np.sum, fill_value=0).reset_index()\n",
        "#sales_by_item.columns = sales_by_item.columns.map(str)\n",
        "#sales_by_item = sales_by_item.rename_axis(None, axis=1)\n",
        "#sales_by_item"
      ],
      "id": "ItUnHa3K0DZ3",
      "execution_count": 18,
      "outputs": []
    },
    {
      "cell_type": "markdown",
      "metadata": {
        "id": "Ues4ZeVt9tIG"
      },
      "source": [
        "# Feature engineering"
      ],
      "id": "Ues4ZeVt9tIG"
    },
    {
      "cell_type": "markdown",
      "metadata": {
        "id": "lRFfRJeb91IA"
      },
      "source": [
        "In this section we will try to create features that may help the model to make more accurate predictions about future sales. Remember that we are requested to predict sales for product-store pairs."
      ],
      "id": "lRFfRJeb91IA"
    },
    {
      "cell_type": "markdown",
      "metadata": {
        "id": "Dm11wDi0CCI9"
      },
      "source": [
        "## Shops\n",
        "\n",
        "Let's start by dealing with shops. Each shops is simply described by `shop_name`. By looking at their names, it looks like that every name has the structure `Shop City | Shop Type | Shop Name` (this was pointed out by other competitors who understand russian language). Thanks to this, we can extract those information into separate features."
      ],
      "id": "Dm11wDi0CCI9"
    },
    {
      "cell_type": "code",
      "metadata": {
        "id": "ApV01owvQFNS"
      },
      "source": [
        "# remove non alphanumeric characters and numbers\n",
        "shops['shop_name'] = shops['shop_name'].apply(lambda x: x.lower()).str.replace('[^\\w\\s]', '').str.replace('\\d+','').str.strip()\n",
        "\n",
        "# get city names (first word) \n",
        "shops['shop_city'] = shops['shop_name'].str.split(' ').map(lambda x: x[0])\n",
        "\n",
        "# get shop types\n",
        "shops['shop_type'] = shops['shop_name'].apply(lambda x: 'мтрц' if 'мтрц' in x \n",
        "                         else 'трц' if 'трц' in x \n",
        "                         else 'трк' if 'трк' in x \n",
        "                         else 'тц' if 'тц' in x \n",
        "                         else 'тк' if 'тк' in x \n",
        "                         else np.nan)"
      ],
      "id": "ApV01owvQFNS",
      "execution_count": 19,
      "outputs": []
    },
    {
      "cell_type": "code",
      "metadata": {
        "id": "goaA4hwnu1Pj",
        "colab": {
          "base_uri": "https://localhost:8080/",
          "height": 224
        },
        "outputId": "4d05afb1-538e-4198-aad3-d61606d35993"
      },
      "source": [
        "# add first month to each shop\n",
        "shops = shops.join(train.groupby('shop_id')['date_block_num'].min()).rename(columns={'date_block_num':'shop_first_month'})\n",
        "\n",
        "# add last month to each shop\n",
        "shops = shops.join(train.groupby('shop_id')['date_block_num'].max()).rename(columns={'date_block_num':'shop_last_month'})\n",
        "\n",
        "# label encoding names\n",
        "shops = shops.fillna('NO_DATA')\n",
        "cols_to_encode = ['shop_name','shop_city','shop_type']\n",
        "encoded_cols = [col+'_enc' for col in cols_to_encode]\n",
        "shops[encoded_cols] = shops[cols_to_encode].apply(LabelEncoder().fit_transform)\n",
        "#shops = shops.join(pd.get_dummies(shops[cols_to_encode]).add_suffix('_enc'))\n",
        "\n",
        "shops = shops.drop(columns=cols_to_encode)\n",
        "shops = downcast(shops)\n",
        "shops.head(5)\n",
        "\n",
        "# note: if you want to replace directly the columns with their encoded version, just override them\n",
        "# in that case, to later perform inverse_transform see https://stackoverflow.com/questions/24458645/label-encoding-across-multiple-columns-in-scikit-learn"
      ],
      "id": "goaA4hwnu1Pj",
      "execution_count": 20,
      "outputs": [
        {
          "output_type": "execute_result",
          "data": {
            "text/html": [
              "<div>\n",
              "<style scoped>\n",
              "    .dataframe tbody tr th:only-of-type {\n",
              "        vertical-align: middle;\n",
              "    }\n",
              "\n",
              "    .dataframe tbody tr th {\n",
              "        vertical-align: top;\n",
              "    }\n",
              "\n",
              "    .dataframe thead th {\n",
              "        text-align: right;\n",
              "    }\n",
              "</style>\n",
              "<table border=\"1\" class=\"dataframe\">\n",
              "  <thead>\n",
              "    <tr style=\"text-align: right;\">\n",
              "      <th></th>\n",
              "      <th>shop_id</th>\n",
              "      <th>shop_first_month</th>\n",
              "      <th>shop_last_month</th>\n",
              "      <th>shop_name_enc</th>\n",
              "      <th>shop_city_enc</th>\n",
              "      <th>shop_type_enc</th>\n",
              "    </tr>\n",
              "  </thead>\n",
              "  <tbody>\n",
              "    <tr>\n",
              "      <th>2</th>\n",
              "      <td>2</td>\n",
              "      <td>0</td>\n",
              "      <td>33</td>\n",
              "      <td>0</td>\n",
              "      <td>0</td>\n",
              "      <td>5</td>\n",
              "    </tr>\n",
              "    <tr>\n",
              "      <th>3</th>\n",
              "      <td>3</td>\n",
              "      <td>0</td>\n",
              "      <td>33</td>\n",
              "      <td>1</td>\n",
              "      <td>1</td>\n",
              "      <td>3</td>\n",
              "    </tr>\n",
              "    <tr>\n",
              "      <th>4</th>\n",
              "      <td>4</td>\n",
              "      <td>0</td>\n",
              "      <td>33</td>\n",
              "      <td>2</td>\n",
              "      <td>2</td>\n",
              "      <td>5</td>\n",
              "    </tr>\n",
              "    <tr>\n",
              "      <th>5</th>\n",
              "      <td>5</td>\n",
              "      <td>1</td>\n",
              "      <td>33</td>\n",
              "      <td>3</td>\n",
              "      <td>3</td>\n",
              "      <td>4</td>\n",
              "    </tr>\n",
              "    <tr>\n",
              "      <th>6</th>\n",
              "      <td>6</td>\n",
              "      <td>0</td>\n",
              "      <td>33</td>\n",
              "      <td>4</td>\n",
              "      <td>4</td>\n",
              "      <td>0</td>\n",
              "    </tr>\n",
              "  </tbody>\n",
              "</table>\n",
              "</div>"
            ],
            "text/plain": [
              "   shop_id  shop_first_month  ...  shop_city_enc  shop_type_enc\n",
              "2        2                 0  ...              0              5\n",
              "3        3                 0  ...              1              3\n",
              "4        4                 0  ...              2              5\n",
              "5        5                 1  ...              3              4\n",
              "6        6                 0  ...              4              0\n",
              "\n",
              "[5 rows x 6 columns]"
            ]
          },
          "metadata": {
            "tags": []
          },
          "execution_count": 20
        }
      ]
    },
    {
      "cell_type": "markdown",
      "metadata": {
        "id": "FYkz1BqRVCYV"
      },
      "source": [
        "For every shop in the test set we have data up to the last month in the training set (`date_block_num = 33`). There are some shops that do not pop up in the test set, anyway, they can still be useful to predict certain product sales for other shops."
      ],
      "id": "FYkz1BqRVCYV"
    },
    {
      "cell_type": "code",
      "metadata": {
        "colab": {
          "base_uri": "https://localhost:8080/"
        },
        "id": "6gD32232ISRb",
        "outputId": "f594d157-b75f-4d87-8fe8-261b22167a5b"
      },
      "source": [
        "print(\"Shops that are not in the test set: \", shops.loc[~shops.shop_id.isin(test.shop_id), 'shop_id'].to_list())\n",
        "# uncomment next line to see details about those shops\n",
        "# shops[~shops.shop_id.isin(test.shop_id)]"
      ],
      "id": "6gD32232ISRb",
      "execution_count": 21,
      "outputs": [
        {
          "output_type": "stream",
          "text": [
            "Shops that are not in the test set:  [8, 9, 13, 17, 20, 23, 27, 29, 30, 32, 33, 43, 51, 54]\n"
          ],
          "name": "stdout"
        }
      ]
    },
    {
      "cell_type": "markdown",
      "metadata": {
        "id": "gtxPd5HNmpp0"
      },
      "source": [
        "## Item categories"
      ],
      "id": "gtxPd5HNmpp0"
    },
    {
      "cell_type": "markdown",
      "metadata": {
        "id": "ieMsHmLzeXMC"
      },
      "source": [
        "\n",
        "Categories are described by a name which can have either the form `type - subtype` (e.g. `Книги - Путеводители` which means `books - travel guides`) or a single name (e.g. `Доставка товара` which means `delivery of goods`). Let's split composite category names into:\n",
        "- section\n",
        "- main category name\n",
        "- main sub-category name\n",
        "- secondary sub-category name\n",
        "\n",
        "Here we have to get our hands dirty and deal with each category in detail because not every name has that structure.\n",
        "\n",
        "Note: I decided to translate sections into english for visualization purposes, but note that it was not necessary since later we will perform label encodings."
      ],
      "id": "ieMsHmLzeXMC"
    },
    {
      "cell_type": "code",
      "metadata": {
        "colab": {
          "base_uri": "https://localhost:8080/",
          "height": 430
        },
        "id": "Iddsul8ggx8x",
        "outputId": "d58b5cbf-3d74-436d-cd88-fc54d720138a"
      },
      "source": [
        "# before\n",
        "categories[:10]"
      ],
      "id": "Iddsul8ggx8x",
      "execution_count": 22,
      "outputs": [
        {
          "output_type": "execute_result",
          "data": {
            "text/html": [
              "<div>\n",
              "<style scoped>\n",
              "    .dataframe tbody tr th:only-of-type {\n",
              "        vertical-align: middle;\n",
              "    }\n",
              "\n",
              "    .dataframe tbody tr th {\n",
              "        vertical-align: top;\n",
              "    }\n",
              "\n",
              "    .dataframe thead th {\n",
              "        text-align: right;\n",
              "    }\n",
              "</style>\n",
              "<table border=\"1\" class=\"dataframe\">\n",
              "  <thead>\n",
              "    <tr style=\"text-align: right;\">\n",
              "      <th></th>\n",
              "      <th>item_category_name</th>\n",
              "      <th>item_category_id</th>\n",
              "    </tr>\n",
              "  </thead>\n",
              "  <tbody>\n",
              "    <tr>\n",
              "      <th>0</th>\n",
              "      <td>PC - Гарнитуры/Наушники</td>\n",
              "      <td>0</td>\n",
              "    </tr>\n",
              "    <tr>\n",
              "      <th>1</th>\n",
              "      <td>Аксессуары - PS2</td>\n",
              "      <td>1</td>\n",
              "    </tr>\n",
              "    <tr>\n",
              "      <th>2</th>\n",
              "      <td>Аксессуары - PS3</td>\n",
              "      <td>2</td>\n",
              "    </tr>\n",
              "    <tr>\n",
              "      <th>3</th>\n",
              "      <td>Аксессуары - PS4</td>\n",
              "      <td>3</td>\n",
              "    </tr>\n",
              "    <tr>\n",
              "      <th>4</th>\n",
              "      <td>Аксессуары - PSP</td>\n",
              "      <td>4</td>\n",
              "    </tr>\n",
              "    <tr>\n",
              "      <th>5</th>\n",
              "      <td>Аксессуары - PSVita</td>\n",
              "      <td>5</td>\n",
              "    </tr>\n",
              "    <tr>\n",
              "      <th>6</th>\n",
              "      <td>Аксессуары - XBOX 360</td>\n",
              "      <td>6</td>\n",
              "    </tr>\n",
              "    <tr>\n",
              "      <th>7</th>\n",
              "      <td>Аксессуары - XBOX ONE</td>\n",
              "      <td>7</td>\n",
              "    </tr>\n",
              "    <tr>\n",
              "      <th>8</th>\n",
              "      <td>Билеты (Цифра)</td>\n",
              "      <td>8</td>\n",
              "    </tr>\n",
              "    <tr>\n",
              "      <th>9</th>\n",
              "      <td>Доставка товара</td>\n",
              "      <td>9</td>\n",
              "    </tr>\n",
              "  </tbody>\n",
              "</table>\n",
              "</div>"
            ],
            "text/plain": [
              "        item_category_name  item_category_id\n",
              "0  PC - Гарнитуры/Наушники                 0\n",
              "1         Аксессуары - PS2                 1\n",
              "2         Аксессуары - PS3                 2\n",
              "3         Аксессуары - PS4                 3\n",
              "4         Аксессуары - PSP                 4\n",
              "5      Аксессуары - PSVita                 5\n",
              "6    Аксессуары - XBOX 360                 6\n",
              "7    Аксессуары - XBOX ONE                 7\n",
              "8           Билеты (Цифра)                 8\n",
              "9          Доставка товара                 9"
            ]
          },
          "metadata": {
            "tags": []
          },
          "execution_count": 22
        }
      ]
    },
    {
      "cell_type": "code",
      "metadata": {
        "id": "jX6lQvy3euQq"
      },
      "source": [
        "categories['split'] = categories['item_category_name'].str.split('-')\n",
        "categories['section'] = categories['split'].map(lambda x: x[0].strip())\n",
        "categories['name'] = categories['split'].map(lambda x: x[1].strip() if len(x) > 1 else x[0])\n",
        "categories = categories[['item_category_id', 'section', 'name']]\n",
        "\n",
        "# games\n",
        "categories.loc[26:31, 'sub_name'] = categories.loc[26:32, 'name']\n",
        "categories.loc[26:31, 'name'] = categories.loc[26:32, 'section'].str.split(' ').map(lambda x: x[1])\n",
        "categories.loc[18:31, 'section'] = 'games'\n",
        "\n",
        "# PlayStation stuff\n",
        "is_ps = categories.name.str.contains('PS')\n",
        "categories.loc[is_ps, 'sec_sub_name'] = categories.loc[is_ps, 'name'].map(lambda x: x.split('PS')[1])\n",
        "categories.loc[is_ps, 'sub_name'] = 'PS'\n",
        "\n",
        "# XBOX stuff\n",
        "is_xbox = categories.name.str.contains('XBOX')\n",
        "categories.loc[is_xbox, 'sec_sub_name'] = categories.loc[is_xbox, 'name'].map(lambda x: x.split('XBOX')[1])\n",
        "categories.loc[is_xbox, 'sub_name'] = 'XBOX'\n",
        "\n",
        "# split name - subname\n",
        "categories.loc[45, 'sec_sub_name'] = '1C'\n",
        "categories.loc[43:45, 'sub_name'] = 'audiobooks'\n",
        "categories.loc[55, 'sec_sub_name'] = 'локального'\n",
        "categories.loc[56, 'sec_sub_name'] = 'фирменного'\n",
        "categories.loc[55:56, 'sub_name'] = 'CD'\n",
        "categories.loc[81:82, 'sub_name'] = categories.name.loc[81:82].map(lambda x: x[x.find('(')+1:x.find(')')])\n",
        "\n",
        "# extract subname within brackets e.g. {name: \"Live! (Цифра)\"} --> {sub_name: \"Live!\", sec_sub_name: \"Цифра\"}\n",
        "has_subname = categories.name.str.contains('\\(.*?\\)')\n",
        "categories.loc[has_subname, 'sec_sub_name'] = categories.loc[has_subname, 'name'].map(lambda x: x[x.find('(')+1:x.find(')')])\n",
        "categories.loc[has_subname, 'sub_name'] = categories.loc[has_subname, 'name'].str.split('(').map(lambda x: x[0])\n",
        "\n",
        "# rename sections\n",
        "categories.loc[1:7, 'section'] = 'accessories'\n",
        "categories.loc[8, 'section'] = 'tickets'\n",
        "categories.loc[9, 'section'] = 'delivery of goods'\n",
        "categories.loc[10:17, 'section'] = 'consoles'\n",
        "categories.loc[32:36, 'section'] = 'cards'\n",
        "categories.loc[37:41, 'section'] = 'movies'\n",
        "categories.loc[42:54, 'section'] = 'books'\n",
        "categories.loc[55:60, 'section'] = 'music'\n",
        "categories.loc[61:72, 'section'] = 'gifts'\n",
        "categories.loc[73:78, 'section'] = 'software'\n",
        "categories.loc[81:82, 'section'] = 'disks'\n",
        "categories.loc[83, 'section'] = 'batteries'"
      ],
      "id": "jX6lQvy3euQq",
      "execution_count": 23,
      "outputs": []
    },
    {
      "cell_type": "code",
      "metadata": {
        "colab": {
          "base_uri": "https://localhost:8080/",
          "height": 430
        },
        "id": "nhFiKwq8it7F",
        "outputId": "12a712bc-a99c-4bf2-cc48-3ff2a7f8114d"
      },
      "source": [
        "# after\n",
        "categories[:10]"
      ],
      "id": "nhFiKwq8it7F",
      "execution_count": 24,
      "outputs": [
        {
          "output_type": "execute_result",
          "data": {
            "text/html": [
              "<div>\n",
              "<style scoped>\n",
              "    .dataframe tbody tr th:only-of-type {\n",
              "        vertical-align: middle;\n",
              "    }\n",
              "\n",
              "    .dataframe tbody tr th {\n",
              "        vertical-align: top;\n",
              "    }\n",
              "\n",
              "    .dataframe thead th {\n",
              "        text-align: right;\n",
              "    }\n",
              "</style>\n",
              "<table border=\"1\" class=\"dataframe\">\n",
              "  <thead>\n",
              "    <tr style=\"text-align: right;\">\n",
              "      <th></th>\n",
              "      <th>item_category_id</th>\n",
              "      <th>section</th>\n",
              "      <th>name</th>\n",
              "      <th>sub_name</th>\n",
              "      <th>sec_sub_name</th>\n",
              "    </tr>\n",
              "  </thead>\n",
              "  <tbody>\n",
              "    <tr>\n",
              "      <th>0</th>\n",
              "      <td>0</td>\n",
              "      <td>PC</td>\n",
              "      <td>Гарнитуры/Наушники</td>\n",
              "      <td>NaN</td>\n",
              "      <td>NaN</td>\n",
              "    </tr>\n",
              "    <tr>\n",
              "      <th>1</th>\n",
              "      <td>1</td>\n",
              "      <td>accessories</td>\n",
              "      <td>PS2</td>\n",
              "      <td>PS</td>\n",
              "      <td>2</td>\n",
              "    </tr>\n",
              "    <tr>\n",
              "      <th>2</th>\n",
              "      <td>2</td>\n",
              "      <td>accessories</td>\n",
              "      <td>PS3</td>\n",
              "      <td>PS</td>\n",
              "      <td>3</td>\n",
              "    </tr>\n",
              "    <tr>\n",
              "      <th>3</th>\n",
              "      <td>3</td>\n",
              "      <td>accessories</td>\n",
              "      <td>PS4</td>\n",
              "      <td>PS</td>\n",
              "      <td>4</td>\n",
              "    </tr>\n",
              "    <tr>\n",
              "      <th>4</th>\n",
              "      <td>4</td>\n",
              "      <td>accessories</td>\n",
              "      <td>PSP</td>\n",
              "      <td>PS</td>\n",
              "      <td>P</td>\n",
              "    </tr>\n",
              "    <tr>\n",
              "      <th>5</th>\n",
              "      <td>5</td>\n",
              "      <td>accessories</td>\n",
              "      <td>PSVita</td>\n",
              "      <td>PS</td>\n",
              "      <td>Vita</td>\n",
              "    </tr>\n",
              "    <tr>\n",
              "      <th>6</th>\n",
              "      <td>6</td>\n",
              "      <td>accessories</td>\n",
              "      <td>XBOX 360</td>\n",
              "      <td>XBOX</td>\n",
              "      <td>360</td>\n",
              "    </tr>\n",
              "    <tr>\n",
              "      <th>7</th>\n",
              "      <td>7</td>\n",
              "      <td>accessories</td>\n",
              "      <td>XBOX ONE</td>\n",
              "      <td>XBOX</td>\n",
              "      <td>ONE</td>\n",
              "    </tr>\n",
              "    <tr>\n",
              "      <th>8</th>\n",
              "      <td>8</td>\n",
              "      <td>tickets</td>\n",
              "      <td>Билеты (Цифра)</td>\n",
              "      <td>Билеты</td>\n",
              "      <td>Цифра</td>\n",
              "    </tr>\n",
              "    <tr>\n",
              "      <th>9</th>\n",
              "      <td>9</td>\n",
              "      <td>delivery of goods</td>\n",
              "      <td>Доставка товара</td>\n",
              "      <td>NaN</td>\n",
              "      <td>NaN</td>\n",
              "    </tr>\n",
              "  </tbody>\n",
              "</table>\n",
              "</div>"
            ],
            "text/plain": [
              "   item_category_id            section  ... sub_name sec_sub_name\n",
              "0                 0                 PC  ...      NaN          NaN\n",
              "1                 1        accessories  ...       PS            2\n",
              "2                 2        accessories  ...       PS            3\n",
              "3                 3        accessories  ...       PS            4\n",
              "4                 4        accessories  ...       PS            P\n",
              "5                 5        accessories  ...       PS         Vita\n",
              "6                 6        accessories  ...     XBOX          360\n",
              "7                 7        accessories  ...     XBOX          ONE\n",
              "8                 8            tickets  ...  Билеты         Цифра\n",
              "9                 9  delivery of goods  ...      NaN          NaN\n",
              "\n",
              "[10 rows x 5 columns]"
            ]
          },
          "metadata": {
            "tags": []
          },
          "execution_count": 24
        }
      ]
    },
    {
      "cell_type": "code",
      "metadata": {
        "colab": {
          "base_uri": "https://localhost:8080/",
          "height": 507
        },
        "id": "W2wUoqjOLC0c",
        "outputId": "635f9859-c217-4b80-ca51-000dba8f3a40"
      },
      "source": [
        "# label encoding names\n",
        "categories = categories.fillna('NO_DATA')\n",
        "cols_to_encode = ['section','name','sub_name','sec_sub_name']\n",
        "encoded_cols = ['section_enc','name_enc','sub_name_enc','sec_sub_name_enc']\n",
        "categories[encoded_cols] = categories[cols_to_encode].apply(LabelEncoder().fit_transform)\n",
        "#categories = categories.join(pd.get_dummies(categories[['section','name','sub_name','sec_sub_name']]).add_suffix('_enc'))\n",
        "\n",
        "categories = categories.drop(columns=cols_to_encode)\n",
        "categories = downcast(categories)\n",
        "categories\n",
        "\n",
        "# note: if you want to replace directly the columns with their encoded version, just override them\n",
        "# in that case, to later perform inverse_transform see https://stackoverflow.com/questions/24458645/label-encoding-across-multiple-columns-in-scikit-learn"
      ],
      "id": "W2wUoqjOLC0c",
      "execution_count": 25,
      "outputs": [
        {
          "output_type": "execute_result",
          "data": {
            "text/html": [
              "<div>\n",
              "<style scoped>\n",
              "    .dataframe tbody tr th:only-of-type {\n",
              "        vertical-align: middle;\n",
              "    }\n",
              "\n",
              "    .dataframe tbody tr th {\n",
              "        vertical-align: top;\n",
              "    }\n",
              "\n",
              "    .dataframe thead th {\n",
              "        text-align: right;\n",
              "    }\n",
              "</style>\n",
              "<table border=\"1\" class=\"dataframe\">\n",
              "  <thead>\n",
              "    <tr style=\"text-align: right;\">\n",
              "      <th></th>\n",
              "      <th>item_category_id</th>\n",
              "      <th>section_enc</th>\n",
              "      <th>name_enc</th>\n",
              "      <th>sub_name_enc</th>\n",
              "      <th>sec_sub_name_enc</th>\n",
              "    </tr>\n",
              "  </thead>\n",
              "  <tbody>\n",
              "    <tr>\n",
              "      <th>0</th>\n",
              "      <td>0</td>\n",
              "      <td>0</td>\n",
              "      <td>32</td>\n",
              "      <td>3</td>\n",
              "      <td>7</td>\n",
              "    </tr>\n",
              "    <tr>\n",
              "      <th>1</th>\n",
              "      <td>1</td>\n",
              "      <td>1</td>\n",
              "      <td>12</td>\n",
              "      <td>4</td>\n",
              "      <td>3</td>\n",
              "    </tr>\n",
              "    <tr>\n",
              "      <th>2</th>\n",
              "      <td>2</td>\n",
              "      <td>1</td>\n",
              "      <td>13</td>\n",
              "      <td>4</td>\n",
              "      <td>4</td>\n",
              "    </tr>\n",
              "    <tr>\n",
              "      <th>3</th>\n",
              "      <td>3</td>\n",
              "      <td>1</td>\n",
              "      <td>14</td>\n",
              "      <td>4</td>\n",
              "      <td>5</td>\n",
              "    </tr>\n",
              "    <tr>\n",
              "      <th>4</th>\n",
              "      <td>4</td>\n",
              "      <td>1</td>\n",
              "      <td>16</td>\n",
              "      <td>4</td>\n",
              "      <td>8</td>\n",
              "    </tr>\n",
              "    <tr>\n",
              "      <th>...</th>\n",
              "      <td>...</td>\n",
              "      <td>...</td>\n",
              "      <td>...</td>\n",
              "      <td>...</td>\n",
              "      <td>...</td>\n",
              "    </tr>\n",
              "    <tr>\n",
              "      <th>79</th>\n",
              "      <td>79</td>\n",
              "      <td>14</td>\n",
              "      <td>55</td>\n",
              "      <td>3</td>\n",
              "      <td>7</td>\n",
              "    </tr>\n",
              "    <tr>\n",
              "      <th>80</th>\n",
              "      <td>80</td>\n",
              "      <td>14</td>\n",
              "      <td>28</td>\n",
              "      <td>3</td>\n",
              "      <td>7</td>\n",
              "    </tr>\n",
              "    <tr>\n",
              "      <th>81</th>\n",
              "      <td>81</td>\n",
              "      <td>7</td>\n",
              "      <td>62</td>\n",
              "      <td>19</td>\n",
              "      <td>16</td>\n",
              "    </tr>\n",
              "    <tr>\n",
              "      <th>82</th>\n",
              "      <td>82</td>\n",
              "      <td>7</td>\n",
              "      <td>63</td>\n",
              "      <td>19</td>\n",
              "      <td>17</td>\n",
              "    </tr>\n",
              "    <tr>\n",
              "      <th>83</th>\n",
              "      <td>83</td>\n",
              "      <td>2</td>\n",
              "      <td>64</td>\n",
              "      <td>3</td>\n",
              "      <td>7</td>\n",
              "    </tr>\n",
              "  </tbody>\n",
              "</table>\n",
              "<p>84 rows × 5 columns</p>\n",
              "</div>"
            ],
            "text/plain": [
              "    item_category_id  section_enc  name_enc  sub_name_enc  sec_sub_name_enc\n",
              "0                  0            0        32             3                 7\n",
              "1                  1            1        12             4                 3\n",
              "2                  2            1        13             4                 4\n",
              "3                  3            1        14             4                 5\n",
              "4                  4            1        16             4                 8\n",
              "..               ...          ...       ...           ...               ...\n",
              "79                79           14        55             3                 7\n",
              "80                80           14        28             3                 7\n",
              "81                81            7        62            19                16\n",
              "82                82            7        63            19                17\n",
              "83                83            2        64             3                 7\n",
              "\n",
              "[84 rows x 5 columns]"
            ]
          },
          "metadata": {
            "tags": []
          },
          "execution_count": 25
        }
      ]
    },
    {
      "cell_type": "markdown",
      "metadata": {
        "id": "0soy2PN0jnHu"
      },
      "source": [
        "## Item sales\n",
        "\n",
        "- daily revenue\n",
        "- monthly revenue\n",
        "- lagged features\n",
        "- mean encoded features ✅\n",
        "- Release date\n",
        "- Last month sale\n",
        "- Days on sale\n",
        "- Neighbors (items with id 1000 and 1001 could be somehow similar - genre, type, release date)"
      ],
      "id": "0soy2PN0jnHu"
    },
    {
      "cell_type": "markdown",
      "metadata": {
        "id": "6OsrsZya7eUi"
      },
      "source": [
        "As we've seen so far, there are periods in which no data is available for a certain shop or for a certain item (maybe because it is not available in a certain store), so, what should we do for those cases? Extending the dataset by inlcuding every possible combination of day-shop-item would make the training set reaching over 1B entries."
      ],
      "id": "6OsrsZya7eUi"
    },
    {
      "cell_type": "code",
      "metadata": {
        "id": "0IAaYr-fjoZB",
        "colab": {
          "base_uri": "https://localhost:8080/"
        },
        "outputId": "b8abb60a-cdba-424c-b862-cf8bb0815ae2"
      },
      "source": [
        "print(\"Power set (date ⨯ shop ⨯ item) size is\", len(train.date.unique()) * len(train.shop_id.unique()) * len(train.item_id.unique()))"
      ],
      "id": "0IAaYr-fjoZB",
      "execution_count": 26,
      "outputs": [
        {
          "output_type": "stream",
          "text": [
            "Power set (date ⨯ shop ⨯ item) size is 1262654624\n"
          ],
          "name": "stdout"
        }
      ]
    },
    {
      "cell_type": "markdown",
      "metadata": {
        "id": "4z8fNjJd_at9"
      },
      "source": [
        "If we considered only `date_block_num` instead of `date`, we would end up with ~41M entries, but we would lose information about daily sales, which, intuitively, can turn useful when predicting sales for November 2015."
      ],
      "id": "4z8fNjJd_at9"
    },
    {
      "cell_type": "code",
      "metadata": {
        "id": "IODfMVIX7DCg",
        "colab": {
          "base_uri": "https://localhost:8080/"
        },
        "outputId": "3a07f5e0-44b0-417a-856b-923e2386a4e7"
      },
      "source": [
        "print(\"Power set (date_block_num ⨯ shop ⨯ item) size is\", len(train.date_block_num.unique()) * len(train.shop_id.unique()) * len(train.item_id.unique()))"
      ],
      "id": "IODfMVIX7DCg",
      "execution_count": 27,
      "outputs": [
        {
          "output_type": "stream",
          "text": [
            "Power set (date_block_num ⨯ shop ⨯ item) size is 41518624\n"
          ],
          "name": "stdout"
        }
      ]
    },
    {
      "cell_type": "markdown",
      "metadata": {
        "id": "HEGeluJR0rxe"
      },
      "source": [
        "### [Anqitu's approach](https://www.kaggle.com/anqitu/feature-engineer-and-model-ensemble-top-10/code)\n",
        "\n",
        "In the next script we will consider only the shops that are present both in the training and in the test set. Then, we construct a grid of triplets (`date_block_num`, `shop_id`, `item_id) grouping together, for each month, all the shops and all the items for which we have a record in the training set."
      ],
      "id": "HEGeluJR0rxe"
    },
    {
      "cell_type": "code",
      "metadata": {
        "id": "zZmLYLkPwiqa"
      },
      "source": [
        "# keep in train only sales associated to shops that are also in the test set\n",
        "train = train.merge(test[['shop_id']].drop_duplicates(), how='inner')\n",
        "\n",
        "from itertools import product\n",
        "\n",
        "# create grid of (date_block_num, shop_id, item_id) triplets from train set\n",
        "grid = []\n",
        "\n",
        "for block_num in train['date_block_num'].unique():\n",
        "  mthly_shops = train[train.date_block_num == block_num]['shop_id'].unique()\n",
        "  mthly_items = train[train.date_block_num == block_num]['item_id'].unique()\n",
        "  grid.append(np.array(list(product(*[mthly_shops, mthly_items, [block_num]])), dtype='int32'))\n",
        "\n",
        "sales = pd.DataFrame(np.vstack(grid), columns=['shop_id', 'item_id', 'date_block_num'], dtype=np.int32)\n",
        "\n",
        "# clip target values in [0-20]\n",
        "train['item_cnt_day'] = train['item_cnt_day'].clip(0,20)\n",
        "\n",
        "# get monthly sales for each (shop, item) pair in train set\n",
        "mthly_sales = train.groupby(['shop_id', 'item_id', 'date_block_num'])['item_cnt_day'].sum().reset_index().rename(columns={'item_cnt_day': 'item_cnt_month'})\n",
        "mthly_sales['item_cnt_month'] = mthly_sales['item_cnt_month'].clip(0,20).astype(int)\n",
        "sales = pd.merge(sales, mthly_sales, how='left', on=['shop_id', 'item_id', 'date_block_num']).fillna(0)\n",
        "sales['item_cnt_month'] = sales['item_cnt_month'].astype(int)\n",
        "\n",
        "# get monthly average price for each (shop, item) pair in train set\n",
        "avg_prices = train.groupby(['shop_id', 'item_id', 'date_block_num'])['item_price'].mean().reset_index().rename(columns={'item_price': 'item_avg_price'})\n",
        "sales = pd.merge(sales, avg_prices, how='left', on=['shop_id', 'item_id', 'date_block_num']).fillna(0)\n",
        "\n",
        "sales = downcast(sales)\n",
        "sales = sales.sort_values(['date_block_num', 'shop_id', 'item_id'])"
      ],
      "id": "zZmLYLkPwiqa",
      "execution_count": 28,
      "outputs": []
    },
    {
      "cell_type": "code",
      "metadata": {
        "id": "2LzVIZuaBHIT",
        "colab": {
          "base_uri": "https://localhost:8080/"
        },
        "outputId": "2bac46bf-3f82-498a-c550-8417bf6c1d9f"
      },
      "source": [
        "# merge train with items\n",
        "sales = sales.merge(items[['item_id', 'item_category_id']], on=['item_id'], how='left')\n",
        "\n",
        "# merge test with items\n",
        "test = test.merge(items[['item_id', 'item_category_id']], on=['item_id'], how='left')\n",
        "\n",
        "# merge train with categories\n",
        "sales = sales.merge(categories, on=['item_category_id'], how='left')\n",
        "\n",
        "# merge test with categories\n",
        "test = test.merge(categories, on=['item_category_id'], how='left')\n",
        "\n",
        "# merge train with shops\n",
        "sales = sales.merge(shops, on=['shop_id'], how='left')\n",
        "\n",
        "# merge test with shops\n",
        "test = test.merge(shops, on=['shop_id'], how='left')\n",
        "\n",
        "del grid, mthly_sales, mthly_shops, mthly_items, categories, shops\n",
        "gc.collect()"
      ],
      "id": "2LzVIZuaBHIT",
      "execution_count": 29,
      "outputs": [
        {
          "output_type": "execute_result",
          "data": {
            "text/plain": [
              "15247"
            ]
          },
          "metadata": {
            "tags": []
          },
          "execution_count": 29
        }
      ]
    },
    {
      "cell_type": "markdown",
      "metadata": {
        "id": "1ItmWL39mimM"
      },
      "source": [
        "## Dates"
      ],
      "id": "1ItmWL39mimM"
    },
    {
      "cell_type": "markdown",
      "metadata": {
        "id": "d4ArtluXmsOE"
      },
      "source": [
        "Possible dates features may be: \n",
        "- Weekends and holidays sales (to correct monthly sales)\n",
        "- Number of days in the month (to correct monthly sales)\n",
        "- Month number (for seasonal items)\n",
        "\n",
        "Note that, in our training set, for every date between `2013-01-01` and `2015-10-31`, there exist at least one sale. Recall that the variable `date_block_num` varies over the range 0-33, where 0 corresponds to January 2013 and 33 to October 2015, and we are requested to predict sales for November 2015."
      ],
      "id": "d4ArtluXmsOE"
    },
    {
      "cell_type": "code",
      "metadata": {
        "id": "HP1EZ86fythG"
      },
      "source": [
        "# create dates from sdate (Jan 1, 2013) to edate (Nov 30, 2015)\n",
        "sdate = pd.to_datetime('2013-01-01')\n",
        "edate = pd.to_datetime('2015-11-30')\n",
        "dates = pd.date_range(sdate, edate, freq='d').to_frame(index=False, name='date')\n",
        "\n",
        "# add features\n",
        "dates['year'] = dates['date'].dt.year\n",
        "dates['month'] = dates['date'].dt.month\n",
        "dates['date_block_num'] = (dates['year']-2013) * 12 + dates['month'] - 1\n",
        "dates['weekday'] = dates['date'].dt.weekday\n",
        "dates['is_weekend'] = dates['date'].dt.day_name().map(lambda x: x in ['Saturday', 'Sunday'])\n",
        "\n",
        "# dummies: 0: Monday ... 6: Sunday\n",
        "dates = pd.get_dummies(dates, columns=['weekday']) \n",
        "weekdays = ['weekday_{}'.format(i) for i in range(6+1)]\n",
        "\n",
        "# count days in each month\n",
        "monthly_data = dates.groupby(['year','month','date_block_num'])[weekdays].agg('sum').reset_index()\n",
        "monthly_data['month_length'] = monthly_data[weekdays].sum(axis=1)\n",
        "\n",
        "# count number of weekend (saturdays and sundays) in each month\n",
        "monthly_data['weekend_days'] = dates.groupby(['date_block_num'])[['is_weekend']].agg('sum')\n",
        "\n",
        "# encode year (0: 2013, 1: 2014, 2: 2015)\n",
        "monthly_data['year'] = monthly_data['year'] - 2013\n",
        "\n",
        "# # count days in each month\n",
        "# months_length = pd.DataFrame(dates.groupby(['date_block_num'])[weekdays].agg('sum').sum(axis=1), columns=['month_length']) \n",
        "# dates = dates.join(months_length, on='date_block_num')\n",
        "\n",
        "# # count number of weekend (saturdays and sundays) in each month\n",
        "# weekend_days = dates.groupby(['date_block_num'])[['is_weekend']].agg('sum').rename(columns={'is_weekend':'weekend_days'})\n",
        "# dates = dates.join(weekend_days, on='date_block_num')\n",
        "\n",
        "# # encode year (0: 2013, 1: 2014, 2: 2015)\n",
        "# dates['year'] = dates['year'] - 2013\n",
        "\n",
        "\n",
        "# merge sales and test with monthly data\n",
        "sales = sales.merge(monthly_data[['year','month','date_block_num','month_length','weekend_days']], on='date_block_num', how='left')\n",
        "sales = downcast(sales)\n",
        "\n",
        "test['date_block_num'] = 34\n",
        "test = test.merge(monthly_data[['year','month','date_block_num','month_length','weekend_days']], on='date_block_num', how='left')\n",
        "test = downcast(test)"
      ],
      "id": "HP1EZ86fythG",
      "execution_count": 30,
      "outputs": []
    },
    {
      "cell_type": "code",
      "metadata": {
        "colab": {
          "base_uri": "https://localhost:8080/"
        },
        "id": "DHSrhDq7dBBT",
        "outputId": "4b1f91ad-b313-4eeb-874d-ace03d86a355"
      },
      "source": [
        "del train, dates, monthly_data, weekdays, sdate, edate\n",
        "gc.collect()"
      ],
      "id": "DHSrhDq7dBBT",
      "execution_count": 31,
      "outputs": [
        {
          "output_type": "execute_result",
          "data": {
            "text/plain": [
              "50"
            ]
          },
          "metadata": {
            "tags": []
          },
          "execution_count": 31
        }
      ]
    },
    {
      "cell_type": "code",
      "metadata": {
        "colab": {
          "base_uri": "https://localhost:8080/",
          "height": 224
        },
        "id": "vD159Pb6ZCqC",
        "outputId": "52243434-4fce-4690-c424-8bc769f2d199"
      },
      "source": [
        "sales.head(5)"
      ],
      "id": "vD159Pb6ZCqC",
      "execution_count": 32,
      "outputs": [
        {
          "output_type": "execute_result",
          "data": {
            "text/html": [
              "<div>\n",
              "<style scoped>\n",
              "    .dataframe tbody tr th:only-of-type {\n",
              "        vertical-align: middle;\n",
              "    }\n",
              "\n",
              "    .dataframe tbody tr th {\n",
              "        vertical-align: top;\n",
              "    }\n",
              "\n",
              "    .dataframe thead th {\n",
              "        text-align: right;\n",
              "    }\n",
              "</style>\n",
              "<table border=\"1\" class=\"dataframe\">\n",
              "  <thead>\n",
              "    <tr style=\"text-align: right;\">\n",
              "      <th></th>\n",
              "      <th>shop_id</th>\n",
              "      <th>item_id</th>\n",
              "      <th>date_block_num</th>\n",
              "      <th>item_cnt_month</th>\n",
              "      <th>item_avg_price</th>\n",
              "      <th>item_category_id</th>\n",
              "      <th>section_enc</th>\n",
              "      <th>name_enc</th>\n",
              "      <th>sub_name_enc</th>\n",
              "      <th>sec_sub_name_enc</th>\n",
              "      <th>shop_first_month</th>\n",
              "      <th>shop_last_month</th>\n",
              "      <th>shop_name_enc</th>\n",
              "      <th>shop_city_enc</th>\n",
              "      <th>shop_type_enc</th>\n",
              "      <th>year</th>\n",
              "      <th>month</th>\n",
              "      <th>month_length</th>\n",
              "      <th>weekend_days</th>\n",
              "    </tr>\n",
              "  </thead>\n",
              "  <tbody>\n",
              "    <tr>\n",
              "      <th>0</th>\n",
              "      <td>2</td>\n",
              "      <td>19</td>\n",
              "      <td>0</td>\n",
              "      <td>0</td>\n",
              "      <td>0.0</td>\n",
              "      <td>40</td>\n",
              "      <td>10</td>\n",
              "      <td>5</td>\n",
              "      <td>3</td>\n",
              "      <td>7</td>\n",
              "      <td>0</td>\n",
              "      <td>33</td>\n",
              "      <td>0</td>\n",
              "      <td>0</td>\n",
              "      <td>5</td>\n",
              "      <td>0</td>\n",
              "      <td>1</td>\n",
              "      <td>31</td>\n",
              "      <td>8</td>\n",
              "    </tr>\n",
              "    <tr>\n",
              "      <th>1</th>\n",
              "      <td>2</td>\n",
              "      <td>27</td>\n",
              "      <td>0</td>\n",
              "      <td>1</td>\n",
              "      <td>2499.0</td>\n",
              "      <td>19</td>\n",
              "      <td>8</td>\n",
              "      <td>13</td>\n",
              "      <td>4</td>\n",
              "      <td>4</td>\n",
              "      <td>0</td>\n",
              "      <td>33</td>\n",
              "      <td>0</td>\n",
              "      <td>0</td>\n",
              "      <td>5</td>\n",
              "      <td>0</td>\n",
              "      <td>1</td>\n",
              "      <td>31</td>\n",
              "      <td>8</td>\n",
              "    </tr>\n",
              "    <tr>\n",
              "      <th>2</th>\n",
              "      <td>2</td>\n",
              "      <td>28</td>\n",
              "      <td>0</td>\n",
              "      <td>0</td>\n",
              "      <td>0.0</td>\n",
              "      <td>30</td>\n",
              "      <td>8</td>\n",
              "      <td>11</td>\n",
              "      <td>16</td>\n",
              "      <td>7</td>\n",
              "      <td>0</td>\n",
              "      <td>33</td>\n",
              "      <td>0</td>\n",
              "      <td>0</td>\n",
              "      <td>5</td>\n",
              "      <td>0</td>\n",
              "      <td>1</td>\n",
              "      <td>31</td>\n",
              "      <td>8</td>\n",
              "    </tr>\n",
              "    <tr>\n",
              "      <th>3</th>\n",
              "      <td>2</td>\n",
              "      <td>29</td>\n",
              "      <td>0</td>\n",
              "      <td>0</td>\n",
              "      <td>0.0</td>\n",
              "      <td>23</td>\n",
              "      <td>8</td>\n",
              "      <td>19</td>\n",
              "      <td>6</td>\n",
              "      <td>0</td>\n",
              "      <td>0</td>\n",
              "      <td>33</td>\n",
              "      <td>0</td>\n",
              "      <td>0</td>\n",
              "      <td>5</td>\n",
              "      <td>0</td>\n",
              "      <td>1</td>\n",
              "      <td>31</td>\n",
              "      <td>8</td>\n",
              "    </tr>\n",
              "    <tr>\n",
              "      <th>4</th>\n",
              "      <td>2</td>\n",
              "      <td>32</td>\n",
              "      <td>0</td>\n",
              "      <td>0</td>\n",
              "      <td>0.0</td>\n",
              "      <td>40</td>\n",
              "      <td>10</td>\n",
              "      <td>5</td>\n",
              "      <td>3</td>\n",
              "      <td>7</td>\n",
              "      <td>0</td>\n",
              "      <td>33</td>\n",
              "      <td>0</td>\n",
              "      <td>0</td>\n",
              "      <td>5</td>\n",
              "      <td>0</td>\n",
              "      <td>1</td>\n",
              "      <td>31</td>\n",
              "      <td>8</td>\n",
              "    </tr>\n",
              "  </tbody>\n",
              "</table>\n",
              "</div>"
            ],
            "text/plain": [
              "   shop_id  item_id  date_block_num  ...  month  month_length  weekend_days\n",
              "0        2       19               0  ...      1            31             8\n",
              "1        2       27               0  ...      1            31             8\n",
              "2        2       28               0  ...      1            31             8\n",
              "3        2       29               0  ...      1            31             8\n",
              "4        2       32               0  ...      1            31             8\n",
              "\n",
              "[5 rows x 19 columns]"
            ]
          },
          "metadata": {
            "tags": []
          },
          "execution_count": 32
        }
      ]
    },
    {
      "cell_type": "markdown",
      "metadata": {
        "id": "6d8yYuSgITAM"
      },
      "source": [
        "## Mean encodings"
      ],
      "id": "6d8yYuSgITAM"
    },
    {
      "cell_type": "markdown",
      "metadata": {
        "id": "wB-l-ysQklBR"
      },
      "source": [
        "We will now compute mean encodings for categorical columns using different approaches in order to cope with overfitting:\n",
        "- K-Fold\n",
        "- Leave-One-Out\n",
        "- Smoothing\n",
        "- Expanding mean\n",
        "\n",
        "For each column, we are selecting the encoding with the largest value of the Pearson correlation coefficient with respect to the true target values."
      ],
      "id": "wB-l-ysQklBR"
    },
    {
      "cell_type": "code",
      "metadata": {
        "colab": {
          "base_uri": "https://localhost:8080/"
        },
        "id": "y1XGl9o0Ibgq",
        "outputId": "14f3e383-35dd-47e7-e839-7f5528bf3a42"
      },
      "source": [
        "target = 'item_cnt_month'\n",
        "global_mean = sales[target].mean()\n",
        "y_sales = sales[target].values\n",
        "\n",
        "mean_encoded_cols = ['shop_id', 'item_id', 'item_category_id'] + [x for x in sales.columns if x.endswith('_enc')]\n",
        "\n",
        "for col in mean_encoded_cols:\n",
        "    col_tr = sales[[col] + [target]].copy()\n",
        "    corrcoef = pd.DataFrame(columns=['Cor']) # will contain correlation coefficients of each encoding scheme for the current column\n",
        "\n",
        "    # Mean encodings - KFold\n",
        "    col_tr[col+'_mean_Kfold'] = global_mean\n",
        "    kf = KFold(n_splits=5, shuffle=False)\n",
        "      \n",
        "    # for tr_idx, val_idx in kf.split(col_tr):\n",
        "    #     X_tr, X_val = col_tr.iloc[tr_idx].copy(), col_tr.iloc[val_idx].copy()\n",
        "    #     X_val[col+'_mean_Kfold'] = X_val[col].map(X_tr.groupby(col)[target].mean())\n",
        "    #     col_tr.iloc[val_idx] = X_val\n",
        "    \n",
        "    # one-liner to avoid copy()\n",
        "    for tr_idx, val_idx in kf.split(col_tr):\n",
        "        col_tr.loc[val_idx, col+'_mean_Kfold'] = col_tr.loc[val_idx, col].map(col_tr.iloc[tr_idx].groupby(col)[target].mean())\n",
        "    \n",
        "    col_tr[col+'_mean_Kfold'].fillna(global_mean, inplace=True)\n",
        "    corrcoef.loc[col+'_mean_Kfold'] = np.corrcoef(y_sales, col_tr[col+'_mean_Kfold'])[0][1] # np.corrcoef returns a 2⨉2 matrix \n",
        "    \n",
        "    # Mean encodings - Leave One Out\n",
        "    col_tr[col+'_cnt_month_sum'] = col_tr[col].map(col_tr.groupby(col)[target].sum())\n",
        "    col_tr[col+'_cnt_month_count'] = col_tr[col].map(col_tr.groupby(col)[target].count())\n",
        "    col_tr[col+'_mean_LOO'] = (col_tr[col+'_cnt_month_sum'] - col_tr[target]) / (col_tr[col+'_cnt_month_count'] - 1)\n",
        "    col_tr[col+'_mean_LOO'].fillna(global_mean, inplace=True)\n",
        "    corrcoef.loc[col+'_mean_LOO'] = np.corrcoef(y_sales, col_tr[col+'_mean_LOO'])[0][1]\n",
        "\n",
        "    # Mean encodings - Smoothing\n",
        "    alpha = 100\n",
        "    col_tr[col+'_mean'] = col_tr[col].map(col_tr.groupby(col)[target].mean())\n",
        "    col_tr[col+'_mean_smooth'] = (col_tr[col+'_mean']*col_tr[col+'_cnt_month_count'] + global_mean*alpha) / (col_tr[col+'_cnt_month_count'] + alpha)\n",
        "    col_tr[col+'_mean_smooth'].fillna(global_mean, inplace=True)\n",
        "    corrcoef.loc[col+'_mean_smooth'] = np.corrcoef(y_sales, col_tr[col+'_mean_smooth'])[0][1]\n",
        "\n",
        "    # Mean encodings - Expanding Mean\n",
        "    cumsum = col_tr.groupby(col)[target].cumsum() - col_tr[target]\n",
        "    sumcnt = col_tr.groupby(col).cumcount()\n",
        "    col_tr[col+'_mean_expanding'] = cumsum / sumcnt\n",
        "    col_tr[col+'_mean_expanding'].fillna(global_mean, inplace=True)\n",
        "    corrcoef.loc[col+'_mean_expanding'] = np.corrcoef(y_sales, col_tr[col+'_mean_expanding'])[0][1]\n",
        "\n",
        "    # append mean encoded column with highest correlation to the training set\n",
        "    sales = pd.concat([sales, col_tr[corrcoef['Cor'].idxmax()]], axis=1)\n",
        "\n",
        "    print(corrcoef.sort_values('Cor', ascending=False))"
      ],
      "id": "y1XGl9o0Ibgq",
      "execution_count": 33,
      "outputs": [
        {
          "output_type": "stream",
          "text": [
            "                             Cor\n",
            "shop_id_mean_expanding  0.175150\n",
            "shop_id_mean_smooth     0.175016\n",
            "shop_id_mean_LOO        0.174991\n",
            "shop_id_mean_Kfold      0.172836\n",
            "                             Cor\n",
            "item_id_mean_expanding  0.565665\n",
            "item_id_mean_LOO        0.481724\n",
            "item_id_mean_smooth     0.479641\n",
            "item_id_mean_Kfold      0.312957\n",
            "                                      Cor\n",
            "item_category_id_mean_expanding  0.292890\n",
            "item_category_id_mean_LOO        0.289988\n",
            "item_category_id_mean_smooth     0.289958\n",
            "item_category_id_mean_Kfold      0.270138\n",
            "                                 Cor\n",
            "section_enc_mean_expanding  0.173299\n",
            "section_enc_mean_smooth     0.168440\n",
            "section_enc_mean_LOO        0.168396\n",
            "section_enc_mean_Kfold      0.155141\n",
            "                              Cor\n",
            "name_enc_mean_expanding  0.265414\n",
            "name_enc_mean_LOO        0.260702\n",
            "name_enc_mean_smooth     0.260669\n",
            "name_enc_mean_Kfold      0.238943\n",
            "                                  Cor\n",
            "sub_name_enc_mean_expanding  0.201763\n",
            "sub_name_enc_mean_smooth     0.200803\n",
            "sub_name_enc_mean_LOO        0.200772\n",
            "sub_name_enc_mean_Kfold      0.193559\n",
            "                                      Cor\n",
            "sec_sub_name_enc_mean_expanding  0.169859\n",
            "sec_sub_name_enc_mean_smooth     0.160850\n",
            "sec_sub_name_enc_mean_LOO        0.160817\n",
            "sec_sub_name_enc_mean_Kfold      0.145314\n",
            "                                   Cor\n",
            "shop_name_enc_mean_expanding  0.175150\n",
            "shop_name_enc_mean_smooth     0.175016\n",
            "shop_name_enc_mean_LOO        0.174991\n",
            "shop_name_enc_mean_Kfold      0.172836\n",
            "                                   Cor\n",
            "shop_city_enc_mean_expanding  0.120103\n",
            "shop_city_enc_mean_smooth     0.119918\n",
            "shop_city_enc_mean_LOO        0.119897\n",
            "shop_city_enc_mean_Kfold      0.117109\n",
            "                                   Cor\n",
            "shop_type_enc_mean_expanding  0.039478\n",
            "shop_type_enc_mean_smooth     0.037738\n",
            "shop_type_enc_mean_LOO        0.037719\n",
            "shop_type_enc_mean_Kfold      0.034009\n"
          ],
          "name": "stdout"
        }
      ]
    },
    {
      "cell_type": "code",
      "metadata": {
        "id": "cajv2AvbWKiX",
        "colab": {
          "base_uri": "https://localhost:8080/"
        },
        "outputId": "a16b53d4-54a0-43f9-ce98-e9e37b6ddf76"
      },
      "source": [
        "# merge all data in df\n",
        "if not Validation:\n",
        "  test['date_block_num'] = 34\n",
        "  sales = pd.concat([sales, test], axis=0)\n",
        "  sales = sales.drop(columns=['ID'])\n",
        "  del test\n",
        "\n",
        "sales = downcast(sales)\n",
        "\n",
        "# free memory\n",
        "del col_tr\n",
        "gc.collect()"
      ],
      "id": "cajv2AvbWKiX",
      "execution_count": 34,
      "outputs": [
        {
          "output_type": "execute_result",
          "data": {
            "text/plain": [
              "86"
            ]
          },
          "metadata": {
            "tags": []
          },
          "execution_count": 34
        }
      ]
    },
    {
      "cell_type": "markdown",
      "metadata": {
        "id": "FauXw6I_oMME"
      },
      "source": [
        "## Lag features"
      ],
      "id": "FauXw6I_oMME"
    },
    {
      "cell_type": "markdown",
      "metadata": {
        "id": "CUZtqqRyoeRY"
      },
      "source": [
        "We are now going to add lagged features for lags from 1 to 12 months. Those feature could help the model to find interactions between the present and the past (e.g. how much current sales are influenced by last month sales)."
      ],
      "id": "CUZtqqRyoeRY"
    },
    {
      "cell_type": "code",
      "metadata": {
        "id": "gDRjQ1Pi6Fdg"
      },
      "source": [
        "def lag_features(df, features=['item_cnt_month'], lags=[1], period_col='date_block_num', groupby=['shop_id', 'item_id'], agg_fun={}, new_name=None):\n",
        "  \"\"\"Returns the dataframe provided as input\n",
        "  expanded with the the lags of the features specified\n",
        "  \"\"\"\n",
        "  for lag in lags:\n",
        "    df_shifted = df.copy()\n",
        "    grouping_cols = groupby + [period_col]\n",
        "    if agg_fun:\n",
        "      df_shifted = df_shifted.groupby(grouping_cols).agg(agg_fun).reset_index()\n",
        "    if new_name:\n",
        "      new_names = lambda x: '{}_lag_{}'.format(new_name, lag) if x in features else x\n",
        "    else:\n",
        "      new_names = lambda x: '{}_lag_{}'.format(x, lag) if x in features else x\n",
        "    df_shifted[period_col] += lag\n",
        "    df_shifted = df_shifted.rename(columns = new_names)\n",
        "    cols_to_merge = grouping_cols + [col for col in df_shifted.columns if col.endswith('lag_{}'.format(lag))]\n",
        "    df = df.merge(df_shifted[cols_to_merge], on=grouping_cols, how='left').fillna(0)\n",
        "  return df  "
      ],
      "id": "gDRjQ1Pi6Fdg",
      "execution_count": 35,
      "outputs": []
    },
    {
      "cell_type": "code",
      "metadata": {
        "id": "ld3kegsF0pnN"
      },
      "source": [
        "#lags = [x for x in range(1,12+1)]\n",
        "lags = [1,2,12]\n",
        "\n",
        "# delay monthly sales for each (shop,item) pair\n",
        "sales = lag_features(sales, lags=lags, groupby=['shop_id','item_id'])\n",
        "\n",
        "# delay monthly sales for each item independently of shops\n",
        "sales = lag_features(sales, lags=lags, groupby=['item_id'], agg_fun={'item_cnt_month':'mean'}, new_name='item_avg_cnt_month')\n",
        "\n",
        "# delay monthly average prices for each (shop,item) pair\n",
        "sales = lag_features(sales, features=['item_avg_price'], lags=lags, groupby=['shop_id','item_id'], agg_fun={'item_avg_price':'mean'}, new_name='item_shop_avg_price')"
      ],
      "id": "ld3kegsF0pnN",
      "execution_count": 36,
      "outputs": []
    },
    {
      "cell_type": "code",
      "metadata": {
        "colab": {
          "base_uri": "https://localhost:8080/"
        },
        "id": "jMdSCaqA-ddJ",
        "outputId": "be84aa34-3c6d-483e-8c45-5eeb07a4b385"
      },
      "source": [
        "sales.dtypes"
      ],
      "id": "jMdSCaqA-ddJ",
      "execution_count": 37,
      "outputs": [
        {
          "output_type": "execute_result",
          "data": {
            "text/plain": [
              "shop_id                              int16\n",
              "item_id                              int16\n",
              "date_block_num                       int16\n",
              "item_cnt_month                     float32\n",
              "item_avg_price                     float32\n",
              "item_category_id                     int16\n",
              "section_enc                          int16\n",
              "name_enc                             int16\n",
              "sub_name_enc                         int16\n",
              "sec_sub_name_enc                     int16\n",
              "shop_first_month                     int16\n",
              "shop_last_month                      int16\n",
              "shop_name_enc                        int16\n",
              "shop_city_enc                        int16\n",
              "shop_type_enc                        int16\n",
              "year                                 int16\n",
              "month                                int16\n",
              "month_length                         int16\n",
              "weekend_days                         int16\n",
              "shop_id_mean_expanding             float32\n",
              "item_id_mean_expanding             float32\n",
              "item_category_id_mean_expanding    float32\n",
              "section_enc_mean_expanding         float32\n",
              "name_enc_mean_expanding            float32\n",
              "sub_name_enc_mean_expanding        float32\n",
              "sec_sub_name_enc_mean_expanding    float32\n",
              "shop_name_enc_mean_expanding       float32\n",
              "shop_city_enc_mean_expanding       float32\n",
              "shop_type_enc_mean_expanding       float32\n",
              "item_cnt_month_lag_1               float32\n",
              "item_cnt_month_lag_2               float32\n",
              "item_cnt_month_lag_12              float32\n",
              "item_avg_cnt_month_lag_1           float32\n",
              "item_avg_cnt_month_lag_2           float32\n",
              "item_avg_cnt_month_lag_12          float32\n",
              "item_shop_avg_price_lag_1          float32\n",
              "item_shop_avg_price_lag_2          float32\n",
              "item_shop_avg_price_lag_12         float32\n",
              "dtype: object"
            ]
          },
          "metadata": {
            "tags": []
          },
          "execution_count": 37
        }
      ]
    },
    {
      "cell_type": "markdown",
      "metadata": {
        "id": "9e8SvL8PeNsH"
      },
      "source": [
        "## Scaling"
      ],
      "id": "9e8SvL8PeNsH"
    },
    {
      "cell_type": "markdown",
      "metadata": {
        "id": "K3mp8EVQ6Ekc"
      },
      "source": [
        "# Model"
      ],
      "id": "K3mp8EVQ6Ekc"
    }
  ]
}